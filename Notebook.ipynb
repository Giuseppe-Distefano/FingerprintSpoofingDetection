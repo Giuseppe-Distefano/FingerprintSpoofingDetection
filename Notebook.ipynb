{
 "cells": [
  {
   "cell_type": "markdown",
   "metadata": {},
   "source": [
    "# 0 - Introduction"
   ]
  },
  {
   "cell_type": "markdown",
   "metadata": {},
   "source": [
    "Import libraries"
   ]
  },
  {
   "cell_type": "code",
   "execution_count": 12,
   "metadata": {},
   "outputs": [],
   "source": [
    "import numpy\n",
    "import scipy.linalg\n",
    "import numpy.linalg\n",
    "import scipy.special\n",
    "import matplotlib.pyplot\n",
    "import seaborn\n",
    "import scipy.optimize"
   ]
  },
  {
   "cell_type": "markdown",
   "metadata": {},
   "source": [
    "Utility functions"
   ]
  },
  {
   "cell_type": "code",
   "execution_count": 2,
   "metadata": {},
   "outputs": [],
   "source": [
    "# ----- Convert an array into a column -----\n",
    "def row_to_column (array):\n",
    "    return array.reshape((array.size, 1))\n",
    "\n",
    "\n",
    "# ----- Convert an array into a row -----\n",
    "def column_to_row (array):\n",
    "    return array.reshape((1, array.size))\n",
    "\n",
    "\n",
    "# ----- Compute mean -----\n",
    "def compute_mean (data):\n",
    "    return data.mean(1)\n",
    "\n",
    "\n",
    "# ----- Compute covariance -----\n",
    "def compute_covariance (data):\n",
    "    mu = compute_mean(data)\n",
    "    dc = data - mu.reshape((mu.size, 1))\n",
    "    cov = numpy.dot(dc, dc.T) / float(data.shape[1])\n",
    "    return cov\n",
    "\n",
    "\n",
    "# ----- Compute Pearson correlation -----\n",
    "def compute_correlation(x, y):\n",
    "    x1_sum = numpy.sum(x)\n",
    "    y1_sum = numpy.sum(y)\n",
    "    x2_sum = numpy.sum(x**2)\n",
    "    y2_sum = numpy.sum(y**2)\n",
    "    cross_product_sum = numpy.sum(x * y.T)\n",
    "    n = x.shape[0]\n",
    "\n",
    "    num = n*cross_product_sum - x1_sum*y1_sum\n",
    "    den = numpy.sqrt((n*x2_sum - x1_sum**2) * (n*y2_sum - y1_sum**2))\n",
    "    return (num/den)\n",
    "\n",
    "\n",
    "# ----- Compute logarithm of probability density function of a Gaussian distribution -----\n",
    "def logpdf_GAU_ND (X, mu, C):\n",
    "    _,det = numpy.linalg.slogdet(C)\n",
    "    inv = numpy.linalg.inv(C)\n",
    "\n",
    "    term1 = -0.5 * X.shape[0] * numpy.log(2*numpy.pi)\n",
    "    term2 = -0.5 * det\n",
    "    term3 = -0.5 * numpy.dot((X-mu).T, numpy.dot(inv, (X-mu))).sum(0)\n",
    "\n",
    "    return (term1+term2+term3)\n",
    "\n",
    "\n",
    "# ----- Classify samples matching log-likelihood ratio and a threshold -----\n",
    "def predict_labels (llr, threshold):\n",
    "    predicted = numpy.zeros(len(llr))\n",
    "    for i in range(len(llr)):\n",
    "        if (llr[i]>threshold): predicted[i] = 1\n",
    "    return predicted\n",
    "\n",
    "\n",
    "# ----- Count the number of mispredictions -----\n",
    "def count_mispredictions (predicted, LTE):\n",
    "    wrong = 0\n",
    "    for i in range(len(LTE)):\n",
    "        if (predicted[i]!=LTE[i]): wrong += 1\n",
    "    return wrong\n",
    "\n",
    "\n",
    "# ----- Square a matrix and transpose it -----\n",
    "def square_and_transpose (matrix):\n",
    "    x = matrix[:, None]\n",
    "    xxT = x.dot(x.T).reshape((x.size)**2, order='F')\n",
    "    return xxT\n",
    "\n",
    "\n",
    "# ----- Logistic Regression objective -----\n",
    "def lr_obj_wrap (DTR, LTR, lam, pi):\n",
    "    def lr_obj (v):\n",
    "        w,b = v[0:-1], v[-1]\n",
    "        N = DTR.shape[1]\n",
    "        term1 = lam/2 * numpy.linalg.norm(w)**2\n",
    "        term2 = 0\n",
    "        term3 = 0\n",
    "\n",
    "        nt = DTR[:,LTR==1].shape[1]\n",
    "        nf = N-nt\n",
    "        pt = nt/N\n",
    "\n",
    "        for i in range(N):\n",
    "            ci = LTR[i]\n",
    "            zi = 2*ci-1\n",
    "            xi = DTR[:,i]\n",
    "            internal_sum = b + numpy.dot(w.T, xi)\n",
    "            internal_prod = -numpy.dot(zi, internal_sum)\n",
    "            if LTR[i]==0: term3 += numpy.logaddexp(0, internal_prod)\n",
    "            else: term2 += numpy.logaddexp(0, internal_prod)\n",
    "        loss = term1 + (pi/nt)*term2 + ((1-pi)/nf)*term3\n",
    "        return loss\n",
    "    return lr_obj\n",
    "\n",
    "\n",
    "# ----- Compute Logistic Regression scores -----\n",
    "def lr_compute_scores (DTE, v):\n",
    "    s = []\n",
    "    w,b = v[0:-1], v[-1]\n",
    "    for i in range(DTE.shape[1]):\n",
    "        xt = DTE[:,i]\n",
    "        s.append(b + numpy.dot(w.T, xt))\n",
    "    return numpy.array(s)"
   ]
  },
  {
   "cell_type": "markdown",
   "metadata": {},
   "source": [
    "# 1 - Dataset"
   ]
  },
  {
   "cell_type": "markdown",
   "metadata": {},
   "source": [
    "## 1.1 - Load dataset"
   ]
  },
  {
   "cell_type": "code",
   "execution_count": 13,
   "metadata": {},
   "outputs": [],
   "source": [
    "# ----- Global variables -----\n",
    "dataset_features = int(10)\n",
    "distinct_classes = int(2)\n",
    "\n",
    "\n",
    "# ----- Read file -----\n",
    "def read_file (filename):\n",
    "    D = []\n",
    "    L = []\n",
    "    with open(filename) as file:\n",
    "        for line in file:\n",
    "            try:\n",
    "                attributes = line.split(\",\")[0:features]\n",
    "                attributes = row_to_column(numpy.array([float(i) for i in attributes]))\n",
    "                label = int(line.split(\",\")[-1].strip())\n",
    "                D.append(attributes)\n",
    "                L.append(label)\n",
    "            except:\n",
    "                pass\n",
    "    return numpy.hstack(D), numpy.array(L, dtype=numpy.int32)\n",
    "\n",
    "\n",
    "# ----- Load training set -----\n",
    "def load_training_set (training_filename):\n",
    "    dtr,LTR = read_file(training_filename)\n",
    "    return DTR,LTR\n",
    "\n",
    "\n",
    "# ----- Load test set -----\n",
    "def load_test_set (test_filename):\n",
    "    DTE,LTE = read_file(test_filename)\n",
    "    return DTE,LTE\n",
    "\n",
    "\n",
    "# ----- Instructions -----\n",
    "training_filename = \"data/Train.txt\"\n",
    "test_filename = \"data/Test.txt\"\n",
    "DTR,LTR = load_training_set(training_filename)\n",
    "DTE,LTE = load_test_set(test_filename)"
   ]
  },
  {
   "cell_type": "markdown",
   "metadata": {},
   "source": [
    "## 1.2 - Features analysis"
   ]
  },
  {
   "cell_type": "code",
   "execution_count": null,
   "metadata": {},
   "outputs": [],
   "source": [
    "# ----- Plot histograms of training set -----\n",
    "def plot_dataset_histograms (DTR, LTR, output_folder):\n",
    "    # Split according to label\n",
    "    D0 = DTR[:, LTR==0]\n",
    "    D1 = DTR[:, LTR==1]\n",
    "\n",
    "    # Plot histograms for each feature\n",
    "    for x in range(dataset_features):\n",
    "        matplotlib.pyplot.figure()\n",
    "        matplotlib.pyplot.title(\"Feature %d\" % x)\n",
    "        matplotlib.pyplot.hist(D0[x,:], bins=40, density=True, alpha=0.4, edgecolor=\"black\", label=\"Spoofed\")\n",
    "        matplotlib.pyplot.hist(D1[x,:], bins=40, density=True, alpha=0.4, edgecolor=\"black\", label=\"Authentic\")\n",
    "        matplotlib.pyplot.legend()\n",
    "        matplotlib.pyplot.show()\n",
    "        matplotlib.pyplot.savefig(\"%s/histogram_%d.png\" % (output_folder, x))\n",
    "        #matplotlib.pyplot.close()\n",
    "\n",
    "\n",
    "# ----- Plot heatmaps of training set ---\n",
    "def plot_dataset_heatmaps (DTR, LTR, output_folder):\n",
    "    # Consider all samples\n",
    "    corr = numpy.zeros((dataset_features, dataset_features))\n",
    "    for x in range(dataset_features):\n",
    "        for y in range(dataset_features):\n",
    "            corr[x][y] = compute_correlation(DTR[x,:], DTR[y,:])\n",
    "    seaborn.set()\n",
    "    heatmap = seaborn.heatmap(numpy.abs(corr), cmap=\"YlGnBu\", linewidth=0.3, square=True, cbar=False)\n",
    "    figure = heatmap.get_figure()\n",
    "    figure.show()\n",
    "    figure.savefig(\"%s/heatmap_all.png\" % (output_folder))\n",
    "\n",
    "    # Consider only samples labeled as spoofed fingerprints\n",
    "    corr = numpy.zeros((dataset_features, dataset_features))\n",
    "    for x in range(dataset_features):\n",
    "        for y in range(dataset_features):\n",
    "            corr[x][y] = compute_correlation(DTR[x,LTR==0], DTR[y,LTR==0])\n",
    "    seaborn.set()\n",
    "    heatmap = seaborn.heatmap(numpy.abs(corr), cmap=\"coolwarm\", linewidth=0.3, square=True, cbar=False)\n",
    "    figure = heatmap.get_figure()\n",
    "    figure.show()\n",
    "    figure.savefig(\"%s/heatmap_spoofed.png\" % (output_folder))\n",
    "\n",
    "    # Consider only samples labeled as authentic fingerprints\n",
    "    corr = numpy.zeros((dataset_features, dataset_features))\n",
    "    for x in range(dataset_features):\n",
    "        for y in range(dataset_features):\n",
    "            corr[x][y] = compute_correlation(DTR[x,LTR==1], DTR[y,LTR==1])\n",
    "    seaborn.set()\n",
    "    heatmap = seaborn.heatmap(numpy.abs(corr), cmap=\"BuPu\", linewidth=0.3, square=True, cbar=False)\n",
    "    figure = heatmap.get_figure()\n",
    "    figure.show()\n",
    "    figure.savefig(\"%s/heatmap_authentic.png\" % (output_folder))\n",
    "\n",
    "\n",
    "# ----- Instructions -----\n",
    "histograms_folder = \"output/00_histograms\"\n",
    "heatmaps_folder = \"output/01_heatmaps\"\n",
    "plot_dataset_histograms(DTR, LTR, histograms_folder)\n",
    "plot_dataset_heatmaps(DTR, LTR, heatmaps_folder)"
   ]
  },
  {
   "cell_type": "markdown",
   "metadata": {},
   "source": [
    "## 1.3 - Dimensionality reduction"
   ]
  },
  {
   "cell_type": "code",
   "execution_count": null,
   "metadata": {},
   "outputs": [],
   "source": [
    "# ----- Principal Component Analysis -----\n",
    "def apply_pca (D, L, m, output_folder=None):\n",
    "    # Identify the largest eigenvalues and eigenvectors over to which we project original data\n",
    "    _,U = numpy.linalg.eigh(compute_covariance(D))\n",
    "    P = U[:, ::-1][:, 0:m]\n",
    "    \n",
    "    if output_folder!=None:\n",
    "        # Project data\n",
    "        DP = numpy.dot(P.T, D)\n",
    "        plot_pca_scatters(DP, L, output_folder)\n",
    "\n",
    "    return P\n",
    "\n",
    "\n",
    "# ----- Linear Discriminant Analysis -----\n",
    "def apply_lda (D, L, m, output_folder=None):\n",
    "    # Compute between- and within-class covariance matrices\n",
    "    D0 = D[:, L==0]\n",
    "    D1 = D[:, L==1]\n",
    "    diff0 = compute_mean(D0) - compute_mean(D)\n",
    "    diff1 = compute_mean(D1) - compute_mean(D)\n",
    "    SB = numpy.outer(diff0,diff0) + numpy.outer(diff1,diff1)\n",
    "    SW = compute_covariance(D0) + compute_covariance(D1)\n",
    "    \n",
    "    # Identify the m largest eigenvalues and eigenvectors over to which we project original data\n",
    "    U,s,_ = numpy.linalg.svd(SW)\n",
    "    P1 = numpy.dot(U, row_to_column(1.0/s**0.5)*U.T)\n",
    "    SBt = numpy.dot(P1, numpy.dot(SB, P1.T))\n",
    "    U,_,_ = numpy.linalg.svd(SBt)\n",
    "    P2 = U[:, 0:m]\n",
    "    W = numpy.dot(P1.T, P2)\n",
    "\n",
    "    if output_folder!=None:\n",
    "        # Project data\n",
    "        DP = numpy.dot(W.T, D)\n",
    "        plot_lda_histograms(DP, L, output_folder)\n",
    "\n",
    "\n",
    "# ----- Plot scatters of data projected after PCA -----\n",
    "def plot_pca_scatters (D, L, output_folder):\n",
    "    D0 = D[:, L==0]\n",
    "    D1 = D[:, L==1]\n",
    "\n",
    "    matplotlib.pyplot.figure()\n",
    "    matplotlib.pyplot.scatter(D0[0,:], D0[1,:], label=\"Spoofed\")\n",
    "    matplotlib.pyplot.scatter(D1[0,:], D1[1,:], label=\"Authentic\")\n",
    "    matplotlib.pyplot.legend()\n",
    "    matplotlib.pyplot.show()\n",
    "    matplotlib.pyplot.savefig(\"%s/scatter_pca.png\" % (output_folder))\n",
    "    #matplotlib.pyplot.close()\n",
    "\n",
    "\n",
    "# ----- Plot histograms of data projected after LDA -----\n",
    "def plot_lda_histograms (D, L, output_folder):\n",
    "    # Split according to label\n",
    "    D0 = D[:, L==0]\n",
    "    D1 = D[:, L==1]\n",
    "\n",
    "    # Plot histograms for each feature\n",
    "    matplotlib.pyplot.figure()\n",
    "    matplotlib.pyplot.hist(D0[0,:], bins=40, density=True, alpha=0.4, edgecolor=\"black\", label=\"Spoofed\")\n",
    "    matplotlib.pyplot.hist(D1[0,:], bins=40, density=True, alpha=0.4, edgecolor=\"black\", label=\"Authentic\")\n",
    "    matplotlib.pyplot.legend()\n",
    "    matplotlib.pyplot.show()\n",
    "    matplotlib.pyplot.savefig(\"%s/histogram_lda.png\" % (output_folder))\n",
    "    #matplotlib.pyplot.close()\n",
    "\n",
    "\n",
    "# ----- Plot scatters of data projected after LDA -----\n",
    "def plot_lda_scatters (D, L, output_folder):\n",
    "    D0 = D[:, L==0]\n",
    "    D1 = D[:, L==1]\n",
    "\n",
    "    matplotlib.pyplot.figure()\n",
    "    matplotlib.pyplot.scatter(D0[0,:], D0[1,:], label=\"Spoofed\")\n",
    "    matplotlib.pyplot.scatter(D1[0,:], D1[1,:], label=\"Authentic\")\n",
    "    matplotlib.pyplot.legend()\n",
    "    matplotlib.pyplot.show()\n",
    "    matplotlib.pyplot.savefig(\"%s/scatter_lda.png\" % (output_folder))\n",
    "    #matplotlib.pyplot.close()\n",
    "    \n",
    "\n",
    "# ----- Instructions -----\n",
    "pca_folder = \"output/02_PCA\"\n",
    "lda_folder = \"output/03_LDA\"\n",
    "m = 2\n",
    "apply_pca(DTR, LTR, m, pca_folder)\n",
    "apply_lda(DTR, LTR, m, lda_folder)"
   ]
  },
  {
   "cell_type": "markdown",
   "metadata": {},
   "source": [
    "# 2 - Training"
   ]
  },
  {
   "cell_type": "markdown",
   "metadata": {},
   "source": [
    "## 2.1 - Generative models"
   ]
  },
  {
   "cell_type": "markdown",
   "metadata": {},
   "source": [
    "Computation of costs"
   ]
  },
  {
   "cell_type": "code",
   "execution_count": 29,
   "metadata": {},
   "outputs": [],
   "source": [
    "# ----- Compute un-normalized Detection Cost Function -----\n",
    "def compute_unnormalized_DCF (pi_t, Cfn, Cfp, ll_ratios, LTE, threshold=None, is_effective=False):\n",
    "    # Define threshold if not previously defined\n",
    "    if threshold is None:\n",
    "        if is_effective is False:\n",
    "            effective_prior = (pi_t*Cfn) / (pi_t*Cfn + (1-pi_t)*Cfp)\n",
    "        else:\n",
    "            effective_prior = pi_t\n",
    "        threshold = -numpy.log(effective_prior / (1-effective_prior))\n",
    "    \n",
    "    # Build confusion matrix\n",
    "    predicted = (ll_ratios>threshold).astype(int)\n",
    "    confusion_matrix = numpy.zeros((2,2))\n",
    "    for i in range(len(LTE)):\n",
    "        confusion_matrix[predicted[i], LTE[i].astype(int)] += 1\n",
    "    \n",
    "    # Compute DCF\n",
    "    fnr = confusion_matrix[0][1] / (confusion_matrix[0][1]+confusion_matrix[1][1])\n",
    "    fpr = confusion_matrix[1][0] / (confusion_matrix[0][0]+confusion_matrix[1][0])\n",
    "    dcf = pi_t*Cfn*fnr + (1-pi_t)*Cfp*fpr\n",
    "\n",
    "    return dcf\n",
    "\n",
    "\n",
    "# ----- Compute normalized Detection Cost Function -----\n",
    "def compute_normalized_DCF (pi_t, Cfn, Cfp, DCFu):\n",
    "    dummy_costs = numpy.array([pi_t*Cfn, (1-pi_t)*Cfp])\n",
    "    index = numpy.argmin(dummy_costs)\n",
    "    dcf = DCFu / dummy_costs[index]\n",
    "    return dcf\n",
    "\n",
    "\n",
    "# ----- Compute actual Detection Cost Function -----\n",
    "def compute_actual_DCF (pi_t, Cfn, Cfp, ll_ratios, LTE, is_effective):\n",
    "    dcfu = compute_unnormalized_DCF(pi_t, Cfn, Cfp, ll_ratios, LTE, None, is_effective)\n",
    "    dcf = compute_normalized_DCF(pi_t, Cfn, Cfp, dcfu)\n",
    "    return dcf\n",
    "\n",
    "\n",
    "# ----- Compute minimum Detection Cost Function -----\n",
    "def compute_min_DCF (pi_t, Cfn, Cfp, ll_ratios, LTE):\n",
    "    dcf_collection = numpy.zeros(ll_ratios.shape)\n",
    "    sorted = numpy.sort(ll_ratios)\n",
    "\n",
    "    for i in range(len(ll_ratios)):\n",
    "        threshold = sorted[i]\n",
    "        unnormalized = compute_unnormalized_DCF(pi_t, Cfn, Cfp, ll_ratios, LTE, threshold)\n",
    "        dcf_collection[i] = compute_normalized_DCF(pi_t, Cfn, Cfp, unnormalized)\n",
    "    return numpy.min(dcf_collection)"
   ]
  },
  {
   "cell_type": "markdown",
   "metadata": {},
   "source": [
    "K-Fold implementation"
   ]
  },
  {
   "cell_type": "code",
   "execution_count": 35,
   "metadata": {},
   "outputs": [],
   "source": [
    "# ----- Global variables -----\n",
    "K = 5\n",
    "Cfn = 1\n",
    "Cfp = 10\n",
    "\n",
    "\n",
    "# ----- Compare classifiers using K-Fold -----\n",
    "def kfold (D, L, pca_value, pi_value, function, name):\n",
    "    N = int(D.shape[1]/K)\n",
    "    wrong_predictions = 0\n",
    "    numpy.random.seed(2)\n",
    "    ll_ratios = []\n",
    "    labels = []\n",
    "    indexes = numpy.random.permutation(D.shape[1])\n",
    "\n",
    "    for i in range(K):\n",
    "        # Select which subset to use for evaluation\n",
    "        idxTest = indexes[i*N:(i+1)*N]\n",
    "        if i>0: idxTrainLeft = indexes[0:i*N]\n",
    "        elif (i+1)<K: idxTrainRight = indexes[(i+1)*N:]\n",
    "        if i==0: idxTrain = idxTrainRight\n",
    "        elif (i+1)==K: idxTrain = idxTrainLeft\n",
    "        else: idxTrain = numpy.hstack([idxTrainLeft, idxTrainRight])\n",
    "        dtr = D[:,idxTrain]\n",
    "        ltr = L[idxTrain]\n",
    "        dte = D[:,idxTest]\n",
    "        lte = L[idxTest]\n",
    "\n",
    "        # Apply PCA if necessary\n",
    "        if pca_value!=0:\n",
    "            P = apply_pca(dtr, ltr, pca_value)\n",
    "            dtr = numpy.dot(P.T, dtr)\n",
    "            dte = numpy.dot(P.T, dte)\n",
    "\n",
    "        # Apply classifier\n",
    "        wrong, llr = function(dtr, ltr, dte, lte)\n",
    "        wrong_predictions += wrong\n",
    "        ll_ratios.append(llr)\n",
    "        labels.append(lte)\n",
    "\n",
    "    # Evaluate accuracy and error rate\n",
    "    error_rate = wrong_predictions / D.shape[1]\n",
    "    accuracy = 1 - error_rate\n",
    "    print(\"%s\" % (name))\n",
    "    print(\"  Accuracy: %.3f%%\" % (100.0*accuracy))\n",
    "    print(\"  Error rate: %.3f%%\" % (100.0*error_rate))\n",
    "\n",
    "    # Compute min DCF\n",
    "    cost = compute_min_DCF(pi_value, Cfn, Cfp, numpy.hstack(ll_ratios), numpy.hstack(labels))\n",
    "    print(\"  min DCF: %.3f\" % (cost))\n",
    "    print(\"\\n\")"
   ]
  },
  {
   "cell_type": "markdown",
   "metadata": {},
   "source": [
    "### 2.1.1 - Multivariate Gaussian without tied covariance"
   ]
  },
  {
   "cell_type": "code",
   "execution_count": 42,
   "metadata": {},
   "outputs": [],
   "source": [
    "# ----- Multivariate Gaussian without tied covariance -----\n",
    "def mvg (dtr, ltr, dte, lte):\n",
    "    # Compute mean and covariance for each class\n",
    "    D0 = dtr[:, ltr==0]\n",
    "    D1 = dtr[:, ltr==1]\n",
    "    mu0, cov0 = row_to_column(compute_mean(D0)), compute_covariance(D0)\n",
    "    mu1, cov1 = row_to_column(compute_mean(D1)), compute_covariance(D1)\n",
    "\n",
    "    # Compute likelihoods\n",
    "    S = numpy.empty((2,dte.shape[1]))\n",
    "    for i in range(dte.shape[1]):\n",
    "        S[0,i] = numpy.exp(logpdf_GAU_ND(row_to_column(dte[:,i]), mu0, cov0))\n",
    "        S[1,i] = numpy.exp(logpdf_GAU_ND(row_to_column(dte[:,i]), mu1, cov1))\n",
    "    \n",
    "    # Compute log-likelihood ratio and use it to classify samples\n",
    "    llr = numpy.log(S[1,:] / S[0,:])\n",
    "    #predicted = predict_labels(llr, 0)\n",
    "    #wrong_predictions = count_mispredictions(predicted, lte)\n",
    "    predicted_labels = numpy.log(S).argmax(axis=0)\n",
    "    wrong_predictions = len(lte) - numpy.array(predicted_labels == lte).sum()\n",
    "\n",
    "    return wrong_predictions, llr"
   ]
  },
  {
   "cell_type": "markdown",
   "metadata": {},
   "source": [
    "No PCA, &pi; = 0.1"
   ]
  },
  {
   "cell_type": "code",
   "execution_count": null,
   "metadata": {},
   "outputs": [],
   "source": [
    "pca_value = 0\n",
    "pi_value = 0.1\n",
    "kfold(DTR, LTR, pca_value, pi_value, mvg, \"Multivariate Gaussian classifier without tied covariance\")"
   ]
  },
  {
   "cell_type": "markdown",
   "metadata": {},
   "source": [
    "No PCA, &pi; = 0.5"
   ]
  },
  {
   "cell_type": "code",
   "execution_count": null,
   "metadata": {},
   "outputs": [],
   "source": [
    "pca_value = 0\n",
    "pi_value = 0.5\n",
    "kfold(DTR, LTR, pca_value, pi_value, mvg, \"Multivariate Gaussian classifier without tied covariance\")"
   ]
  },
  {
   "cell_type": "markdown",
   "metadata": {},
   "source": [
    "No PCA, &pi; = 0.9"
   ]
  },
  {
   "cell_type": "code",
   "execution_count": null,
   "metadata": {},
   "outputs": [],
   "source": [
    "pca_value = 0\n",
    "pi_value = 0.9\n",
    "kfold(DTR, LTR, pca_value, pi_value, mvg, \"Multivariate Gaussian classifier without tied covariance\")"
   ]
  },
  {
   "cell_type": "markdown",
   "metadata": {},
   "source": [
    "PCA = 9, &pi; = 0.1"
   ]
  },
  {
   "cell_type": "code",
   "execution_count": null,
   "metadata": {},
   "outputs": [],
   "source": [
    "pca_value = 9\n",
    "pi_value = 0.1\n",
    "kfold(DTR, LTR, pca_value, pi_value, mvg, \"Multivariate Gaussian classifier without tied covariance\")"
   ]
  },
  {
   "cell_type": "markdown",
   "metadata": {},
   "source": [
    "PCA = 9, &pi; = 0.5"
   ]
  },
  {
   "cell_type": "code",
   "execution_count": null,
   "metadata": {},
   "outputs": [],
   "source": [
    "pca_value = 9\n",
    "pi_value = 0.5\n",
    "kfold(DTR, LTR, pca_value, pi_value, mvg, \"Multivariate Gaussian classifier without tied covariance\")"
   ]
  },
  {
   "cell_type": "markdown",
   "metadata": {},
   "source": [
    "PCA = 9, &pi; = 0.9"
   ]
  },
  {
   "cell_type": "code",
   "execution_count": null,
   "metadata": {},
   "outputs": [],
   "source": [
    "pca_value = 9\n",
    "pi_value = 0.9\n",
    "kfold(DTR, LTR, pca_value, pi_value, mvg, \"Multivariate Gaussian classifier without tied covariance\")"
   ]
  },
  {
   "cell_type": "markdown",
   "metadata": {},
   "source": [
    "PCA = 8, &pi; = 0.1"
   ]
  },
  {
   "cell_type": "code",
   "execution_count": null,
   "metadata": {},
   "outputs": [],
   "source": [
    "pca_value = 8\n",
    "pi_value = 0.1\n",
    "kfold(DTR, LTR, pca_value, pi_value, mvg, \"Multivariate Gaussian classifier without tied covariance\")"
   ]
  },
  {
   "cell_type": "markdown",
   "metadata": {},
   "source": [
    "PCA = 8, &pi; = 0.5"
   ]
  },
  {
   "cell_type": "code",
   "execution_count": null,
   "metadata": {},
   "outputs": [],
   "source": [
    "pca_value = 8\n",
    "pi_value = 0.5\n",
    "kfold(DTR, LTR, pca_value, pi_value, mvg, \"Multivariate Gaussian classifier without tied covariance\")"
   ]
  },
  {
   "cell_type": "markdown",
   "metadata": {},
   "source": [
    "PCA = 8, &pi; = 0.9"
   ]
  },
  {
   "cell_type": "code",
   "execution_count": null,
   "metadata": {},
   "outputs": [],
   "source": [
    "pca_value = 8\n",
    "pi_value = 0.9\n",
    "kfold(DTR, LTR, pca_value, pi_value, mvg, \"Multivariate Gaussian classifier without tied covariance\")"
   ]
  },
  {
   "cell_type": "markdown",
   "metadata": {},
   "source": [
    "PCA = 7, &pi; = 0.1"
   ]
  },
  {
   "cell_type": "code",
   "execution_count": null,
   "metadata": {},
   "outputs": [],
   "source": [
    "pca_value = 7\n",
    "pi_value = 0.1\n",
    "kfold(DTR, LTR, pca_value, pi_value, mvg, \"Multivariate Gaussian classifier without tied covariance\")"
   ]
  },
  {
   "cell_type": "markdown",
   "metadata": {},
   "source": [
    "PCA = 7, &pi; = 0.5"
   ]
  },
  {
   "cell_type": "code",
   "execution_count": null,
   "metadata": {},
   "outputs": [],
   "source": [
    "pca_value = 7\n",
    "pi_value = 0.5\n",
    "kfold(DTR, LTR, pca_value, pi_value, mvg, \"Multivariate Gaussian classifier without tied covariance\")"
   ]
  },
  {
   "cell_type": "markdown",
   "metadata": {},
   "source": [
    "PCA = 7, &pi; = 0.9"
   ]
  },
  {
   "cell_type": "code",
   "execution_count": null,
   "metadata": {},
   "outputs": [],
   "source": [
    "pca_value = 7\n",
    "pi_value = 0.9\n",
    "kfold(DTR, LTR, pca_value, pi_value, mvg, \"Multivariate Gaussian classifier without tied covariance\")"
   ]
  },
  {
   "cell_type": "markdown",
   "metadata": {},
   "source": [
    "PCA = 6, &pi; = 0.1"
   ]
  },
  {
   "cell_type": "code",
   "execution_count": null,
   "metadata": {},
   "outputs": [],
   "source": [
    "pca_value = 6\n",
    "pi_value = 0.1\n",
    "kfold(DTR, LTR, pca_value, pi_value, mvg, \"Multivariate Gaussian classifier without tied covariance\")"
   ]
  },
  {
   "cell_type": "markdown",
   "metadata": {},
   "source": [
    "PCA = 6, &pi; = 0.5"
   ]
  },
  {
   "cell_type": "code",
   "execution_count": null,
   "metadata": {},
   "outputs": [],
   "source": [
    "pca_value = 6\n",
    "pi_value = 0.5\n",
    "kfold(DTR, LTR, pca_value, pi_value, mvg, \"Multivariate Gaussian classifier without tied covariance\")"
   ]
  },
  {
   "cell_type": "markdown",
   "metadata": {},
   "source": [
    "PCA = 6, &pi; = 0.9"
   ]
  },
  {
   "cell_type": "code",
   "execution_count": null,
   "metadata": {},
   "outputs": [],
   "source": [
    "pca_value = 6\n",
    "pi_value = 0.9\n",
    "kfold(DTR, LTR, pca_value, pi_value, mvg, \"Multivariate Gaussian classifier without tied covariance\")"
   ]
  },
  {
   "cell_type": "markdown",
   "metadata": {},
   "source": [
    "PCA = 5, &pi; = 0.1"
   ]
  },
  {
   "cell_type": "code",
   "execution_count": null,
   "metadata": {},
   "outputs": [],
   "source": [
    "pca_value = 5\n",
    "pi_value = 0.1\n",
    "kfold(DTR, LTR, pca_value, pi_value, mvg, \"Multivariate Gaussian classifier without tied covariance\")"
   ]
  },
  {
   "cell_type": "markdown",
   "metadata": {},
   "source": [
    "PCA = 5, &pi; = 0.5"
   ]
  },
  {
   "cell_type": "code",
   "execution_count": null,
   "metadata": {},
   "outputs": [],
   "source": [
    "pca_value = 5\n",
    "pi_value = 0.5\n",
    "kfold(DTR, LTR, pca_value, pi_value, mvg, \"Multivariate Gaussian classifier without tied covariance\")"
   ]
  },
  {
   "cell_type": "markdown",
   "metadata": {},
   "source": [
    "PCA = 5, &pi; = 0.9"
   ]
  },
  {
   "cell_type": "code",
   "execution_count": null,
   "metadata": {},
   "outputs": [],
   "source": [
    "pca_value = 5\n",
    "pi_value = 0.9\n",
    "kfold(DTR, LTR, pca_value, pi_value, mvg, \"Multivariate Gaussian classifier without tied covariance\")"
   ]
  },
  {
   "cell_type": "markdown",
   "metadata": {},
   "source": [
    "### 2.1.2 - Multivariate Gaussian with tied covariance"
   ]
  },
  {
   "cell_type": "code",
   "execution_count": null,
   "metadata": {},
   "outputs": [],
   "source": [
    "# ----- Multivariate Gaussian with tied covariance -----\n",
    "def tied_mvg (dtr, ltr, dte, lte):\n",
    "    # Compute mean for each class and tied covariance matrix\n",
    "    D0 = dtr[:, ltr==0]\n",
    "    D1 = dtr[:, ltr==1]\n",
    "    mu0, cov0 = row_to_column(compute_mean(D0)), compute_covariance(D0)\n",
    "    mu1, cov1 = row_to_column(compute_mean(D1)), compute_covariance(D1)\n",
    "    tied_cov = (cov0*D0.shape[1] + cov1*D1.shape[1]) / dtr.shape[1]\n",
    "\n",
    "    # Compute likelihoods\n",
    "    S = numpy.empty((2,dte.shape[1]))\n",
    "    for i in range(dte.shape[1]):\n",
    "        S[0,i] = numpy.exp(logpdf_GAU_ND(row_to_column(dte[:,i]), mu0, tied_cov))\n",
    "        S[1,i] = numpy.exp(logpdf_GAU_ND(row_to_column(dte[:,i]), mu1, tied_cov))\n",
    "    \n",
    "    # Compute log-likelihood ratio and use it to classify samples\n",
    "    llr = numpy.log(S[1,:] / S[0,:])\n",
    "    #predicted = predict_labels(llr, 0)\n",
    "    #wrong_predictions = numpy.array(predicted!=LTE).sum()\n",
    "    predicted_labels = numpy.log(S).argmax(axis=0)\n",
    "    wrong_predictions = len(lte) - numpy.array(predicted_labels == lte).sum()\n",
    "\n",
    "    return wrong_predictions, llr"
   ]
  },
  {
   "cell_type": "markdown",
   "metadata": {},
   "source": [
    "No PCA, &pi; = 0.1"
   ]
  },
  {
   "cell_type": "code",
   "execution_count": null,
   "metadata": {},
   "outputs": [],
   "source": [
    "pca_value = 0\n",
    "pi_value = 0.1\n",
    "kfold(DTR, LTR, pca_value, pi_value, tied_mvg, \"Multivariate Gaussian classifier with tied covariance\")"
   ]
  },
  {
   "cell_type": "markdown",
   "metadata": {},
   "source": [
    "No PCA, &pi; = 0.5"
   ]
  },
  {
   "cell_type": "code",
   "execution_count": null,
   "metadata": {},
   "outputs": [],
   "source": [
    "pca_value = 0\n",
    "pi_value = 0.5\n",
    "kfold(DTR, LTR, pca_value, pi_value, tied_mvg, \"Multivariate Gaussian classifier with tied covariance\")"
   ]
  },
  {
   "cell_type": "markdown",
   "metadata": {},
   "source": [
    "No PCA, &pi; = 0.9"
   ]
  },
  {
   "cell_type": "code",
   "execution_count": null,
   "metadata": {},
   "outputs": [],
   "source": [
    "pca_value = 0\n",
    "pi_value = 0.9\n",
    "kfold(DTR, LTR, pca_value, pi_value, tied_mvg, \"Multivariate Gaussian classifier with tied covariance\")"
   ]
  },
  {
   "cell_type": "markdown",
   "metadata": {},
   "source": [
    "PCA = 9, &pi; = 0.1"
   ]
  },
  {
   "cell_type": "code",
   "execution_count": null,
   "metadata": {},
   "outputs": [],
   "source": [
    "pca_value = 9\n",
    "pi_value = 0.1\n",
    "kfold(DTR, LTR, pca_value, pi_value, tied_mvg, \"Multivariate Gaussian classifier with tied covariance\")"
   ]
  },
  {
   "cell_type": "markdown",
   "metadata": {},
   "source": [
    "PCA = 9, &pi; = 0.5"
   ]
  },
  {
   "cell_type": "code",
   "execution_count": null,
   "metadata": {},
   "outputs": [],
   "source": [
    "pca_value = 9\n",
    "pi_value = 0.5\n",
    "kfold(DTR, LTR, pca_value, pi_value, tied_mvg, \"Multivariate Gaussian classifier with tied covariance\")"
   ]
  },
  {
   "cell_type": "markdown",
   "metadata": {},
   "source": [
    "PCA = 9, &pi; = 0.9"
   ]
  },
  {
   "cell_type": "code",
   "execution_count": null,
   "metadata": {},
   "outputs": [],
   "source": [
    "pca_value = 9\n",
    "pi_value = 0.9\n",
    "kfold(DTR, LTR, pca_value, pi_value, tied_mvg, \"Multivariate Gaussian classifier with tied covariance\")"
   ]
  },
  {
   "cell_type": "markdown",
   "metadata": {},
   "source": [
    "PCA = 8, &pi; = 0.1"
   ]
  },
  {
   "cell_type": "code",
   "execution_count": null,
   "metadata": {},
   "outputs": [],
   "source": [
    "pca_value = 8\n",
    "pi_value = 0.1\n",
    "kfold(DTR, LTR, pca_value, pi_value, tied_mvg, \"Multivariate Gaussian classifier with tied covariance\")"
   ]
  },
  {
   "cell_type": "markdown",
   "metadata": {},
   "source": [
    "PCA = 8, &pi; = 0.5"
   ]
  },
  {
   "cell_type": "code",
   "execution_count": null,
   "metadata": {},
   "outputs": [],
   "source": [
    "pca_value = 8\n",
    "pi_value = 0.5\n",
    "kfold(DTR, LTR, pca_value, pi_value, tied_mvg, \"Multivariate Gaussian classifier with tied covariance\")"
   ]
  },
  {
   "cell_type": "markdown",
   "metadata": {},
   "source": [
    "PCA = 8, &pi; = 0.9"
   ]
  },
  {
   "cell_type": "code",
   "execution_count": null,
   "metadata": {},
   "outputs": [],
   "source": [
    "pca_value = 8\n",
    "pi_value = 0.9\n",
    "kfold(DTR, LTR, pca_value, pi_value, tied_mvg, \"Multivariate Gaussian classifier with tied covariance\")"
   ]
  },
  {
   "cell_type": "markdown",
   "metadata": {},
   "source": [
    "PCA = 7, &pi; = 0.1"
   ]
  },
  {
   "cell_type": "code",
   "execution_count": null,
   "metadata": {},
   "outputs": [],
   "source": [
    "pca_value = 7\n",
    "pi_value = 0.1\n",
    "kfold(DTR, LTR, pca_value, pi_value, tied_mvg, \"Multivariate Gaussian classifier with tied covariance\")"
   ]
  },
  {
   "cell_type": "markdown",
   "metadata": {},
   "source": [
    "PCA = 7, &pi; = 0.5"
   ]
  },
  {
   "cell_type": "code",
   "execution_count": null,
   "metadata": {},
   "outputs": [],
   "source": [
    "pca_value = 7\n",
    "pi_value = 0.5\n",
    "kfold(DTR, LTR, pca_value, pi_value, tied_mvg, \"Multivariate Gaussian classifier with tied covariance\")"
   ]
  },
  {
   "cell_type": "markdown",
   "metadata": {},
   "source": [
    "PCA = 7, &pi; = 0.9"
   ]
  },
  {
   "cell_type": "code",
   "execution_count": null,
   "metadata": {},
   "outputs": [],
   "source": [
    "pca_value = 7\n",
    "pi_value = 0.9\n",
    "kfold(DTR, LTR, pca_value, pi_value, tied_mvg, \"Multivariate Gaussian classifier with tied covariance\")"
   ]
  },
  {
   "cell_type": "markdown",
   "metadata": {},
   "source": [
    "PCA = 6, &pi; = 0.1"
   ]
  },
  {
   "cell_type": "code",
   "execution_count": null,
   "metadata": {},
   "outputs": [],
   "source": [
    "pca_value = 6\n",
    "pi_value = 0.1\n",
    "kfold(DTR, LTR, pca_value, pi_value, tied_mvg, \"Multivariate Gaussian classifier with tied covariance\")"
   ]
  },
  {
   "cell_type": "markdown",
   "metadata": {},
   "source": [
    "PCA = 6, &pi; = 0.5"
   ]
  },
  {
   "cell_type": "code",
   "execution_count": null,
   "metadata": {},
   "outputs": [],
   "source": [
    "pca_value = 6\n",
    "pi_value = 0.5\n",
    "kfold(DTR, LTR, pca_value, pi_value, tied_mvg, \"Multivariate Gaussian classifier with tied covariance\")"
   ]
  },
  {
   "cell_type": "markdown",
   "metadata": {},
   "source": [
    "PCA = 6, &pi; = 0.9"
   ]
  },
  {
   "cell_type": "code",
   "execution_count": null,
   "metadata": {},
   "outputs": [],
   "source": [
    "pca_value = 6\n",
    "pi_value = 0.9\n",
    "kfold(DTR, LTR, pca_value, pi_value, tied_mvg, \"Multivariate Gaussian classifier with tied covariance\")"
   ]
  },
  {
   "cell_type": "markdown",
   "metadata": {},
   "source": [
    "PCA = 5, &pi; = 0.1"
   ]
  },
  {
   "cell_type": "code",
   "execution_count": null,
   "metadata": {},
   "outputs": [],
   "source": [
    "pca_value = 5\n",
    "pi_value = 0.1\n",
    "kfold(DTR, LTR, pca_value, pi_value, tied_mvg, \"Multivariate Gaussian classifier with tied covariance\")"
   ]
  },
  {
   "cell_type": "markdown",
   "metadata": {},
   "source": [
    "PCA = 5, &pi; = 0.5"
   ]
  },
  {
   "cell_type": "code",
   "execution_count": null,
   "metadata": {},
   "outputs": [],
   "source": [
    "pca_value = 5\n",
    "pi_value = 0.5\n",
    "kfold(DTR, LTR, pca_value, pi_value, tied_mvg, \"Multivariate Gaussian classifier with tied covariance\")"
   ]
  },
  {
   "cell_type": "markdown",
   "metadata": {},
   "source": [
    "PCA = 5, &pi; = 0.9"
   ]
  },
  {
   "cell_type": "code",
   "execution_count": null,
   "metadata": {},
   "outputs": [],
   "source": [
    "pca_value = 5\n",
    "pi_value = 0.9\n",
    "kfold(DTR, LTR, pca_value, pi_value, tied_mvg, \"Multivariate Gaussian classifier with tied covariance\")"
   ]
  },
  {
   "cell_type": "markdown",
   "metadata": {},
   "source": [
    "### 2.1.3 - Naive Bayes without tied covariance"
   ]
  },
  {
   "cell_type": "code",
   "execution_count": null,
   "metadata": {},
   "outputs": [],
   "source": [
    "# ----- Naive Bayes without tied covariance -----\n",
    "def naive_bayes (dtr, ltr, dte, lte):\n",
    "    # Compute mean and covariance for each class\n",
    "    D0 = dtr[:, ltr==0]\n",
    "    D1 = dtr[:, ltr==1]\n",
    "    mu0, cov0 = row_to_column(compute_mean(D0)), compute_covariance(D0)*numpy.identity(dtr.shape[0])\n",
    "    mu1, cov1 = row_to_column(compute_mean(D1)), compute_covariance(D1)*numpy.identity(dtr.shape[0])\n",
    "\n",
    "    # Compute likelihoods\n",
    "    S = numpy.empty((2,dte.shape[1]))\n",
    "    for i in range(dte.shape[1]):\n",
    "        S[0,i] = numpy.exp(logpdf_GAU_ND(row_to_column(dte[:,i]), mu0, cov0))\n",
    "        S[1,i] = numpy.exp(logpdf_GAU_ND(row_to_column(dte[:,i]), mu1, cov1))\n",
    "\n",
    "    # Compute log-likelihood ratio and use it to classify samples\n",
    "    llr = numpy.log(S[1,:] / S[0,:])\n",
    "    #predicted = predict_labels(llr, 0)\n",
    "    #wrong_predictions = count_mispredictions(predicted, LTE)\n",
    "    predicted_labels = numpy.log(S).argmax(axis=0)\n",
    "    wrong_predictions = len(lte) - numpy.array(predicted_labels == lte).sum()\n",
    "\n",
    "    return wrong_predictions, llr"
   ]
  },
  {
   "cell_type": "markdown",
   "metadata": {},
   "source": [
    "No PCA, &pi; = 0.1"
   ]
  },
  {
   "cell_type": "code",
   "execution_count": null,
   "metadata": {},
   "outputs": [],
   "source": [
    "pca_value = 0\n",
    "pi_value = 0.1\n",
    "kfold(DTR, LTR, pca_value, pi_value, naive_bayes, \"Naive Bayes without tied covariance\")"
   ]
  },
  {
   "cell_type": "markdown",
   "metadata": {},
   "source": [
    "No PCA, &pi; = 0.5"
   ]
  },
  {
   "cell_type": "code",
   "execution_count": null,
   "metadata": {},
   "outputs": [],
   "source": [
    "pca_value = 0\n",
    "pi_value = 0.5\n",
    "kfold(DTR, LTR, pca_value, pi_value, naive_bayes, \"Naive Bayes without tied covariance\")"
   ]
  },
  {
   "cell_type": "markdown",
   "metadata": {},
   "source": [
    "No PCA, &pi; = 0.9"
   ]
  },
  {
   "cell_type": "code",
   "execution_count": null,
   "metadata": {},
   "outputs": [],
   "source": [
    "pca_value = 0\n",
    "pi_value = 0.9\n",
    "kfold(DTR, LTR, pca_value, pi_value, naive_bayes, \"Naive Bayes without tied covariance\")"
   ]
  },
  {
   "cell_type": "markdown",
   "metadata": {},
   "source": [
    "PCA = 9, &pi; = 0.1"
   ]
  },
  {
   "cell_type": "code",
   "execution_count": null,
   "metadata": {},
   "outputs": [],
   "source": [
    "pca_value = 9\n",
    "pi_value = 0.1\n",
    "kfold(DTR, LTR, pca_value, pi_value, naive_bayes, \"Naive Bayes without tied covariance\")"
   ]
  },
  {
   "cell_type": "markdown",
   "metadata": {},
   "source": [
    "PCA = 9, &pi; = 0.5"
   ]
  },
  {
   "cell_type": "code",
   "execution_count": null,
   "metadata": {},
   "outputs": [],
   "source": [
    "pca_value = 9\n",
    "pi_value = 0.5\n",
    "kfold(DTR, LTR, pca_value, pi_value, naive_bayes, \"Naive Bayes without tied covariance\")"
   ]
  },
  {
   "cell_type": "markdown",
   "metadata": {},
   "source": [
    "PCA = 9, &pi; = 0.9"
   ]
  },
  {
   "cell_type": "code",
   "execution_count": null,
   "metadata": {},
   "outputs": [],
   "source": [
    "pca_value = 9\n",
    "pi_value = 0.9\n",
    "kfold(DTR, LTR, pca_value, pi_value, naive_bayes, \"Naive Bayes without tied covariance\")"
   ]
  },
  {
   "cell_type": "markdown",
   "metadata": {},
   "source": [
    "PCA = 8, &pi; = 0.1"
   ]
  },
  {
   "cell_type": "code",
   "execution_count": null,
   "metadata": {},
   "outputs": [],
   "source": [
    "pca_value = 8\n",
    "pi_value = 0.1\n",
    "kfold(DTR, LTR, pca_value, pi_value, naive_bayes, \"Naive Bayes without tied covariance\")"
   ]
  },
  {
   "cell_type": "markdown",
   "metadata": {},
   "source": [
    "PCA = 8, &pi; = 0.5"
   ]
  },
  {
   "cell_type": "code",
   "execution_count": null,
   "metadata": {},
   "outputs": [],
   "source": [
    "pca_value = 8\n",
    "pi_value = 0.5\n",
    "kfold(DTR, LTR, pca_value, pi_value, naive_bayes, \"Naive Bayes without tied covariance\")"
   ]
  },
  {
   "cell_type": "markdown",
   "metadata": {},
   "source": [
    "PCA = 8, &pi; = 0.9"
   ]
  },
  {
   "cell_type": "code",
   "execution_count": null,
   "metadata": {},
   "outputs": [],
   "source": [
    "pca_value = 8\n",
    "pi_value = 0.9\n",
    "kfold(DTR, LTR, pca_value, pi_value, naive_bayes, \"Naive Bayes without tied covariance\")"
   ]
  },
  {
   "cell_type": "markdown",
   "metadata": {},
   "source": [
    "PCA = 7, &pi; = 0.1"
   ]
  },
  {
   "cell_type": "code",
   "execution_count": null,
   "metadata": {},
   "outputs": [],
   "source": [
    "pca_value = 7\n",
    "pi_value = 0.1\n",
    "kfold(DTR, LTR, pca_value, pi_value, naive_bayes, \"Naive Bayes without tied covariance\")"
   ]
  },
  {
   "cell_type": "markdown",
   "metadata": {},
   "source": [
    "PCA = 7, &pi; = 0.5"
   ]
  },
  {
   "cell_type": "code",
   "execution_count": null,
   "metadata": {},
   "outputs": [],
   "source": [
    "pca_value = 7\n",
    "pi_value = 0.5\n",
    "kfold(DTR, LTR, pca_value, pi_value, naive_bayes, \"Naive Bayes without tied covariance\")"
   ]
  },
  {
   "cell_type": "markdown",
   "metadata": {},
   "source": [
    "PCA 0 7, &pi; = 0.9"
   ]
  },
  {
   "cell_type": "code",
   "execution_count": null,
   "metadata": {},
   "outputs": [],
   "source": [
    "pca_value = 7\n",
    "pi_value = 0.9\n",
    "kfold(DTR, LTR, pca_value, pi_value, naive_bayes, \"Naive Bayes without tied covariance\")"
   ]
  },
  {
   "cell_type": "markdown",
   "metadata": {},
   "source": [
    "PCA = 6, &pi; = 0.1"
   ]
  },
  {
   "cell_type": "code",
   "execution_count": null,
   "metadata": {},
   "outputs": [],
   "source": [
    "pca_value = 6\n",
    "pi_value = 0.1\n",
    "kfold(DTR, LTR, pca_value, pi_value, naive_bayes, \"Naive Bayes without tied covariance\")"
   ]
  },
  {
   "cell_type": "markdown",
   "metadata": {},
   "source": [
    "PCA = 6, &pi; = 0.5"
   ]
  },
  {
   "cell_type": "code",
   "execution_count": null,
   "metadata": {},
   "outputs": [],
   "source": [
    "pca_value = 6\n",
    "pi_value = 0.5\n",
    "kfold(DTR, LTR, pca_value, pi_value, naive_bayes, \"Naive Bayes without tied covariance\")"
   ]
  },
  {
   "cell_type": "markdown",
   "metadata": {},
   "source": [
    "PCA = 6, &pi; = 0.9"
   ]
  },
  {
   "cell_type": "code",
   "execution_count": null,
   "metadata": {},
   "outputs": [],
   "source": [
    "pca_value = 6\n",
    "pi_value = 0.9\n",
    "kfold(DTR, LTR, pca_value, pi_value, naive_bayes, \"Naive Bayes without tied covariance\")"
   ]
  },
  {
   "cell_type": "markdown",
   "metadata": {},
   "source": [
    "PCA = 5, &pi; = 0.1"
   ]
  },
  {
   "cell_type": "code",
   "execution_count": null,
   "metadata": {},
   "outputs": [],
   "source": [
    "pca_value = 5\n",
    "pi_value = 0.1\n",
    "kfold(DTR, LTR, pca_value, pi_value, naive_bayes, \"Naive Bayes without tied covariance\")"
   ]
  },
  {
   "cell_type": "markdown",
   "metadata": {},
   "source": [
    "PCA = 5, &pi; = 0.5"
   ]
  },
  {
   "cell_type": "code",
   "execution_count": null,
   "metadata": {},
   "outputs": [],
   "source": [
    "pca_value = 5\n",
    "pi_value = 0.5\n",
    "kfold(DTR, LTR, pca_value, pi_value, naive_bayes, \"Naive Bayes without tied covariance\")"
   ]
  },
  {
   "cell_type": "markdown",
   "metadata": {},
   "source": [
    "PCA = 5, &pi; = 0.9"
   ]
  },
  {
   "cell_type": "code",
   "execution_count": null,
   "metadata": {},
   "outputs": [],
   "source": [
    "pca_value = 5\n",
    "pi_value = 0.9\n",
    "kfold(DTR, LTR, pca_value, pi_value, naive_bayes, \"Naive Bayes without tied covariance\")"
   ]
  },
  {
   "cell_type": "markdown",
   "metadata": {},
   "source": [
    "### 2.1.4 - Naive Bayes with tied covariance"
   ]
  },
  {
   "cell_type": "code",
   "execution_count": null,
   "metadata": {},
   "outputs": [],
   "source": [
    "# ----- Naive Bayes with tied covariance -----\n",
    "def tied_naive_bayes (dtr, ltr, dte, lte):\n",
    "    # Compute mean for each class and tied covariance matrix\n",
    "    D0 = dtr[:, ltr==0]\n",
    "    D1 = dtr[:, ltr==1]\n",
    "    mu0, cov0 = row_to_column(compute_mean(D0)), compute_covariance(D0)*numpy.identity(dtr.shape[0])\n",
    "    mu1, cov1 = row_to_column(compute_mean(D1)), compute_covariance(D1)*numpy.identity(dtr.shape[0])\n",
    "    tied_cov = (cov0*D0.shape[1] + cov1*D1.shape[1]) / dtr.shape[1]\n",
    "\n",
    "    # Compute likelihoods\n",
    "    S = numpy.empty((2,dte.shape[1]))\n",
    "    for i in range(dte.shape[1]):\n",
    "        S[0,i] = numpy.exp(logpdf_GAU_ND(row_to_column(dte[:,i]), mu0, tied_cov))\n",
    "        S[1,i] = numpy.exp(logpdf_GAU_ND(row_to_column(dte[:,i]), mu1, tied_cov))\n",
    "    \n",
    "    # Compute log-likelihood ratio and use it to classify samples\n",
    "    llr = numpy.log(S[1,:] / S[0,:])\n",
    "    #predicted = predict_labels(llr, 0)\n",
    "    #wrong_predictions = count_mispredictions(predicted, LTE)\n",
    "    predicted_labels = numpy.log(S).argmax(axis=0)\n",
    "    wrong_predictions = len(lte) - numpy.array(predicted_labels == lte).sum()\n",
    "\n",
    "    return wrong_predictions, llr"
   ]
  },
  {
   "cell_type": "markdown",
   "metadata": {},
   "source": [
    "No PCA, &pi; = 0.1"
   ]
  },
  {
   "cell_type": "code",
   "execution_count": null,
   "metadata": {},
   "outputs": [],
   "source": [
    "pca_value = 0\n",
    "pi_value = 0.1\n",
    "kfold(DTR, LTR, pca_value, pi_value, tied_naive_bayes, \"Naive Bayes with tied covariance\")"
   ]
  },
  {
   "cell_type": "markdown",
   "metadata": {},
   "source": [
    "No PCA, &pi; = 0.5"
   ]
  },
  {
   "cell_type": "code",
   "execution_count": null,
   "metadata": {},
   "outputs": [],
   "source": [
    "pca_value = 0\n",
    "pi_value = 0.5\n",
    "kfold(DTR, LTR, pca_value, pi_value, tied_naive_bayes, \"Naive Bayes with tied covariance\")"
   ]
  },
  {
   "cell_type": "markdown",
   "metadata": {},
   "source": [
    "No PCA, &pi; = 0.9"
   ]
  },
  {
   "cell_type": "code",
   "execution_count": null,
   "metadata": {},
   "outputs": [],
   "source": [
    "pca_value = 0\n",
    "pi_value = 0.9\n",
    "kfold(DTR, LTR, pca_value, pi_value, tied_naive_bayes, \"Naive Bayes with tied covariance\")"
   ]
  },
  {
   "cell_type": "markdown",
   "metadata": {},
   "source": [
    "PCA = 9, &pi; = 0.1"
   ]
  },
  {
   "cell_type": "code",
   "execution_count": null,
   "metadata": {},
   "outputs": [],
   "source": [
    "pca_value = 9\n",
    "pi_value = 0.1\n",
    "kfold(DTR, LTR, pca_value, pi_value, tied_naive_bayes, \"Naive Bayes with tied covariance\")"
   ]
  },
  {
   "cell_type": "markdown",
   "metadata": {},
   "source": [
    "PCA = 9, &pi; = 0.5"
   ]
  },
  {
   "cell_type": "code",
   "execution_count": null,
   "metadata": {},
   "outputs": [],
   "source": [
    "pca_value = 9\n",
    "pi_value = 0.5\n",
    "kfold(DTR, LTR, pca_value, pi_value, tied_naive_bayes, \"Naive Bayes with tied covariance\")"
   ]
  },
  {
   "cell_type": "markdown",
   "metadata": {},
   "source": [
    "PCA = 9, &pi; = 0.9"
   ]
  },
  {
   "cell_type": "code",
   "execution_count": null,
   "metadata": {},
   "outputs": [],
   "source": [
    "pca_value = 9\n",
    "pi_value = 0.9\n",
    "kfold(DTR, LTR, pca_value, pi_value, tied_naive_bayes, \"Naive Bayes with tied covariance\")"
   ]
  },
  {
   "cell_type": "markdown",
   "metadata": {},
   "source": [
    "PCA = 8, &pi; = 0.1"
   ]
  },
  {
   "cell_type": "code",
   "execution_count": null,
   "metadata": {},
   "outputs": [],
   "source": [
    "pca_value = 8\n",
    "pi_value = 0.1\n",
    "kfold(DTR, LTR, pca_value, pi_value, tied_naive_bayes, \"Naive Bayes with tied covariance\")"
   ]
  },
  {
   "cell_type": "markdown",
   "metadata": {},
   "source": [
    "PCA = 8, &pi; = 0.5"
   ]
  },
  {
   "cell_type": "code",
   "execution_count": null,
   "metadata": {},
   "outputs": [],
   "source": [
    "pca_value = 8\n",
    "pi_value = 0.5\n",
    "kfold(DTR, LTR, pca_value, pi_value, tied_naive_bayes, \"Naive Bayes with tied covariance\")"
   ]
  },
  {
   "cell_type": "markdown",
   "metadata": {},
   "source": [
    "PCA = 8, &pi; = 0.9"
   ]
  },
  {
   "cell_type": "code",
   "execution_count": null,
   "metadata": {},
   "outputs": [],
   "source": [
    "pca_value = 8\n",
    "pi_value = 0.9\n",
    "kfold(DTR, LTR, pca_value, pi_value, tied_naive_bayes, \"Naive Bayes with tied covariance\")"
   ]
  },
  {
   "cell_type": "markdown",
   "metadata": {},
   "source": [
    "PCA = 7, &pi; = 0.1"
   ]
  },
  {
   "cell_type": "code",
   "execution_count": null,
   "metadata": {},
   "outputs": [],
   "source": [
    "pca_value = 7\n",
    "pi_value = 0.1\n",
    "kfold(DTR, LTR, pca_value, pi_value, tied_naive_bayes, \"Naive Bayes with tied covariance\")"
   ]
  },
  {
   "cell_type": "markdown",
   "metadata": {},
   "source": [
    "PCA = 7, &pi; = 0.5"
   ]
  },
  {
   "cell_type": "code",
   "execution_count": null,
   "metadata": {},
   "outputs": [],
   "source": [
    "pca_value = 7\n",
    "pi_value = 0.5\n",
    "kfold(DTR, LTR, pca_value, pi_value, tied_naive_bayes, \"Naive Bayes with tied covariance\")"
   ]
  },
  {
   "cell_type": "markdown",
   "metadata": {},
   "source": [
    "PCA = 7, &pi; = 0.9"
   ]
  },
  {
   "cell_type": "code",
   "execution_count": null,
   "metadata": {},
   "outputs": [],
   "source": [
    "pca_value = 7\n",
    "pi_value = 0.9\n",
    "kfold(DTR, LTR, pca_value, pi_value, tied_naive_bayes, \"Naive Bayes with tied covariance\")"
   ]
  },
  {
   "cell_type": "markdown",
   "metadata": {},
   "source": [
    "PCA = 6, &pi; = 0.1"
   ]
  },
  {
   "cell_type": "code",
   "execution_count": null,
   "metadata": {},
   "outputs": [],
   "source": [
    "pca_value = 6\n",
    "pi_value = 0.1\n",
    "kfold(DTR, LTR, pca_value, pi_value, tied_naive_bayes, \"Naive Bayes with tied covariance\")"
   ]
  },
  {
   "cell_type": "markdown",
   "metadata": {},
   "source": [
    "PCA = 6, &pi; = 0.5"
   ]
  },
  {
   "cell_type": "code",
   "execution_count": null,
   "metadata": {},
   "outputs": [],
   "source": [
    "pca_value = 6\n",
    "pi_value = 0.5\n",
    "kfold(DTR, LTR, pca_value, pi_value, tied_naive_bayes, \"Naive Bayes with tied covariance\")"
   ]
  },
  {
   "cell_type": "markdown",
   "metadata": {},
   "source": [
    "PCA = 6, &pi; = 0.9"
   ]
  },
  {
   "cell_type": "code",
   "execution_count": null,
   "metadata": {},
   "outputs": [],
   "source": [
    "pca_value = 6\n",
    "pi_value = 0.9\n",
    "kfold(DTR, LTR, pca_value, pi_value, tied_naive_bayes, \"Naive Bayes with tied covariance\")"
   ]
  },
  {
   "cell_type": "markdown",
   "metadata": {},
   "source": [
    "PCA = 5, &pi; = 0.1"
   ]
  },
  {
   "cell_type": "code",
   "execution_count": null,
   "metadata": {},
   "outputs": [],
   "source": [
    "pca_value = 5\n",
    "pi_value = 0.1\n",
    "kfold(DTR, LTR, pca_value, pi_value, tied_naive_bayes, \"Naive Bayes with tied covariance\")"
   ]
  },
  {
   "cell_type": "markdown",
   "metadata": {},
   "source": [
    "PCA = 5, &pi; = 0.5"
   ]
  },
  {
   "cell_type": "code",
   "execution_count": null,
   "metadata": {},
   "outputs": [],
   "source": [
    "pca_value = 5\n",
    "pi_value = 0.5\n",
    "kfold(DTR, LTR, pca_value, pi_value, tied_naive_bayes, \"Naive Bayes with tied covariance\")"
   ]
  },
  {
   "cell_type": "markdown",
   "metadata": {},
   "source": [
    "PCA = 5, &pi; = 0.9"
   ]
  },
  {
   "cell_type": "code",
   "execution_count": null,
   "metadata": {},
   "outputs": [],
   "source": [
    "pca_value = 5\n",
    "pi_value = 0.9\n",
    "kfold(DTR, LTR, pca_value, pi_value, tied_naive_bayes, \"Naive Bayes with tied covariance\")"
   ]
  },
  {
   "cell_type": "markdown",
   "metadata": {},
   "source": [
    "## 2.2 - Discriminative models"
   ]
  },
  {
   "cell_type": "markdown",
   "metadata": {},
   "source": [
    "### 2.2.0 - Intro"
   ]
  },
  {
   "cell_type": "markdown",
   "metadata": {},
   "source": [
    "Computation of costs"
   ]
  },
  {
   "cell_type": "code",
   "execution_count": null,
   "metadata": {},
   "outputs": [],
   "source": [
    "# ----- Compute un-normalized Detection Cost Function -----\n",
    "def compute_unnormalized_DCF (pi_t, Cfn, Cfp, ll_ratios, LTE, threshold=None, is_effective=False):\n",
    "    # Define threshold if not previously defined\n",
    "    if threshold is None:\n",
    "        if is_effective is False:\n",
    "            effective_prior = (pi_t*Cfn) / (pi_t*Cfn + (1-pi_t)*Cfp)\n",
    "        else:\n",
    "            effective_prior = pi_t\n",
    "        threshold = -numpy.log(effective_prior / (1-effective_prior))\n",
    "    \n",
    "    # Build confusion matrix\n",
    "    predicted = (ll_ratios>threshold).astype(int)\n",
    "    confusion_matrix = numpy.zeros((2,2))\n",
    "    for i in range(len(LTE)):\n",
    "        confusion_matrix[predicted[i], LTE[i].astype(int)] += 1\n",
    "    \n",
    "    # Compute DCF\n",
    "    fnr = confusion_matrix[0][1] / (confusion_matrix[0][1]+confusion_matrix[1][1])\n",
    "    fpr = confusion_matrix[1][0] / (confusion_matrix[0][0]+confusion_matrix[1][0])\n",
    "    dcf = pi_t*Cfn*fnr + (1-pi_t)*Cfp*fpr\n",
    "\n",
    "    return dcf\n",
    "\n",
    "\n",
    "# ----- Compute normalized Detection Cost Function -----\n",
    "def compute_normalized_DCF (pi_t, Cfn, Cfp, DCFu):\n",
    "    dummy_costs = numpy.array([pi_t*Cfn, (1-pi_t)*Cfp])\n",
    "    index = numpy.argmin(dummy_costs)\n",
    "    dcf = DCFu / dummy_costs[index]\n",
    "    return dcf\n",
    "\n",
    "\n",
    "# ----- Compute actual Detection Cost Function -----\n",
    "def compute_actual_DCF (pi_t, Cfn, Cfp, ll_ratios, LTE, is_effective):\n",
    "    dcfu = compute_unnormalized_DCF(pi_t, Cfn, Cfp, ll_ratios, LTE, None, is_effective)\n",
    "    dcf = compute_normalized_DCF(pi_t, Cfn, Cfp, dcfu)\n",
    "    return dcf\n",
    "\n",
    "\n",
    "# ----- Compute minimum Detection Cost Function -----\n",
    "def compute_min_DCF (pi_t, Cfn, Cfp, ll_ratios, LTE):\n",
    "    dcf_collection = numpy.zeros(ll_ratios.shape)\n",
    "    sorted = numpy.sort(ll_ratios)\n",
    "\n",
    "    for i in range(len(ll_ratios)):\n",
    "        threshold = sorted[i]\n",
    "        unnormalized = compute_unnormalized_DCF(pi_t, Cfn, Cfp, ll_ratios, LTE, threshold)\n",
    "        dcf_collection[i] = compute_normalized_DCF(pi_t, Cfn, Cfp, unnormalized)\n",
    "    return numpy.min(dcf_collection)"
   ]
  },
  {
   "cell_type": "markdown",
   "metadata": {},
   "source": [
    "K-Fold implementation"
   ]
  },
  {
   "cell_type": "code",
   "execution_count": null,
   "metadata": {},
   "outputs": [],
   "source": [
    "# ----- Global variables -----\n",
    "K = 5\n",
    "Cfn = 1\n",
    "Cfp = 10\n",
    "\n",
    "\n",
    "# ----- Compare classifiers using K-Fold -----\n",
    "def dis_kfold (D, L, pca_value, pi_value, lam_value, function, name):\n",
    "    N = int(D.shape[1]/K)\n",
    "    \n",
    "    wrong_predictions = 0\n",
    "    numpy.random.seed(2)\n",
    "    ll_ratios = []\n",
    "    labels = []\n",
    "    indexes = numpy.random.permutation(D.shape[1])\n",
    "\n",
    "    for i in range(K):\n",
    "        # Select which subset to use for evaluation\n",
    "        idxTest = indexes[i*N:(i+1)*N]\n",
    "        if i>0: idxTrainLeft = indexes[0:i*N]\n",
    "        elif (i+1)<K: idxTrainRight = indexes[(i+1)*N:]\n",
    "        if i==0: idxTrain = idxTrainRight\n",
    "        elif (i+1)==K: idxTrain = idxTrainLeft\n",
    "        else: idxTrain = numpy.hstack([idxTrainLeft, idxTrainRight])\n",
    "        dtr = D[:,idxTrain]\n",
    "        ltr = L[idxTrain]\n",
    "        dte = D[:,idxTest]\n",
    "        lte = L[idxTest]\n",
    "\n",
    "        # Apply PCA if necessary\n",
    "        if pca_value!=0:\n",
    "            P = apply_pca(dtr, ltr, pca_value)\n",
    "            dtr = numpy.dot(P.T, dtr)\n",
    "            dte = numpy.dot(P.T, dte)\n",
    "\n",
    "        # Apply classifier\n",
    "        wrong, scores = function(dtr, ltr, dte, lte, lam_value, pi_value)\n",
    "        wrong_predictions += wrong\n",
    "        ll_ratios.append(scores)\n",
    "        labels.append(lte)\n",
    "\n",
    "    # Evaluate accuracy and error rate\n",
    "    error_rate = wrong_predictions / D.shape[1]\n",
    "    accuracy = 1 - error_rate\n",
    "    print(\"%s\" % (name))\n",
    "    print(\"  Accuracy: %.3f%%\\n\" % (100.0*accuracy))\n",
    "    print(\"  Error rate: %.3f%%\\n\" % (100.0*error_rate))\n",
    "    print(\"\\n\")\n",
    "\n",
    "    # Compute min DCF\n",
    "    cost = compute_min_DCF(pi_value, Cfn, Cfp, numpy.hstack(ll_ratios), numpy.hstack(labels))\n",
    "    print(accuracy, cost)\n",
    "    print(\"  min DCF: %.3f\\n\" % (cost))\n",
    "    print(\"\\n\")"
   ]
  },
  {
   "cell_type": "markdown",
   "metadata": {},
   "source": [
    "### 2.2.1 - Linear Logistic Regression"
   ]
  },
  {
   "cell_type": "code",
   "execution_count": null,
   "metadata": {},
   "outputs": [],
   "source": [
    "# ----- Linear Logistic Regression -----\n",
    "def linear_logistic_regression (DTR, LTR, DTE, LTE, lam, pi):\n",
    "    x0 = numpy.zeros(DTR.shape[0]+1)\n",
    "    lr_obj = lr_obj_wrap(DTR, LTR, lam, pi)\n",
    "    (x,_,_) = scipy.optimize.fmin_l_bfgs_b(lr_obj, x0, approx_grad=True)\n",
    "    \n",
    "    # Compute scores\n",
    "    scores = lr_compute_scores(DTE, x)\n",
    "    predicted = predict_labels(scores, 0)\n",
    "    wrong_predictions = count_mispredictions(predicted, LTE)\n",
    "\n",
    "    return wrong_predictions, scores"
   ]
  },
  {
   "cell_type": "markdown",
   "metadata": {},
   "source": [
    "No PCA, &pi; = 0.1, &lambda; = 1e-6"
   ]
  },
  {
   "cell_type": "code",
   "execution_count": null,
   "metadata": {},
   "outputs": [],
   "source": [
    "pca_value = 0\n",
    "pi_value = 0.1\n",
    "lam_value = 1e-6\n",
    "dis_kfold(DTR, LTR, pca_value, pi_value, lam_value, linear_logistic_regression, \"Linear Logistic Regression\")"
   ]
  },
  {
   "cell_type": "markdown",
   "metadata": {},
   "source": [
    "No PCA, &pi; = 0.1, &lambda; = 1e-5"
   ]
  },
  {
   "cell_type": "code",
   "execution_count": null,
   "metadata": {},
   "outputs": [],
   "source": [
    "pca_value = 0\n",
    "pi_value = 0.1\n",
    "lam_value = 1e-5\n",
    "dis_kfold(DTR, LTR, pca_value, pi_value, lam_value, linear_logistic_regression, \"Linear Logistic Regression\")"
   ]
  },
  {
   "cell_type": "markdown",
   "metadata": {},
   "source": [
    "No PCA, &pi; = 0.1, &lambda; = 1e-4"
   ]
  },
  {
   "cell_type": "code",
   "execution_count": null,
   "metadata": {},
   "outputs": [],
   "source": [
    "pca_value = 0\n",
    "pi_value = 0.1\n",
    "lam_value = 1e-4\n",
    "dis_kfold(DTR, LTR, pca_value, pi_value, lam_value, linear_logistic_regression, \"Linear Logistic Regression\")"
   ]
  },
  {
   "cell_type": "markdown",
   "metadata": {},
   "source": [
    "No PCA, &pi; = 0.1, &lambda; = 1e-3"
   ]
  },
  {
   "cell_type": "code",
   "execution_count": null,
   "metadata": {},
   "outputs": [],
   "source": [
    "pca_value = 0\n",
    "pi_value = 0.1\n",
    "lam_value = 1e-3\n",
    "dis_kfold(DTR, LTR, pca_value, pi_value, lam_value, linear_logistic_regression, \"Linear Logistic Regression\")"
   ]
  },
  {
   "cell_type": "markdown",
   "metadata": {},
   "source": [
    "No PCA, &pi; = 0.1, &lambda; = 1e-2"
   ]
  },
  {
   "cell_type": "code",
   "execution_count": null,
   "metadata": {},
   "outputs": [],
   "source": [
    "pca_value = 0\n",
    "pi_value = 0.1\n",
    "lam_value = 1e-2\n",
    "dis_kfold(DTR, LTR, pca_value, pi_value, lam_value, linear_logistic_regression, \"Linear Logistic Regression\")"
   ]
  },
  {
   "cell_type": "markdown",
   "metadata": {},
   "source": [
    "No PCA, &pi; = 0.1, &lambda; = 1e-1"
   ]
  },
  {
   "cell_type": "code",
   "execution_count": null,
   "metadata": {},
   "outputs": [],
   "source": [
    "pca_value = 0\n",
    "pi_value = 0.1\n",
    "lam_value = 1e-1\n",
    "dis_kfold(DTR, LTR, pca_value, pi_value, lam_value, linear_logistic_regression, \"Linear Logistic Regression\")"
   ]
  },
  {
   "cell_type": "markdown",
   "metadata": {},
   "source": [
    "No PCA, &pi; = 0.1, &lambda; = 1.0"
   ]
  },
  {
   "cell_type": "code",
   "execution_count": null,
   "metadata": {},
   "outputs": [],
   "source": [
    "pca_value = 0\n",
    "pi_value = 0.1\n",
    "lam_value = 1.0\n",
    "dis_kfold(DTR, LTR, pca_value, pi_value, lam_value, linear_logistic_regression, \"Linear Logistic Regression\")"
   ]
  },
  {
   "cell_type": "markdown",
   "metadata": {},
   "source": [
    "No PCA, &pi; = 0.1, &lambda; = 10.0"
   ]
  },
  {
   "cell_type": "code",
   "execution_count": null,
   "metadata": {},
   "outputs": [],
   "source": [
    "pca_value = 0\n",
    "pi_value = 0.1\n",
    "lam_value = 10.0\n",
    "dis_kfold(DTR, LTR, pca_value, pi_value, lam_value, linear_logistic_regression, \"Linear Logistic Regression\")"
   ]
  },
  {
   "cell_type": "markdown",
   "metadata": {},
   "source": [
    "No PCA, &pi; = 0.1, &lambda; = 100.0"
   ]
  },
  {
   "cell_type": "code",
   "execution_count": null,
   "metadata": {},
   "outputs": [],
   "source": [
    "pca_value = 0\n",
    "pi_value = 0.1\n",
    "lam_value = 100.0\n",
    "dis_kfold(DTR, LTR, pca_value, pi_value, lam_value, linear_logistic_regression, \"Linear Logistic Regression\")"
   ]
  },
  {
   "cell_type": "markdown",
   "metadata": {},
   "source": [
    "No PCA, &pi; = 0.5, &lambda; = 1e-6"
   ]
  },
  {
   "cell_type": "code",
   "execution_count": null,
   "metadata": {},
   "outputs": [],
   "source": [
    "pca_value = 0\n",
    "pi_value = 0.5\n",
    "lam_value = 1e-6\n",
    "dis_kfold(DTR, LTR, pca_value, pi_value, lam_value, linear_logistic_regression, \"Linear Logistic Regression\")"
   ]
  },
  {
   "cell_type": "markdown",
   "metadata": {},
   "source": [
    "No PCA, &pi; = 0.5, &lambda; = 1e-5"
   ]
  },
  {
   "cell_type": "code",
   "execution_count": null,
   "metadata": {},
   "outputs": [],
   "source": [
    "pca_value = 0\n",
    "pi_value = 0.5\n",
    "lam_value = 1e-5\n",
    "dis_kfold(DTR, LTR, pca_value, pi_value, lam_value, linear_logistic_regression, \"Linear Logistic Regression\")"
   ]
  },
  {
   "cell_type": "markdown",
   "metadata": {},
   "source": [
    "No PCA, &pi; = 0.5, &lambda; = 1e-4"
   ]
  },
  {
   "cell_type": "code",
   "execution_count": null,
   "metadata": {},
   "outputs": [],
   "source": [
    "pca_value = 0\n",
    "pi_value = 0.5\n",
    "lam_value = 1e-4\n",
    "dis_kfold(DTR, LTR, pca_value, pi_value, lam_value, linear_logistic_regression, \"Linear Logistic Regression\")"
   ]
  },
  {
   "cell_type": "markdown",
   "metadata": {},
   "source": [
    "No PCA, &pi; = 0.5, &lambda; = 1e-3"
   ]
  },
  {
   "cell_type": "code",
   "execution_count": null,
   "metadata": {},
   "outputs": [],
   "source": [
    "pca_value = 0\n",
    "pi_value = 0.5\n",
    "lam_value = 1e-3\n",
    "dis_kfold(DTR, LTR, pca_value, pi_value, lam_value, linear_logistic_regression, \"Linear Logistic Regression\")"
   ]
  },
  {
   "cell_type": "markdown",
   "metadata": {},
   "source": [
    "No PCA, &pi; = 0.5, &lambda; = 1e-2"
   ]
  },
  {
   "cell_type": "code",
   "execution_count": null,
   "metadata": {},
   "outputs": [],
   "source": [
    "pca_value = 0\n",
    "pi_value = 0.5\n",
    "lam_value = 1e-2\n",
    "dis_kfold(DTR, LTR, pca_value, pi_value, lam_value, linear_logistic_regression, \"Linear Logistic Regression\")"
   ]
  },
  {
   "cell_type": "markdown",
   "metadata": {},
   "source": [
    "No PCA, &pi; = 0.5, &lambda; = 1e-1"
   ]
  },
  {
   "cell_type": "code",
   "execution_count": null,
   "metadata": {},
   "outputs": [],
   "source": [
    "pca_value = 0\n",
    "pi_value = 0.5\n",
    "lam_value = 1e-1\n",
    "dis_kfold(DTR, LTR, pca_value, pi_value, lam_value, linear_logistic_regression, \"Linear Logistic Regression\")"
   ]
  },
  {
   "cell_type": "markdown",
   "metadata": {},
   "source": [
    "No PCA, &pi; = 0.5, &lambda; = 1.0"
   ]
  },
  {
   "cell_type": "code",
   "execution_count": null,
   "metadata": {},
   "outputs": [],
   "source": [
    "pca_value = 0\n",
    "pi_value = 0.5\n",
    "lam_value = 1.0\n",
    "dis_kfold(DTR, LTR, pca_value, pi_value, lam_value, linear_logistic_regression, \"Linear Logistic Regression\")"
   ]
  },
  {
   "cell_type": "markdown",
   "metadata": {},
   "source": [
    "No PCA, &pi; = 0.5, &lambda; = 10.0"
   ]
  },
  {
   "cell_type": "code",
   "execution_count": null,
   "metadata": {},
   "outputs": [],
   "source": [
    "pca_value = 0\n",
    "pi_value = 0.5\n",
    "lam_value = 10.0\n",
    "dis_kfold(DTR, LTR, pca_value, pi_value, lam_value, linear_logistic_regression, \"Linear Logistic Regression\")"
   ]
  },
  {
   "cell_type": "markdown",
   "metadata": {},
   "source": [
    "No PCA, &pi; = 0.5, &lambda; = 100.0"
   ]
  },
  {
   "cell_type": "code",
   "execution_count": null,
   "metadata": {},
   "outputs": [],
   "source": [
    "pca_value = 0\n",
    "pi_value = 0.5\n",
    "lam_value = 100.0\n",
    "dis_kfold(DTR, LTR, pca_value, pi_value, lam_value, linear_logistic_regression, \"Linear Logistic Regression\")"
   ]
  },
  {
   "cell_type": "markdown",
   "metadata": {},
   "source": [
    "No PCA, &pi; = 0.9, &lambda; = 1e-6"
   ]
  },
  {
   "cell_type": "code",
   "execution_count": null,
   "metadata": {},
   "outputs": [],
   "source": [
    "pca_value = 0\n",
    "pi_value = 0.9\n",
    "lam_value = 1e-6\n",
    "dis_kfold(DTR, LTR, pca_value, pi_value, lam_value, linear_logistic_regression, \"Linear Logistic Regression\")"
   ]
  },
  {
   "cell_type": "markdown",
   "metadata": {},
   "source": [
    "No PCA, &pi; = 0.9, &lambda; = 1e-5"
   ]
  },
  {
   "cell_type": "code",
   "execution_count": null,
   "metadata": {},
   "outputs": [],
   "source": [
    "pca_value = 0\n",
    "pi_value = 0.9\n",
    "lam_value = 1e-5\n",
    "dis_kfold(DTR, LTR, pca_value, pi_value, lam_value, linear_logistic_regression, \"Linear Logistic Regression\")"
   ]
  },
  {
   "cell_type": "markdown",
   "metadata": {},
   "source": [
    "No PCA, &pi; = 0.9, &lambda; = 1e-4"
   ]
  },
  {
   "cell_type": "code",
   "execution_count": null,
   "metadata": {},
   "outputs": [],
   "source": [
    "pca_value = 0\n",
    "pi_value = 0.9\n",
    "lam_value = 1e-4\n",
    "dis_kfold(DTR, LTR, pca_value, pi_value, lam_value, linear_logistic_regression, \"Linear Logistic Regression\")"
   ]
  },
  {
   "cell_type": "markdown",
   "metadata": {},
   "source": [
    "No PCA, &pi; = 0.9, &lambda; = 1e-3"
   ]
  },
  {
   "cell_type": "code",
   "execution_count": null,
   "metadata": {},
   "outputs": [],
   "source": [
    "pca_value = 0\n",
    "pi_value = 0.9\n",
    "lam_value = 1e-3\n",
    "dis_kfold(DTR, LTR, pca_value, pi_value, lam_value, linear_logistic_regression, \"Linear Logistic Regression\")"
   ]
  },
  {
   "cell_type": "markdown",
   "metadata": {},
   "source": [
    "No PCA, &pi; = 0.9, &lambda; = 1e-2"
   ]
  },
  {
   "cell_type": "code",
   "execution_count": null,
   "metadata": {},
   "outputs": [],
   "source": [
    "pca_value = 0\n",
    "pi_value = 0.9\n",
    "lam_value = 1e-2\n",
    "dis_kfold(DTR, LTR, pca_value, pi_value, lam_value, linear_logistic_regression, \"Linear Logistic Regression\")"
   ]
  },
  {
   "cell_type": "markdown",
   "metadata": {},
   "source": [
    "No PCA, &pi; = 0.9, &lambda; = 1e-1"
   ]
  },
  {
   "cell_type": "code",
   "execution_count": null,
   "metadata": {},
   "outputs": [],
   "source": [
    "pca_value = 0\n",
    "pi_value = 0.9\n",
    "lam_value = 1e-1\n",
    "dis_kfold(DTR, LTR, pca_value, pi_value, lam_value, linear_logistic_regression, \"Linear Logistic Regression\")"
   ]
  },
  {
   "cell_type": "markdown",
   "metadata": {},
   "source": [
    "No PCA, &pi; = 0.9, &lambda; = 1.0"
   ]
  },
  {
   "cell_type": "code",
   "execution_count": null,
   "metadata": {},
   "outputs": [],
   "source": [
    "pca_value = 0\n",
    "pi_value = 0.9\n",
    "lam_value = 1.0\n",
    "dis_kfold(DTR, LTR, pca_value, pi_value, lam_value, linear_logistic_regression, \"Linear Logistic Regression\")"
   ]
  },
  {
   "cell_type": "markdown",
   "metadata": {},
   "source": [
    "No PCA, &pi; = 0.9, &lambda; = 10.0"
   ]
  },
  {
   "cell_type": "code",
   "execution_count": null,
   "metadata": {},
   "outputs": [],
   "source": [
    "pca_value = 0\n",
    "pi_value = 0.9\n",
    "lam_value = 10.0\n",
    "dis_kfold(DTR, LTR, pca_value, pi_value, lam_value, linear_logistic_regression, \"Linear Logistic Regression\")"
   ]
  },
  {
   "cell_type": "markdown",
   "metadata": {},
   "source": [
    "No PCA, &pi; = 0.9, &lambda; = 100.0"
   ]
  },
  {
   "cell_type": "code",
   "execution_count": null,
   "metadata": {},
   "outputs": [],
   "source": [
    "pca_value = 0\n",
    "pi_value = 0.9\n",
    "lam_value = 100.0\n",
    "dis_kfold(DTR, LTR, pca_value, pi_value, lam_value, linear_logistic_regression, \"Linear Logistic Regression\")"
   ]
  },
  {
   "cell_type": "markdown",
   "metadata": {},
   "source": [
    "PCA = 9, &pi; = 0.1, &lambda; = 1e-6"
   ]
  },
  {
   "cell_type": "code",
   "execution_count": null,
   "metadata": {},
   "outputs": [],
   "source": [
    "pca_value = 9\n",
    "pi_value = 0.1\n",
    "lam_value = 1e-6\n",
    "dis_kfold(DTR, LTR, pca_value, pi_value, lam_value, linear_logistic_regression, \"Linear Logistic Regression\")"
   ]
  },
  {
   "cell_type": "markdown",
   "metadata": {},
   "source": [
    "PCA = 9, &pi; = 0.1, &lambda; = 1e-5"
   ]
  },
  {
   "cell_type": "code",
   "execution_count": null,
   "metadata": {},
   "outputs": [],
   "source": [
    "pca_value = 9\n",
    "pi_value = 0.1\n",
    "lam_value = 1e-5\n",
    "dis_kfold(DTR, LTR, pca_value, pi_value, lam_value, linear_logistic_regression, \"Linear Logistic Regression\")"
   ]
  },
  {
   "cell_type": "markdown",
   "metadata": {},
   "source": [
    "PCA = 9, &pi; = 0.1, &lambda; = 1e-4"
   ]
  },
  {
   "cell_type": "code",
   "execution_count": null,
   "metadata": {},
   "outputs": [],
   "source": [
    "pca_value = 9\n",
    "pi_value = 0.1\n",
    "lam_value = 1e-4\n",
    "dis_kfold(DTR, LTR, pca_value, pi_value, lam_value, linear_logistic_regression, \"Linear Logistic Regression\")"
   ]
  },
  {
   "cell_type": "markdown",
   "metadata": {},
   "source": [
    "PCA = 9, &pi; = 0.1, &lambda; = 1e-3"
   ]
  },
  {
   "cell_type": "code",
   "execution_count": null,
   "metadata": {},
   "outputs": [],
   "source": [
    "pca_value = 9\n",
    "pi_value = 0.1\n",
    "lam_value = 1e-3\n",
    "dis_kfold(DTR, LTR, pca_value, pi_value, lam_value, linear_logistic_regression, \"Linear Logistic Regression\")"
   ]
  },
  {
   "cell_type": "markdown",
   "metadata": {},
   "source": [
    "PCA = 9, &pi; = 0.1, &lambda; = 1e-2"
   ]
  },
  {
   "cell_type": "code",
   "execution_count": null,
   "metadata": {},
   "outputs": [],
   "source": [
    "pca_value = 9\n",
    "pi_value = 0.1\n",
    "lam_value = 1e-2\n",
    "dis_kfold(DTR, LTR, pca_value, pi_value, lam_value, linear_logistic_regression, \"Linear Logistic Regression\")"
   ]
  },
  {
   "cell_type": "markdown",
   "metadata": {},
   "source": [
    "PCA = 9, &pi; = 0.1, &lambda; = 1e-1"
   ]
  },
  {
   "cell_type": "code",
   "execution_count": null,
   "metadata": {},
   "outputs": [],
   "source": [
    "pca_value = 9\n",
    "pi_value = 0.1\n",
    "lam_value = 1e-1\n",
    "dis_kfold(DTR, LTR, pca_value, pi_value, lam_value, linear_logistic_regression, \"Linear Logistic Regression\")"
   ]
  },
  {
   "cell_type": "markdown",
   "metadata": {},
   "source": [
    "PCA = 9, &pi; = 0.1, &lambda; = 1.0"
   ]
  },
  {
   "cell_type": "code",
   "execution_count": null,
   "metadata": {},
   "outputs": [],
   "source": [
    "pca_value = 9\n",
    "pi_value = 0.1\n",
    "lam_value = 1.0\n",
    "dis_kfold(DTR, LTR, pca_value, pi_value, lam_value, linear_logistic_regression, \"Linear Logistic Regression\")"
   ]
  },
  {
   "cell_type": "markdown",
   "metadata": {},
   "source": [
    "PCA = 9, &pi; = 0.1, &lambda; = 10.0"
   ]
  },
  {
   "cell_type": "code",
   "execution_count": null,
   "metadata": {},
   "outputs": [],
   "source": [
    "pca_value = 9\n",
    "pi_value = 0.1\n",
    "lam_value = 10.0\n",
    "dis_kfold(DTR, LTR, pca_value, pi_value, lam_value, linear_logistic_regression, \"Linear Logistic Regression\")"
   ]
  },
  {
   "cell_type": "markdown",
   "metadata": {},
   "source": [
    "PCA = 9, &pi; = 0.1, &lambda; = 100.0"
   ]
  },
  {
   "cell_type": "code",
   "execution_count": null,
   "metadata": {},
   "outputs": [],
   "source": [
    "pca_value = 9\n",
    "pi_value = 0.1\n",
    "lam_value = 100.0\n",
    "dis_kfold(DTR, LTR, pca_value, pi_value, lam_value, linear_logistic_regression, \"Linear Logistic Regression\")"
   ]
  },
  {
   "cell_type": "markdown",
   "metadata": {},
   "source": [
    "PCA = 9, &pi; = 0.5, &lambda; = 1e-6"
   ]
  },
  {
   "cell_type": "code",
   "execution_count": null,
   "metadata": {},
   "outputs": [],
   "source": [
    "pca_value = 9\n",
    "pi_value = 0.5\n",
    "lam_value = 1e-6\n",
    "dis_kfold(DTR, LTR, pca_value, pi_value, lam_value, linear_logistic_regression, \"Linear Logistic Regression\")"
   ]
  },
  {
   "cell_type": "markdown",
   "metadata": {},
   "source": [
    "PCA = 9, &pi; = 0.5, &lambda; = 1e-5"
   ]
  },
  {
   "cell_type": "code",
   "execution_count": null,
   "metadata": {},
   "outputs": [],
   "source": [
    "pca_value = 9\n",
    "pi_value = 0.5\n",
    "lam_value = 1e-5\n",
    "dis_kfold(DTR, LTR, pca_value, pi_value, lam_value, linear_logistic_regression, \"Linear Logistic Regression\")"
   ]
  },
  {
   "cell_type": "markdown",
   "metadata": {},
   "source": [
    "PCA = 9, &pi; = 0.5, &lambda; = 1e-4"
   ]
  },
  {
   "cell_type": "code",
   "execution_count": null,
   "metadata": {},
   "outputs": [],
   "source": [
    "pca_value = 9\n",
    "pi_value = 0.5\n",
    "lam_value = 1e-4\n",
    "dis_kfold(DTR, LTR, pca_value, pi_value, lam_value, linear_logistic_regression, \"Linear Logistic Regression\")"
   ]
  },
  {
   "cell_type": "markdown",
   "metadata": {},
   "source": [
    "PCA = 9, &pi; = 0.5, &lambda; = 1e-3"
   ]
  },
  {
   "cell_type": "code",
   "execution_count": null,
   "metadata": {},
   "outputs": [],
   "source": [
    "pca_value = 9\n",
    "pi_value = 0.5\n",
    "lam_value = 1e-3\n",
    "dis_kfold(DTR, LTR, pca_value, pi_value, lam_value, linear_logistic_regression, \"Linear Logistic Regression\")"
   ]
  },
  {
   "cell_type": "markdown",
   "metadata": {},
   "source": [
    "PCA = 9, &pi; = 0.5, &lambda; = 1e-2"
   ]
  },
  {
   "cell_type": "code",
   "execution_count": null,
   "metadata": {},
   "outputs": [],
   "source": [
    "pca_value = 9\n",
    "pi_value = 0.5\n",
    "lam_value = 1e-2\n",
    "dis_kfold(DTR, LTR, pca_value, pi_value, lam_value, linear_logistic_regression, \"Linear Logistic Regression\")"
   ]
  },
  {
   "cell_type": "markdown",
   "metadata": {},
   "source": [
    "PCA = 9, &pi; = 0.5, &lambda; = 1e-1"
   ]
  },
  {
   "cell_type": "code",
   "execution_count": null,
   "metadata": {},
   "outputs": [],
   "source": [
    "pca_value = 9\n",
    "pi_value = 0.5\n",
    "lam_value = 1e-1\n",
    "dis_kfold(DTR, LTR, pca_value, pi_value, lam_value, linear_logistic_regression, \"Linear Logistic Regression\")"
   ]
  },
  {
   "cell_type": "markdown",
   "metadata": {},
   "source": [
    "PCA = 9, &pi; = 0.5, &lambda; = 1.0"
   ]
  },
  {
   "cell_type": "code",
   "execution_count": null,
   "metadata": {},
   "outputs": [],
   "source": [
    "pca_value = 9\n",
    "pi_value = 0.5\n",
    "lam_value = 1.0\n",
    "dis_kfold(DTR, LTR, pca_value, pi_value, lam_value, linear_logistic_regression, \"Linear Logistic Regression\")"
   ]
  },
  {
   "cell_type": "markdown",
   "metadata": {},
   "source": [
    "PCA = 9, &pi; = 0.5, &lambda; = 10.0"
   ]
  },
  {
   "cell_type": "code",
   "execution_count": null,
   "metadata": {},
   "outputs": [],
   "source": [
    "pca_value = 9\n",
    "pi_value = 0.5\n",
    "lam_value = 10.0\n",
    "dis_kfold(DTR, LTR, pca_value, pi_value, lam_value, linear_logistic_regression, \"Linear Logistic Regression\")"
   ]
  },
  {
   "cell_type": "markdown",
   "metadata": {},
   "source": [
    "PCA = 9, &pi; = 0.5, &lambda; = 100.0"
   ]
  },
  {
   "cell_type": "code",
   "execution_count": null,
   "metadata": {},
   "outputs": [],
   "source": [
    "pca_value = 9\n",
    "pi_value = 0.5\n",
    "lam_value = 100.0\n",
    "dis_kfold(DTR, LTR, pca_value, pi_value, lam_value, linear_logistic_regression, \"Linear Logistic Regression\")"
   ]
  },
  {
   "cell_type": "markdown",
   "metadata": {},
   "source": [
    "PCA = 9, &pi; = 0.9, &lambda; = 1e-6"
   ]
  },
  {
   "cell_type": "code",
   "execution_count": null,
   "metadata": {},
   "outputs": [],
   "source": [
    "pca_value = 9\n",
    "pi_value = 0.9\n",
    "lam_value = 1e-6\n",
    "dis_kfold(DTR, LTR, pca_value, pi_value, lam_value, linear_logistic_regression, \"Linear Logistic Regression\")"
   ]
  },
  {
   "cell_type": "markdown",
   "metadata": {},
   "source": [
    "PCA = 9, &pi; = 0.9, &lambda; = 1e-5"
   ]
  },
  {
   "cell_type": "code",
   "execution_count": null,
   "metadata": {},
   "outputs": [],
   "source": [
    "pca_value = 9\n",
    "pi_value = 0.9\n",
    "lam_value = 1e-5\n",
    "dis_kfold(DTR, LTR, pca_value, pi_value, lam_value, linear_logistic_regression, \"Linear Logistic Regression\")"
   ]
  },
  {
   "cell_type": "markdown",
   "metadata": {},
   "source": [
    "PCA = 9, &pi; = 0.9, &lambda; = 1e-4"
   ]
  },
  {
   "cell_type": "code",
   "execution_count": null,
   "metadata": {},
   "outputs": [],
   "source": [
    "pca_value = 9\n",
    "pi_value = 0.9\n",
    "lam_value = 1e-4\n",
    "dis_kfold(DTR, LTR, pca_value, pi_value, lam_value, linear_logistic_regression, \"Linear Logistic Regression\")"
   ]
  },
  {
   "cell_type": "markdown",
   "metadata": {},
   "source": [
    "PCA = 9, &pi; = 0.9, &lambda; = 1e-3"
   ]
  },
  {
   "cell_type": "code",
   "execution_count": null,
   "metadata": {},
   "outputs": [],
   "source": [
    "pca_value = 9\n",
    "pi_value = 0.9\n",
    "lam_value = 1e-3\n",
    "dis_kfold(DTR, LTR, pca_value, pi_value, lam_value, linear_logistic_regression, \"Linear Logistic Regression\")"
   ]
  },
  {
   "cell_type": "markdown",
   "metadata": {},
   "source": [
    "PCA = 9, &pi; = 0.9, &lambda; = 1e-2"
   ]
  },
  {
   "cell_type": "code",
   "execution_count": null,
   "metadata": {},
   "outputs": [],
   "source": [
    "pca_value = 9\n",
    "pi_value = 0.9\n",
    "lam_value = 1e-2\n",
    "dis_kfold(DTR, LTR, pca_value, pi_value, lam_value, linear_logistic_regression, \"Linear Logistic Regression\")"
   ]
  },
  {
   "cell_type": "markdown",
   "metadata": {},
   "source": [
    "PCA = 9, &pi; = 0.9, &lambda; = 1e-1"
   ]
  },
  {
   "cell_type": "code",
   "execution_count": null,
   "metadata": {},
   "outputs": [],
   "source": [
    "pca_value = 9\n",
    "pi_value = 0.9\n",
    "lam_value = 1e-1\n",
    "dis_kfold(DTR, LTR, pca_value, pi_value, lam_value, linear_logistic_regression, \"Linear Logistic Regression\")"
   ]
  },
  {
   "cell_type": "markdown",
   "metadata": {},
   "source": [
    "PCA = 9, &pi; = 0.9, &lambda; = 1.0"
   ]
  },
  {
   "cell_type": "code",
   "execution_count": null,
   "metadata": {},
   "outputs": [],
   "source": [
    "pca_value = 9\n",
    "pi_value = 0.9\n",
    "lam_value = 1.0\n",
    "dis_kfold(DTR, LTR, pca_value, pi_value, lam_value, linear_logistic_regression, \"Linear Logistic Regression\")"
   ]
  },
  {
   "cell_type": "markdown",
   "metadata": {},
   "source": [
    "PCA = 9, &pi; = 0.9, &lambda; = 10.0"
   ]
  },
  {
   "cell_type": "code",
   "execution_count": null,
   "metadata": {},
   "outputs": [],
   "source": [
    "pca_value = 9\n",
    "pi_value = 0.9\n",
    "lam_value = 10.0\n",
    "dis_kfold(DTR, LTR, pca_value, pi_value, lam_value, linear_logistic_regression, \"Linear Logistic Regression\")"
   ]
  },
  {
   "cell_type": "markdown",
   "metadata": {},
   "source": [
    "PCA = 9, &pi; = 0.9, &lambda; = 100.0"
   ]
  },
  {
   "cell_type": "code",
   "execution_count": null,
   "metadata": {},
   "outputs": [],
   "source": [
    "pca_value = 9\n",
    "pi_value = 0.9\n",
    "lam_value = 100.0\n",
    "dis_kfold(DTR, LTR, pca_value, pi_value, lam_value, linear_logistic_regression, \"Linear Logistic Regression\")"
   ]
  },
  {
   "cell_type": "markdown",
   "metadata": {},
   "source": [
    "PCA = 8, &pi; = 0.1, &lambda; = 1e-6"
   ]
  },
  {
   "cell_type": "code",
   "execution_count": null,
   "metadata": {},
   "outputs": [],
   "source": [
    "pca_value = 8\n",
    "pi_value = 0.1\n",
    "lam_value = 1e-6\n",
    "dis_kfold(DTR, LTR, pca_value, pi_value, lam_value, linear_logistic_regression, \"Linear Logistic Regression\")"
   ]
  },
  {
   "cell_type": "markdown",
   "metadata": {},
   "source": [
    "PCA = 8, &pi; = 0.1, &lambda; = 1e-5"
   ]
  },
  {
   "cell_type": "code",
   "execution_count": null,
   "metadata": {},
   "outputs": [],
   "source": [
    "pca_value = 8\n",
    "pi_value = 0.1\n",
    "lam_value = 1e-5\n",
    "dis_kfold(DTR, LTR, pca_value, pi_value, lam_value, linear_logistic_regression, \"Linear Logistic Regression\")"
   ]
  },
  {
   "cell_type": "markdown",
   "metadata": {},
   "source": [
    "PCA = 8, &pi; = 0.1, &lambda; = 1e-4"
   ]
  },
  {
   "cell_type": "code",
   "execution_count": null,
   "metadata": {},
   "outputs": [],
   "source": [
    "pca_value = 8\n",
    "pi_value = 0.1\n",
    "lam_value = 1e-4\n",
    "dis_kfold(DTR, LTR, pca_value, pi_value, lam_value, linear_logistic_regression, \"Linear Logistic Regression\")"
   ]
  },
  {
   "cell_type": "markdown",
   "metadata": {},
   "source": [
    "PCA = 8, &pi; = 0.1, &lambda; = 1e-3"
   ]
  },
  {
   "cell_type": "code",
   "execution_count": null,
   "metadata": {},
   "outputs": [],
   "source": [
    "pca_value = 8\n",
    "pi_value = 0.1\n",
    "lam_value = 1e-3\n",
    "dis_kfold(DTR, LTR, pca_value, pi_value, lam_value, linear_logistic_regression, \"Linear Logistic Regression\")"
   ]
  },
  {
   "cell_type": "markdown",
   "metadata": {},
   "source": [
    "PCA = 8, &pi; = 0.1, &lambda; = 1e-2"
   ]
  },
  {
   "cell_type": "code",
   "execution_count": null,
   "metadata": {},
   "outputs": [],
   "source": [
    "pca_value = 8\n",
    "pi_value = 0.1\n",
    "lam_value = 1e-2\n",
    "dis_kfold(DTR, LTR, pca_value, pi_value, lam_value, linear_logistic_regression, \"Linear Logistic Regression\")"
   ]
  },
  {
   "cell_type": "markdown",
   "metadata": {},
   "source": [
    "PCA = 8, &pi; = 0.1, &lambda; = 1e-1"
   ]
  },
  {
   "cell_type": "code",
   "execution_count": null,
   "metadata": {},
   "outputs": [],
   "source": [
    "pca_value = 8\n",
    "pi_value = 0.1\n",
    "lam_value = 1e-1\n",
    "dis_kfold(DTR, LTR, pca_value, pi_value, lam_value, linear_logistic_regression, \"Linear Logistic Regression\")"
   ]
  },
  {
   "cell_type": "markdown",
   "metadata": {},
   "source": [
    "PCA = 8, &pi; = 0.1, &lambda; = 1.0"
   ]
  },
  {
   "cell_type": "code",
   "execution_count": null,
   "metadata": {},
   "outputs": [],
   "source": [
    "pca_value = 8\n",
    "pi_value = 0.1\n",
    "lam_value = 1.0\n",
    "dis_kfold(DTR, LTR, pca_value, pi_value, lam_value, linear_logistic_regression, \"Linear Logistic Regression\")"
   ]
  },
  {
   "cell_type": "markdown",
   "metadata": {},
   "source": [
    "PCA = 8, &pi; = 0.1, &lambda; = 10.0"
   ]
  },
  {
   "cell_type": "code",
   "execution_count": null,
   "metadata": {},
   "outputs": [],
   "source": [
    "pca_value = 8\n",
    "pi_value = 0.1\n",
    "lam_value = 10.0\n",
    "dis_kfold(DTR, LTR, pca_value, pi_value, lam_value, linear_logistic_regression, \"Linear Logistic Regression\")"
   ]
  },
  {
   "cell_type": "markdown",
   "metadata": {},
   "source": [
    "PCA = 8, &pi; = 0.1, &lambda; = 100.0"
   ]
  },
  {
   "cell_type": "code",
   "execution_count": null,
   "metadata": {},
   "outputs": [],
   "source": [
    "pca_value = 8\n",
    "pi_value = 0.1\n",
    "lam_value = 100.0\n",
    "dis_kfold(DTR, LTR, pca_value, pi_value, lam_value, linear_logistic_regression, \"Linear Logistic Regression\")"
   ]
  },
  {
   "cell_type": "markdown",
   "metadata": {},
   "source": [
    "PCA = 8, &pi; = 0.5, &lambda; = 1e-6"
   ]
  },
  {
   "cell_type": "code",
   "execution_count": null,
   "metadata": {},
   "outputs": [],
   "source": [
    "pca_value = 8\n",
    "pi_value = 0.5\n",
    "lam_value = 1e-6\n",
    "dis_kfold(DTR, LTR, pca_value, pi_value, lam_value, linear_logistic_regression, \"Linear Logistic Regression\")"
   ]
  },
  {
   "cell_type": "markdown",
   "metadata": {},
   "source": [
    "PCA = 8, &pi; = 0.5, &lambda; = 1e-5"
   ]
  },
  {
   "cell_type": "code",
   "execution_count": null,
   "metadata": {},
   "outputs": [],
   "source": [
    "pca_value = 8\n",
    "pi_value = 0.5\n",
    "lam_value = 1e-5\n",
    "dis_kfold(DTR, LTR, pca_value, pi_value, lam_value, linear_logistic_regression, \"Linear Logistic Regression\")"
   ]
  },
  {
   "cell_type": "markdown",
   "metadata": {},
   "source": [
    "PCA = 8, &pi; = 0.5, &lambda; = 1e-4"
   ]
  },
  {
   "cell_type": "code",
   "execution_count": null,
   "metadata": {},
   "outputs": [],
   "source": [
    "pca_value = 8\n",
    "pi_value = 0.5\n",
    "lam_value = 1e-4\n",
    "dis_kfold(DTR, LTR, pca_value, pi_value, lam_value, linear_logistic_regression, \"Linear Logistic Regression\")"
   ]
  },
  {
   "cell_type": "markdown",
   "metadata": {},
   "source": [
    "PCA = 8, &pi; = 0.5, &lambda; = 1e-3"
   ]
  },
  {
   "cell_type": "code",
   "execution_count": null,
   "metadata": {},
   "outputs": [],
   "source": [
    "pca_value = 8\n",
    "pi_value = 0.5\n",
    "lam_value = 1e-3\n",
    "dis_kfold(DTR, LTR, pca_value, pi_value, lam_value, linear_logistic_regression, \"Linear Logistic Regression\")"
   ]
  },
  {
   "cell_type": "markdown",
   "metadata": {},
   "source": [
    "PCA = 8, &pi; = 0.5, &lambda; = 1e-2"
   ]
  },
  {
   "cell_type": "code",
   "execution_count": null,
   "metadata": {},
   "outputs": [],
   "source": [
    "pca_value = 8\n",
    "pi_value = 0.5\n",
    "lam_value = 1e-2\n",
    "dis_kfold(DTR, LTR, pca_value, pi_value, lam_value, linear_logistic_regression, \"Linear Logistic Regression\")"
   ]
  },
  {
   "cell_type": "markdown",
   "metadata": {},
   "source": [
    "PCA = 8, &pi; = 0.5, &lambda; = 1e-1"
   ]
  },
  {
   "cell_type": "code",
   "execution_count": null,
   "metadata": {},
   "outputs": [],
   "source": [
    "pca_value = 8\n",
    "pi_value = 0.5\n",
    "lam_value = 1e-1\n",
    "dis_kfold(DTR, LTR, pca_value, pi_value, lam_value, linear_logistic_regression, \"Linear Logistic Regression\")"
   ]
  },
  {
   "cell_type": "markdown",
   "metadata": {},
   "source": [
    "PCA = 8, &pi; = 0.5, &lambda; = 1.0"
   ]
  },
  {
   "cell_type": "code",
   "execution_count": null,
   "metadata": {},
   "outputs": [],
   "source": [
    "pca_value = 8\n",
    "pi_value = 0.5\n",
    "lam_value = 1.0\n",
    "dis_kfold(DTR, LTR, pca_value, pi_value, lam_value, linear_logistic_regression, \"Linear Logistic Regression\")"
   ]
  },
  {
   "cell_type": "markdown",
   "metadata": {},
   "source": [
    "PCA = 8, &pi; = 0.5, &lambda; = 10.0"
   ]
  },
  {
   "cell_type": "code",
   "execution_count": null,
   "metadata": {},
   "outputs": [],
   "source": [
    "pca_value = 8\n",
    "pi_value = 0.5\n",
    "lam_value = 10.0\n",
    "dis_kfold(DTR, LTR, pca_value, pi_value, lam_value, linear_logistic_regression, \"Linear Logistic Regression\")"
   ]
  },
  {
   "cell_type": "markdown",
   "metadata": {},
   "source": [
    "PCA = 8, &pi; = 0.5, &lambda; = 100.0"
   ]
  },
  {
   "cell_type": "code",
   "execution_count": null,
   "metadata": {},
   "outputs": [],
   "source": [
    "pca_value = 8\n",
    "pi_value = 0.5\n",
    "lam_value = 100.0\n",
    "dis_kfold(DTR, LTR, pca_value, pi_value, lam_value, linear_logistic_regression, \"Linear Logistic Regression\")"
   ]
  },
  {
   "cell_type": "markdown",
   "metadata": {},
   "source": [
    "PCA = 8, &pi; = 0.9, &lambda; = 1e-6"
   ]
  },
  {
   "cell_type": "code",
   "execution_count": null,
   "metadata": {},
   "outputs": [],
   "source": [
    "pca_value = 8\n",
    "pi_value = 0.9\n",
    "lam_value = 1e-6\n",
    "dis_kfold(DTR, LTR, pca_value, pi_value, lam_value, linear_logistic_regression, \"Linear Logistic Regression\")"
   ]
  },
  {
   "cell_type": "markdown",
   "metadata": {},
   "source": [
    "PCA = 8, &pi; = 0.9, &lambda; = 1e-5"
   ]
  },
  {
   "cell_type": "code",
   "execution_count": null,
   "metadata": {},
   "outputs": [],
   "source": [
    "pca_value = 8\n",
    "pi_value = 0.9\n",
    "lam_value = 1e-5\n",
    "dis_kfold(DTR, LTR, pca_value, pi_value, lam_value, linear_logistic_regression, \"Linear Logistic Regression\")"
   ]
  },
  {
   "cell_type": "markdown",
   "metadata": {},
   "source": [
    "PCA = 8, &pi; = 0.9, &lambda; = 1e-4"
   ]
  },
  {
   "cell_type": "code",
   "execution_count": null,
   "metadata": {},
   "outputs": [],
   "source": [
    "pca_value = 8\n",
    "pi_value = 0.9\n",
    "lam_value = 1e-4\n",
    "dis_kfold(DTR, LTR, pca_value, pi_value, lam_value, linear_logistic_regression, \"Linear Logistic Regression\")"
   ]
  },
  {
   "cell_type": "markdown",
   "metadata": {},
   "source": [
    "PCA = 8, &pi; = 0.9, &lambda; = 1e-3"
   ]
  },
  {
   "cell_type": "code",
   "execution_count": null,
   "metadata": {},
   "outputs": [],
   "source": [
    "pca_value = 8\n",
    "pi_value = 0.9\n",
    "lam_value = 1e-3\n",
    "dis_kfold(DTR, LTR, pca_value, pi_value, lam_value, linear_logistic_regression, \"Linear Logistic Regression\")"
   ]
  },
  {
   "cell_type": "markdown",
   "metadata": {},
   "source": [
    "PCA = 8, &pi; = 0.9, &lambda; = 1e-2"
   ]
  },
  {
   "cell_type": "code",
   "execution_count": null,
   "metadata": {},
   "outputs": [],
   "source": [
    "pca_value = 8\n",
    "pi_value = 0.9\n",
    "lam_value = 1e-2\n",
    "dis_kfold(DTR, LTR, pca_value, pi_value, lam_value, linear_logistic_regression, \"Linear Logistic Regression\")"
   ]
  },
  {
   "cell_type": "markdown",
   "metadata": {},
   "source": [
    "PCA = 8, &pi; = 0.9, &lambda; = 1e-1"
   ]
  },
  {
   "cell_type": "code",
   "execution_count": null,
   "metadata": {},
   "outputs": [],
   "source": [
    "pca_value = 8\n",
    "pi_value = 0.9\n",
    "lam_value = 1e-1\n",
    "dis_kfold(DTR, LTR, pca_value, pi_value, lam_value, linear_logistic_regression, \"Linear Logistic Regression\")"
   ]
  },
  {
   "cell_type": "markdown",
   "metadata": {},
   "source": [
    "PCA = 8, &pi; = 0.9, &lambda; = 1.0"
   ]
  },
  {
   "cell_type": "code",
   "execution_count": null,
   "metadata": {},
   "outputs": [],
   "source": [
    "pca_value = 8\n",
    "pi_value = 0.9\n",
    "lam_value = 1.0\n",
    "dis_kfold(DTR, LTR, pca_value, pi_value, lam_value, linear_logistic_regression, \"Linear Logistic Regression\")"
   ]
  },
  {
   "cell_type": "markdown",
   "metadata": {},
   "source": [
    "PCA = 8, &pi; = 0.9, &lambda; = 10.0"
   ]
  },
  {
   "cell_type": "code",
   "execution_count": null,
   "metadata": {},
   "outputs": [],
   "source": [
    "pca_value = 8\n",
    "pi_value = 0.9\n",
    "lam_value = 10.0\n",
    "dis_kfold(DTR, LTR, pca_value, pi_value, lam_value, linear_logistic_regression, \"Linear Logistic Regression\")"
   ]
  },
  {
   "cell_type": "markdown",
   "metadata": {},
   "source": [
    "PCA = 8, &pi; = 0.9, &lambda; = 100.0"
   ]
  },
  {
   "cell_type": "code",
   "execution_count": null,
   "metadata": {},
   "outputs": [],
   "source": [
    "pca_value = 8\n",
    "pi_value = 0.9\n",
    "lam_value = 100.0\n",
    "dis_kfold(DTR, LTR, pca_value, pi_value, lam_value, linear_logistic_regression, \"Linear Logistic Regression\")"
   ]
  },
  {
   "cell_type": "markdown",
   "metadata": {},
   "source": [
    "PCA = 7, &pi; = 0.1, &lambda; = 1e-6"
   ]
  },
  {
   "cell_type": "code",
   "execution_count": null,
   "metadata": {},
   "outputs": [],
   "source": [
    "pca_value = 7\n",
    "pi_value = 0.1\n",
    "lam_value = 1e-6\n",
    "dis_kfold(DTR, LTR, pca_value, pi_value, lam_value, linear_logistic_regression, \"Linear Logistic Regression\")"
   ]
  },
  {
   "cell_type": "markdown",
   "metadata": {},
   "source": [
    "PCA = 7, &pi; = 0.1, &lambda; = 1e-5"
   ]
  },
  {
   "cell_type": "code",
   "execution_count": null,
   "metadata": {},
   "outputs": [],
   "source": [
    "pca_value = 7\n",
    "pi_value = 0.1\n",
    "lam_value = 1e-5\n",
    "dis_kfold(DTR, LTR, pca_value, pi_value, lam_value, linear_logistic_regression, \"Linear Logistic Regression\")"
   ]
  },
  {
   "cell_type": "markdown",
   "metadata": {},
   "source": [
    "PCA = 7, &pi; = 0.1, &lambda; = 1e-4"
   ]
  },
  {
   "cell_type": "code",
   "execution_count": null,
   "metadata": {},
   "outputs": [],
   "source": [
    "pca_value = 7\n",
    "pi_value = 0.1\n",
    "lam_value = 1e-4\n",
    "dis_kfold(DTR, LTR, pca_value, pi_value, lam_value, linear_logistic_regression, \"Linear Logistic Regression\")"
   ]
  },
  {
   "cell_type": "markdown",
   "metadata": {},
   "source": [
    "PCA = 7, &pi; = 0.1, &lambda; = 1e-3"
   ]
  },
  {
   "cell_type": "code",
   "execution_count": null,
   "metadata": {},
   "outputs": [],
   "source": [
    "pca_value = 7\n",
    "pi_value = 0.1\n",
    "lam_value = 1e-3\n",
    "dis_kfold(DTR, LTR, pca_value, pi_value, lam_value, linear_logistic_regression, \"Linear Logistic Regression\")"
   ]
  },
  {
   "cell_type": "markdown",
   "metadata": {},
   "source": [
    "PCA = 7, &pi; = 0.1, &lambda; = 1e-2"
   ]
  },
  {
   "cell_type": "code",
   "execution_count": null,
   "metadata": {},
   "outputs": [],
   "source": [
    "pca_value = 7\n",
    "pi_value = 0.1\n",
    "lam_value = 1e-2\n",
    "dis_kfold(DTR, LTR, pca_value, pi_value, lam_value, linear_logistic_regression, \"Linear Logistic Regression\")"
   ]
  },
  {
   "cell_type": "markdown",
   "metadata": {},
   "source": [
    "PCA = 7, &pi; = 0.1, &lambda; = 1e-1"
   ]
  },
  {
   "cell_type": "code",
   "execution_count": null,
   "metadata": {},
   "outputs": [],
   "source": [
    "pca_value = 7\n",
    "pi_value = 0.1\n",
    "lam_value = 1e-1\n",
    "dis_kfold(DTR, LTR, pca_value, pi_value, lam_value, linear_logistic_regression, \"Linear Logistic Regression\")"
   ]
  },
  {
   "cell_type": "markdown",
   "metadata": {},
   "source": [
    "PCA = 7, &pi; = 0.1, &lambda; = 1.0"
   ]
  },
  {
   "cell_type": "code",
   "execution_count": null,
   "metadata": {},
   "outputs": [],
   "source": [
    "pca_value = 7\n",
    "pi_value = 0.1\n",
    "lam_value = 1.0\n",
    "dis_kfold(DTR, LTR, pca_value, pi_value, lam_value, linear_logistic_regression, \"Linear Logistic Regression\")"
   ]
  },
  {
   "cell_type": "markdown",
   "metadata": {},
   "source": [
    "PCA = 7, &pi; = 0.1, &lambda; = 10.0"
   ]
  },
  {
   "cell_type": "code",
   "execution_count": null,
   "metadata": {},
   "outputs": [],
   "source": [
    "pca_value = 7\n",
    "pi_value = 0.1\n",
    "lam_value = 10.0\n",
    "dis_kfold(DTR, LTR, pca_value, pi_value, lam_value, linear_logistic_regression, \"Linear Logistic Regression\")"
   ]
  },
  {
   "cell_type": "markdown",
   "metadata": {},
   "source": [
    "PCA = 7, &pi; = 0.1, &lambda; = 100.0"
   ]
  },
  {
   "cell_type": "code",
   "execution_count": null,
   "metadata": {},
   "outputs": [],
   "source": [
    "pca_value = 7\n",
    "pi_value = 0.1\n",
    "lam_value = 100.0\n",
    "dis_kfold(DTR, LTR, pca_value, pi_value, lam_value, linear_logistic_regression, \"Linear Logistic Regression\")"
   ]
  },
  {
   "cell_type": "markdown",
   "metadata": {},
   "source": [
    "PCA = 7, &pi; = 0.5, &lambda; = 1e-6"
   ]
  },
  {
   "cell_type": "code",
   "execution_count": null,
   "metadata": {},
   "outputs": [],
   "source": [
    "pca_value = 7\n",
    "pi_value = 0.5\n",
    "lam_value = 1e-6\n",
    "dis_kfold(DTR, LTR, pca_value, pi_value, lam_value, linear_logistic_regression, \"Linear Logistic Regression\")"
   ]
  },
  {
   "cell_type": "markdown",
   "metadata": {},
   "source": [
    "PCA = 7, &pi; = 0.5, &lambda; = 1e-5"
   ]
  },
  {
   "cell_type": "code",
   "execution_count": null,
   "metadata": {},
   "outputs": [],
   "source": [
    "pca_value = 7\n",
    "pi_value = 0.5\n",
    "lam_value = 1e-5\n",
    "dis_kfold(DTR, LTR, pca_value, pi_value, lam_value, linear_logistic_regression, \"Linear Logistic Regression\")"
   ]
  },
  {
   "cell_type": "markdown",
   "metadata": {},
   "source": [
    "PCA = 7, &pi; = 0.5, &lambda; = 1e-4"
   ]
  },
  {
   "cell_type": "code",
   "execution_count": null,
   "metadata": {},
   "outputs": [],
   "source": [
    "pca_value = 7\n",
    "pi_value = 0.5\n",
    "lam_value = 1e-4\n",
    "dis_kfold(DTR, LTR, pca_value, pi_value, lam_value, linear_logistic_regression, \"Linear Logistic Regression\")"
   ]
  },
  {
   "cell_type": "markdown",
   "metadata": {},
   "source": [
    "PCA = 7, &pi; = 0.5, &lambda; = 1e-3"
   ]
  },
  {
   "cell_type": "code",
   "execution_count": null,
   "metadata": {},
   "outputs": [],
   "source": [
    "pca_value = 7\n",
    "pi_value = 0.5\n",
    "lam_value = 1e-3\n",
    "dis_kfold(DTR, LTR, pca_value, pi_value, lam_value, linear_logistic_regression, \"Linear Logistic Regression\")"
   ]
  },
  {
   "cell_type": "markdown",
   "metadata": {},
   "source": [
    "PCA = 7, &pi; = 0.5, &lambda; = 1e-2"
   ]
  },
  {
   "cell_type": "code",
   "execution_count": null,
   "metadata": {},
   "outputs": [],
   "source": [
    "pca_value = 7\n",
    "pi_value = 0.5\n",
    "lam_value = 1e-2\n",
    "dis_kfold(DTR, LTR, pca_value, pi_value, lam_value, linear_logistic_regression, \"Linear Logistic Regression\")"
   ]
  },
  {
   "cell_type": "markdown",
   "metadata": {},
   "source": [
    "PCA = 7, &pi; = 0.5, &lambda; = 1e-1"
   ]
  },
  {
   "cell_type": "code",
   "execution_count": null,
   "metadata": {},
   "outputs": [],
   "source": [
    "pca_value = 7\n",
    "pi_value = 0.5\n",
    "lam_value = 1e-1\n",
    "dis_kfold(DTR, LTR, pca_value, pi_value, lam_value, linear_logistic_regression, \"Linear Logistic Regression\")"
   ]
  },
  {
   "cell_type": "markdown",
   "metadata": {},
   "source": [
    "PCA = 7, &pi; = 0.5, &lambda; = 1.0"
   ]
  },
  {
   "cell_type": "code",
   "execution_count": null,
   "metadata": {},
   "outputs": [],
   "source": [
    "pca_value = 7\n",
    "pi_value = 0.5\n",
    "lam_value = 1.0\n",
    "dis_kfold(DTR, LTR, pca_value, pi_value, lam_value, linear_logistic_regression, \"Linear Logistic Regression\")"
   ]
  },
  {
   "cell_type": "markdown",
   "metadata": {},
   "source": [
    "PCA = 7, &pi; = 0.5, &lambda; = 10.0"
   ]
  },
  {
   "cell_type": "code",
   "execution_count": null,
   "metadata": {},
   "outputs": [],
   "source": [
    "pca_value = 7\n",
    "pi_value = 0.5\n",
    "lam_value = 10.0\n",
    "dis_kfold(DTR, LTR, pca_value, pi_value, lam_value, linear_logistic_regression, \"Linear Logistic Regression\")"
   ]
  },
  {
   "cell_type": "markdown",
   "metadata": {},
   "source": [
    "PCA = 7, &pi; = 0.5, &lambda; = 100.0"
   ]
  },
  {
   "cell_type": "code",
   "execution_count": null,
   "metadata": {},
   "outputs": [],
   "source": [
    "pca_value = 7\n",
    "pi_value = 0.5\n",
    "lam_value = 100.0\n",
    "dis_kfold(DTR, LTR, pca_value, pi_value, lam_value, linear_logistic_regression, \"Linear Logistic Regression\")"
   ]
  },
  {
   "cell_type": "markdown",
   "metadata": {},
   "source": [
    "PCA = 7, &pi; = 0.9, &lambda; = 1e-6"
   ]
  },
  {
   "cell_type": "code",
   "execution_count": null,
   "metadata": {},
   "outputs": [],
   "source": [
    "pca_value = 7\n",
    "pi_value = 0.9\n",
    "lam_value = 1e-6\n",
    "dis_kfold(DTR, LTR, pca_value, pi_value, lam_value, linear_logistic_regression, \"Linear Logistic Regression\")"
   ]
  },
  {
   "cell_type": "markdown",
   "metadata": {},
   "source": [
    "PCA = 7, &pi; = 0.9, &lambda; = 1e-5"
   ]
  },
  {
   "cell_type": "code",
   "execution_count": null,
   "metadata": {},
   "outputs": [],
   "source": [
    "pca_value = 7\n",
    "pi_value = 0.9\n",
    "lam_value = 1e-5\n",
    "dis_kfold(DTR, LTR, pca_value, pi_value, lam_value, linear_logistic_regression, \"Linear Logistic Regression\")"
   ]
  },
  {
   "cell_type": "markdown",
   "metadata": {},
   "source": [
    "PCA = 7, &pi; = 0.9, &lambda; = 1e-4"
   ]
  },
  {
   "cell_type": "code",
   "execution_count": null,
   "metadata": {},
   "outputs": [],
   "source": [
    "pca_value = 7\n",
    "pi_value = 0.9\n",
    "lam_value = 1e-4\n",
    "dis_kfold(DTR, LTR, pca_value, pi_value, lam_value, linear_logistic_regression, \"Linear Logistic Regression\")"
   ]
  },
  {
   "cell_type": "markdown",
   "metadata": {},
   "source": [
    "PCA = 7, &pi; = 0.9, &lambda; = 1e-3"
   ]
  },
  {
   "cell_type": "code",
   "execution_count": null,
   "metadata": {},
   "outputs": [],
   "source": [
    "pca_value = 7\n",
    "pi_value = 0.9\n",
    "lam_value = 1e-3\n",
    "dis_kfold(DTR, LTR, pca_value, pi_value, lam_value, linear_logistic_regression, \"Linear Logistic Regression\")"
   ]
  },
  {
   "cell_type": "markdown",
   "metadata": {},
   "source": [
    "PCA = 7, &pi; = 0.9, &lambda; = 1e-2"
   ]
  },
  {
   "cell_type": "code",
   "execution_count": null,
   "metadata": {},
   "outputs": [],
   "source": [
    "pca_value = 7\n",
    "pi_value = 0.9\n",
    "lam_value = 1e-2\n",
    "dis_kfold(DTR, LTR, pca_value, pi_value, lam_value, linear_logistic_regression, \"Linear Logistic Regression\")"
   ]
  },
  {
   "cell_type": "markdown",
   "metadata": {},
   "source": [
    "PCA = 7, &pi; = 0.9, &lambda; = 1e-1"
   ]
  },
  {
   "cell_type": "code",
   "execution_count": null,
   "metadata": {},
   "outputs": [],
   "source": [
    "pca_value = 7\n",
    "pi_value = 0.9\n",
    "lam_value = 1e-1\n",
    "dis_kfold(DTR, LTR, pca_value, pi_value, lam_value, linear_logistic_regression, \"Linear Logistic Regression\")"
   ]
  },
  {
   "cell_type": "markdown",
   "metadata": {},
   "source": [
    "PCA = 7, &pi; = 0.9, &lambda; = 1.0"
   ]
  },
  {
   "cell_type": "code",
   "execution_count": null,
   "metadata": {},
   "outputs": [],
   "source": [
    "pca_value = 7\n",
    "pi_value = 0.9\n",
    "lam_value = 1.0\n",
    "dis_kfold(DTR, LTR, pca_value, pi_value, lam_value, linear_logistic_regression, \"Linear Logistic Regression\")"
   ]
  },
  {
   "cell_type": "markdown",
   "metadata": {},
   "source": [
    "PCA = 7, &pi; = 0.9, &lambda; = 10.0"
   ]
  },
  {
   "cell_type": "code",
   "execution_count": null,
   "metadata": {},
   "outputs": [],
   "source": [
    "pca_value = 7\n",
    "pi_value = 0.9\n",
    "lam_value = 10.0\n",
    "dis_kfold(DTR, LTR, pca_value, pi_value, lam_value, linear_logistic_regression, \"Linear Logistic Regression\")"
   ]
  },
  {
   "cell_type": "markdown",
   "metadata": {},
   "source": [
    "PCA = 7, &pi; = 0.9, &lambda; = 100.0"
   ]
  },
  {
   "cell_type": "code",
   "execution_count": null,
   "metadata": {},
   "outputs": [],
   "source": [
    "pca_value = 7\n",
    "pi_value = 0.9\n",
    "lam_value = 100.0\n",
    "dis_kfold(DTR, LTR, pca_value, pi_value, lam_value, linear_logistic_regression, \"Linear Logistic Regression\")"
   ]
  },
  {
   "cell_type": "markdown",
   "metadata": {},
   "source": [
    "PCA = 6, &pi; = 0.1, &lambda; = 1e-6"
   ]
  },
  {
   "cell_type": "code",
   "execution_count": null,
   "metadata": {},
   "outputs": [],
   "source": [
    "pca_value = 6\n",
    "pi_value = 0.1\n",
    "lam_value = 1e-6\n",
    "dis_kfold(DTR, LTR, pca_value, pi_value, lam_value, linear_logistic_regression, \"Linear Logistic Regression\")"
   ]
  },
  {
   "cell_type": "markdown",
   "metadata": {},
   "source": [
    "PCA = 6, &pi; = 0.1, &lambda; = 1e-5"
   ]
  },
  {
   "cell_type": "code",
   "execution_count": null,
   "metadata": {},
   "outputs": [],
   "source": [
    "pca_value = 6\n",
    "pi_value = 0.1\n",
    "lam_value = 1e-5\n",
    "dis_kfold(DTR, LTR, pca_value, pi_value, lam_value, linear_logistic_regression, \"Linear Logistic Regression\")"
   ]
  },
  {
   "cell_type": "markdown",
   "metadata": {},
   "source": [
    "PCA = 6, &pi; = 0.1, &lambda; = 1e-4"
   ]
  },
  {
   "cell_type": "code",
   "execution_count": null,
   "metadata": {},
   "outputs": [],
   "source": [
    "pca_value = 6\n",
    "pi_value = 0.1\n",
    "lam_value = 1e-4\n",
    "dis_kfold(DTR, LTR, pca_value, pi_value, lam_value, linear_logistic_regression, \"Linear Logistic Regression\")"
   ]
  },
  {
   "cell_type": "markdown",
   "metadata": {},
   "source": [
    "PCA = 6, &pi; = 0.1, &lambda; = 1e-3"
   ]
  },
  {
   "cell_type": "code",
   "execution_count": null,
   "metadata": {},
   "outputs": [],
   "source": [
    "pca_value = 6\n",
    "pi_value = 0.1\n",
    "lam_value = 1e-3\n",
    "dis_kfold(DTR, LTR, pca_value, pi_value, lam_value, linear_logistic_regression, \"Linear Logistic Regression\")"
   ]
  },
  {
   "cell_type": "markdown",
   "metadata": {},
   "source": [
    "PCA = 6, &pi; = 0.1, &lambda; = 1e-2"
   ]
  },
  {
   "cell_type": "code",
   "execution_count": null,
   "metadata": {},
   "outputs": [],
   "source": [
    "pca_value = 6\n",
    "pi_value = 0.1\n",
    "lam_value = 1e-2\n",
    "dis_kfold(DTR, LTR, pca_value, pi_value, lam_value, linear_logistic_regression, \"Linear Logistic Regression\")"
   ]
  },
  {
   "cell_type": "markdown",
   "metadata": {},
   "source": [
    "PCA = 6, &pi; = 0.1, &lambda; = 1e-1"
   ]
  },
  {
   "cell_type": "code",
   "execution_count": null,
   "metadata": {},
   "outputs": [],
   "source": [
    "pca_value = 6\n",
    "pi_value = 0.1\n",
    "lam_value = 1e-1\n",
    "dis_kfold(DTR, LTR, pca_value, pi_value, lam_value, linear_logistic_regression, \"Linear Logistic Regression\")"
   ]
  },
  {
   "cell_type": "markdown",
   "metadata": {},
   "source": [
    "PCA = 6, &pi; = 0.1, &lambda; = 1.0"
   ]
  },
  {
   "cell_type": "code",
   "execution_count": null,
   "metadata": {},
   "outputs": [],
   "source": [
    "pca_value = 6\n",
    "pi_value = 0.1\n",
    "lam_value = 1.0\n",
    "dis_kfold(DTR, LTR, pca_value, pi_value, lam_value, linear_logistic_regression, \"Linear Logistic Regression\")"
   ]
  },
  {
   "cell_type": "markdown",
   "metadata": {},
   "source": [
    "PCA = 6, &pi; = 0.1, &lambda; = 10.0"
   ]
  },
  {
   "cell_type": "code",
   "execution_count": null,
   "metadata": {},
   "outputs": [],
   "source": [
    "pca_value = 6\n",
    "pi_value = 0.1\n",
    "lam_value = 10.0\n",
    "dis_kfold(DTR, LTR, pca_value, pi_value, lam_value, linear_logistic_regression, \"Linear Logistic Regression\")"
   ]
  },
  {
   "cell_type": "markdown",
   "metadata": {},
   "source": [
    "PCA = 6, &pi; = 0.1, &lambda; = 100.0"
   ]
  },
  {
   "cell_type": "code",
   "execution_count": null,
   "metadata": {},
   "outputs": [],
   "source": [
    "pca_value = 6\n",
    "pi_value = 0.1\n",
    "lam_value = 100.0\n",
    "dis_kfold(DTR, LTR, pca_value, pi_value, lam_value, linear_logistic_regression, \"Linear Logistic Regression\")"
   ]
  },
  {
   "cell_type": "markdown",
   "metadata": {},
   "source": [
    "PCA = 6, &pi; = 0.5, &lambda; = 1e-6"
   ]
  },
  {
   "cell_type": "code",
   "execution_count": null,
   "metadata": {},
   "outputs": [],
   "source": [
    "pca_value = 6\n",
    "pi_value = 0.5\n",
    "lam_value = 1e-6\n",
    "dis_kfold(DTR, LTR, pca_value, pi_value, lam_value, linear_logistic_regression, \"Linear Logistic Regression\")"
   ]
  },
  {
   "cell_type": "markdown",
   "metadata": {},
   "source": [
    "PCA = 6, &pi; = 0.5, &lambda; = 1e-5"
   ]
  },
  {
   "cell_type": "code",
   "execution_count": null,
   "metadata": {},
   "outputs": [],
   "source": [
    "pca_value = 6\n",
    "pi_value = 0.5\n",
    "lam_value = 1e-5\n",
    "dis_kfold(DTR, LTR, pca_value, pi_value, lam_value, linear_logistic_regression, \"Linear Logistic Regression\")"
   ]
  },
  {
   "cell_type": "markdown",
   "metadata": {},
   "source": [
    "PCA = 6, &pi; = 0.5, &lambda; = 1e-4"
   ]
  },
  {
   "cell_type": "code",
   "execution_count": null,
   "metadata": {},
   "outputs": [],
   "source": [
    "pca_value = 6\n",
    "pi_value = 0.5\n",
    "lam_value = 1e-4\n",
    "dis_kfold(DTR, LTR, pca_value, pi_value, lam_value, linear_logistic_regression, \"Linear Logistic Regression\")"
   ]
  },
  {
   "cell_type": "markdown",
   "metadata": {},
   "source": [
    "PCA = 6, &pi; = 0.5, &lambda; = 1e-3"
   ]
  },
  {
   "cell_type": "code",
   "execution_count": null,
   "metadata": {},
   "outputs": [],
   "source": [
    "pca_value = 6\n",
    "pi_value = 0.5\n",
    "lam_value = 1e-3\n",
    "dis_kfold(DTR, LTR, pca_value, pi_value, lam_value, linear_logistic_regression, \"Linear Logistic Regression\")"
   ]
  },
  {
   "cell_type": "markdown",
   "metadata": {},
   "source": [
    "PCA = 6, &pi; = 0.5, &lambda; = 1e-2"
   ]
  },
  {
   "cell_type": "code",
   "execution_count": null,
   "metadata": {},
   "outputs": [],
   "source": [
    "pca_value = 6\n",
    "pi_value = 0.5\n",
    "lam_value = 1e-2\n",
    "dis_kfold(DTR, LTR, pca_value, pi_value, lam_value, linear_logistic_regression, \"Linear Logistic Regression\")"
   ]
  },
  {
   "cell_type": "markdown",
   "metadata": {},
   "source": [
    "PCA = 6, &pi; = 0.5, &lambda; = 1e-1"
   ]
  },
  {
   "cell_type": "code",
   "execution_count": null,
   "metadata": {},
   "outputs": [],
   "source": [
    "pca_value = 6\n",
    "pi_value = 0.5\n",
    "lam_value = 1e-1\n",
    "dis_kfold(DTR, LTR, pca_value, pi_value, lam_value, linear_logistic_regression, \"Linear Logistic Regression\")"
   ]
  },
  {
   "cell_type": "markdown",
   "metadata": {},
   "source": [
    "PCA = 6, &pi; = 0.5, &lambda; = 1.0"
   ]
  },
  {
   "cell_type": "code",
   "execution_count": null,
   "metadata": {},
   "outputs": [],
   "source": [
    "pca_value = 6\n",
    "pi_value = 0.5\n",
    "lam_value = 1.0\n",
    "dis_kfold(DTR, LTR, pca_value, pi_value, lam_value, linear_logistic_regression, \"Linear Logistic Regression\")"
   ]
  },
  {
   "cell_type": "markdown",
   "metadata": {},
   "source": [
    "PCA = 6, &pi; = 0.5, &lambda; = 10.0"
   ]
  },
  {
   "cell_type": "code",
   "execution_count": null,
   "metadata": {},
   "outputs": [],
   "source": [
    "pca_value = 6\n",
    "pi_value = 0.5\n",
    "lam_value = 10.0\n",
    "dis_kfold(DTR, LTR, pca_value, pi_value, lam_value, linear_logistic_regression, \"Linear Logistic Regression\")"
   ]
  },
  {
   "cell_type": "markdown",
   "metadata": {},
   "source": [
    "PCA = 6, &pi; = 0.5, &lambda; = 100.0"
   ]
  },
  {
   "cell_type": "code",
   "execution_count": null,
   "metadata": {},
   "outputs": [],
   "source": [
    "pca_value = 6\n",
    "pi_value = 0.5\n",
    "lam_value = 100.0\n",
    "dis_kfold(DTR, LTR, pca_value, pi_value, lam_value, linear_logistic_regression, \"Linear Logistic Regression\")"
   ]
  },
  {
   "cell_type": "markdown",
   "metadata": {},
   "source": [
    "PCA = 6, &pi; = 0.9, &lambda; = 1e-6"
   ]
  },
  {
   "cell_type": "code",
   "execution_count": null,
   "metadata": {},
   "outputs": [],
   "source": [
    "pca_value = 6\n",
    "pi_value = 0.9\n",
    "lam_value = 1e-6\n",
    "dis_kfold(DTR, LTR, pca_value, pi_value, lam_value, linear_logistic_regression, \"Linear Logistic Regression\")"
   ]
  },
  {
   "cell_type": "markdown",
   "metadata": {},
   "source": [
    "PCA = 6, &pi; = 0.9, &lambda; = 1e-5"
   ]
  },
  {
   "cell_type": "code",
   "execution_count": null,
   "metadata": {},
   "outputs": [],
   "source": [
    "pca_value = 6\n",
    "pi_value = 0.9\n",
    "lam_value = 1e-5\n",
    "dis_kfold(DTR, LTR, pca_value, pi_value, lam_value, linear_logistic_regression, \"Linear Logistic Regression\")"
   ]
  },
  {
   "cell_type": "markdown",
   "metadata": {},
   "source": [
    "PCA = 6, &pi; = 0.9, &lambda; = 1e-4"
   ]
  },
  {
   "cell_type": "code",
   "execution_count": null,
   "metadata": {},
   "outputs": [],
   "source": [
    "pca_value = 6\n",
    "pi_value = 0.9\n",
    "lam_value = 1e-4\n",
    "dis_kfold(DTR, LTR, pca_value, pi_value, lam_value, linear_logistic_regression, \"Linear Logistic Regression\")"
   ]
  },
  {
   "cell_type": "markdown",
   "metadata": {},
   "source": [
    "PCA = 6, &pi; = 0.9, &lambda; = 1e-3"
   ]
  },
  {
   "cell_type": "code",
   "execution_count": null,
   "metadata": {},
   "outputs": [],
   "source": [
    "pca_value = 6\n",
    "pi_value = 0.9\n",
    "lam_value = 1e-3\n",
    "dis_kfold(DTR, LTR, pca_value, pi_value, lam_value, linear_logistic_regression, \"Linear Logistic Regression\")"
   ]
  },
  {
   "cell_type": "markdown",
   "metadata": {},
   "source": [
    "PCA = 6, &pi; = 0.9, &lambda; = 1e-2"
   ]
  },
  {
   "cell_type": "code",
   "execution_count": null,
   "metadata": {},
   "outputs": [],
   "source": [
    "pca_value = 6\n",
    "pi_value = 0.9\n",
    "lam_value = 1e-2\n",
    "dis_kfold(DTR, LTR, pca_value, pi_value, lam_value, linear_logistic_regression, \"Linear Logistic Regression\")"
   ]
  },
  {
   "cell_type": "markdown",
   "metadata": {},
   "source": [
    "PCA = 6, &pi; = 0.9, &lambda; = 1e-1"
   ]
  },
  {
   "cell_type": "code",
   "execution_count": null,
   "metadata": {},
   "outputs": [],
   "source": [
    "pca_value = 6\n",
    "pi_value = 0.9\n",
    "lam_value = 1e-1\n",
    "dis_kfold(DTR, LTR, pca_value, pi_value, lam_value, linear_logistic_regression, \"Linear Logistic Regression\")"
   ]
  },
  {
   "cell_type": "markdown",
   "metadata": {},
   "source": [
    "PCA = 6, &pi; = 0.9, &lambda; = 1.0"
   ]
  },
  {
   "cell_type": "code",
   "execution_count": null,
   "metadata": {},
   "outputs": [],
   "source": [
    "pca_value = 6\n",
    "pi_value = 0.9\n",
    "lam_value = 1.0\n",
    "dis_kfold(DTR, LTR, pca_value, pi_value, lam_value, linear_logistic_regression, \"Linear Logistic Regression\")"
   ]
  },
  {
   "cell_type": "markdown",
   "metadata": {},
   "source": [
    "PCA = 6, &pi; = 0.9, &lambda; = 10.0"
   ]
  },
  {
   "cell_type": "code",
   "execution_count": null,
   "metadata": {},
   "outputs": [],
   "source": [
    "pca_value = 6\n",
    "pi_value = 0.9\n",
    "lam_value = 10.0\n",
    "dis_kfold(DTR, LTR, pca_value, pi_value, lam_value, linear_logistic_regression, \"Linear Logistic Regression\")"
   ]
  },
  {
   "cell_type": "markdown",
   "metadata": {},
   "source": [
    "PCA = 6, &pi; = 0.9, &lambda; = 100.0"
   ]
  },
  {
   "cell_type": "code",
   "execution_count": null,
   "metadata": {},
   "outputs": [],
   "source": [
    "pca_value = 6\n",
    "pi_value = 0.9\n",
    "lam_value = 100.0\n",
    "dis_kfold(DTR, LTR, pca_value, pi_value, lam_value, linear_logistic_regression, \"Linear Logistic Regression\")"
   ]
  },
  {
   "cell_type": "markdown",
   "metadata": {},
   "source": [
    "PCA = 5, &pi; = 0.1, &lambda; = 1e-6"
   ]
  },
  {
   "cell_type": "code",
   "execution_count": null,
   "metadata": {},
   "outputs": [],
   "source": [
    "pca_value = 5\n",
    "pi_value = 0.1\n",
    "lam_value = 1e-6\n",
    "dis_kfold(DTR, LTR, pca_value, pi_value, lam_value, linear_logistic_regression, \"Linear Logistic Regression\")"
   ]
  },
  {
   "cell_type": "markdown",
   "metadata": {},
   "source": [
    "PCA = 5, &pi; = 0.1, &lambda; = 1e-5"
   ]
  },
  {
   "cell_type": "code",
   "execution_count": null,
   "metadata": {},
   "outputs": [],
   "source": [
    "pca_value = 5\n",
    "pi_value = 0.1\n",
    "lam_value = 1e-5\n",
    "dis_kfold(DTR, LTR, pca_value, pi_value, lam_value, linear_logistic_regression, \"Linear Logistic Regression\")"
   ]
  },
  {
   "cell_type": "markdown",
   "metadata": {},
   "source": [
    "PCA = 5, &pi; = 0.1, &lambda; = 1e-4"
   ]
  },
  {
   "cell_type": "code",
   "execution_count": null,
   "metadata": {},
   "outputs": [],
   "source": [
    "pca_value = 5\n",
    "pi_value = 0.1\n",
    "lam_value = 1e-4\n",
    "dis_kfold(DTR, LTR, pca_value, pi_value, lam_value, linear_logistic_regression, \"Linear Logistic Regression\")"
   ]
  },
  {
   "cell_type": "markdown",
   "metadata": {},
   "source": [
    "PCA = 5, &pi; = 0.1, &lambda; = 1e-3"
   ]
  },
  {
   "cell_type": "code",
   "execution_count": null,
   "metadata": {},
   "outputs": [],
   "source": [
    "pca_value = 5\n",
    "pi_value = 0.1\n",
    "lam_value = 1e-3\n",
    "dis_kfold(DTR, LTR, pca_value, pi_value, lam_value, linear_logistic_regression, \"Linear Logistic Regression\")"
   ]
  },
  {
   "cell_type": "markdown",
   "metadata": {},
   "source": [
    "PCA = 5, &pi; = 0.1, &lambda; = 1e-2"
   ]
  },
  {
   "cell_type": "code",
   "execution_count": null,
   "metadata": {},
   "outputs": [],
   "source": [
    "pca_value = 5\n",
    "pi_value = 0.1\n",
    "lam_value = 1e-2\n",
    "dis_kfold(DTR, LTR, pca_value, pi_value, lam_value, linear_logistic_regression, \"Linear Logistic Regression\")"
   ]
  },
  {
   "cell_type": "markdown",
   "metadata": {},
   "source": [
    "PCA = 5, &pi; = 0.1, &lambda; = 1e-1"
   ]
  },
  {
   "cell_type": "code",
   "execution_count": null,
   "metadata": {},
   "outputs": [],
   "source": [
    "pca_value = 5\n",
    "pi_value = 0.1\n",
    "lam_value = 1e-1\n",
    "dis_kfold(DTR, LTR, pca_value, pi_value, lam_value, linear_logistic_regression, \"Linear Logistic Regression\")"
   ]
  },
  {
   "cell_type": "markdown",
   "metadata": {},
   "source": [
    "PCA = 5, &pi; = 0.1, &lambda; = 1.0"
   ]
  },
  {
   "cell_type": "code",
   "execution_count": null,
   "metadata": {},
   "outputs": [],
   "source": [
    "pca_value = 5\n",
    "pi_value = 0.1\n",
    "lam_value = 1.0\n",
    "dis_kfold(DTR, LTR, pca_value, pi_value, lam_value, linear_logistic_regression, \"Linear Logistic Regression\")"
   ]
  },
  {
   "cell_type": "markdown",
   "metadata": {},
   "source": [
    "PCA = 5, &pi; = 0.1, &lambda; = 10.0"
   ]
  },
  {
   "cell_type": "code",
   "execution_count": null,
   "metadata": {},
   "outputs": [],
   "source": [
    "pca_value = 5\n",
    "pi_value = 0.1\n",
    "lam_value = 10.0\n",
    "dis_kfold(DTR, LTR, pca_value, pi_value, lam_value, linear_logistic_regression, \"Linear Logistic Regression\")"
   ]
  },
  {
   "cell_type": "markdown",
   "metadata": {},
   "source": [
    "PCA = 5, &pi; = 0.1, &lambda; = 100.0"
   ]
  },
  {
   "cell_type": "code",
   "execution_count": null,
   "metadata": {},
   "outputs": [],
   "source": [
    "pca_value = 5\n",
    "pi_value = 0.1\n",
    "lam_value = 100.0\n",
    "dis_kfold(DTR, LTR, pca_value, pi_value, lam_value, linear_logistic_regression, \"Linear Logistic Regression\")"
   ]
  },
  {
   "cell_type": "markdown",
   "metadata": {},
   "source": [
    "PCA = 5, &pi; = 0.5, &lambda; = 1e-6"
   ]
  },
  {
   "cell_type": "code",
   "execution_count": null,
   "metadata": {},
   "outputs": [],
   "source": [
    "pca_value = 5\n",
    "pi_value = 0.5\n",
    "lam_value = 1e-6\n",
    "dis_kfold(DTR, LTR, pca_value, pi_value, lam_value, linear_logistic_regression, \"Linear Logistic Regression\")"
   ]
  },
  {
   "cell_type": "markdown",
   "metadata": {},
   "source": [
    "PCA = 5, &pi; = 0.5, &lambda; = 1e-5"
   ]
  },
  {
   "cell_type": "code",
   "execution_count": null,
   "metadata": {},
   "outputs": [],
   "source": [
    "pca_value = 5\n",
    "pi_value = 0.5\n",
    "lam_value = 1e-5\n",
    "dis_kfold(DTR, LTR, pca_value, pi_value, lam_value, linear_logistic_regression, \"Linear Logistic Regression\")"
   ]
  },
  {
   "cell_type": "markdown",
   "metadata": {},
   "source": [
    "PCA = 5, &pi; = 0.5, &lambda; = 1e-4"
   ]
  },
  {
   "cell_type": "code",
   "execution_count": null,
   "metadata": {},
   "outputs": [],
   "source": [
    "pca_value = 5\n",
    "pi_value = 0.5\n",
    "lam_value = 1e-4\n",
    "dis_kfold(DTR, LTR, pca_value, pi_value, lam_value, linear_logistic_regression, \"Linear Logistic Regression\")"
   ]
  },
  {
   "cell_type": "markdown",
   "metadata": {},
   "source": [
    "PCA = 5, &pi; = 0.5, &lambda; = 1e-3"
   ]
  },
  {
   "cell_type": "code",
   "execution_count": null,
   "metadata": {},
   "outputs": [],
   "source": [
    "pca_value = 5\n",
    "pi_value = 0.5\n",
    "lam_value = 1e-3\n",
    "dis_kfold(DTR, LTR, pca_value, pi_value, lam_value, linear_logistic_regression, \"Linear Logistic Regression\")"
   ]
  },
  {
   "cell_type": "markdown",
   "metadata": {},
   "source": [
    "PCA = 5, &pi; = 0.5, &lambda; = 1e-2"
   ]
  },
  {
   "cell_type": "code",
   "execution_count": null,
   "metadata": {},
   "outputs": [],
   "source": [
    "pca_value = 5\n",
    "pi_value = 0.5\n",
    "lam_value = 1e-2\n",
    "dis_kfold(DTR, LTR, pca_value, pi_value, lam_value, linear_logistic_regression, \"Linear Logistic Regression\")"
   ]
  },
  {
   "cell_type": "markdown",
   "metadata": {},
   "source": [
    "PCA = 5, &pi; = 0.5, &lambda; = 1e-1"
   ]
  },
  {
   "cell_type": "code",
   "execution_count": null,
   "metadata": {},
   "outputs": [],
   "source": [
    "pca_value = 5\n",
    "pi_value = 0.5\n",
    "lam_value = 1e-1\n",
    "dis_kfold(DTR, LTR, pca_value, pi_value, lam_value, linear_logistic_regression, \"Linear Logistic Regression\")"
   ]
  },
  {
   "cell_type": "markdown",
   "metadata": {},
   "source": [
    "PCA = 5, &pi; = 0.5, &lambda; = 1.0"
   ]
  },
  {
   "cell_type": "code",
   "execution_count": null,
   "metadata": {},
   "outputs": [],
   "source": [
    "pca_value = 5\n",
    "pi_value = 0.5\n",
    "lam_value = 1.0\n",
    "dis_kfold(DTR, LTR, pca_value, pi_value, lam_value, linear_logistic_regression, \"Linear Logistic Regression\")"
   ]
  },
  {
   "cell_type": "markdown",
   "metadata": {},
   "source": [
    "PCA = 5, &pi; = 0.5, &lambda; = 10.0"
   ]
  },
  {
   "cell_type": "code",
   "execution_count": null,
   "metadata": {},
   "outputs": [],
   "source": [
    "pca_value = 5\n",
    "pi_value = 0.5\n",
    "lam_value = 10.0\n",
    "dis_kfold(DTR, LTR, pca_value, pi_value, lam_value, linear_logistic_regression, \"Linear Logistic Regression\")"
   ]
  },
  {
   "cell_type": "markdown",
   "metadata": {},
   "source": [
    "PCA = 5, &pi; = 0.5, &lambda; = 100.0"
   ]
  },
  {
   "cell_type": "code",
   "execution_count": null,
   "metadata": {},
   "outputs": [],
   "source": [
    "pca_value = 5\n",
    "pi_value = 0.5\n",
    "lam_value = 100.0\n",
    "dis_kfold(DTR, LTR, pca_value, pi_value, lam_value, linear_logistic_regression, \"Linear Logistic Regression\")"
   ]
  },
  {
   "cell_type": "markdown",
   "metadata": {},
   "source": [
    "PCA = 5, &pi; = 0.9, &lambda; = 1e-6"
   ]
  },
  {
   "cell_type": "code",
   "execution_count": null,
   "metadata": {},
   "outputs": [],
   "source": [
    "pca_value = 5\n",
    "pi_value = 0.9\n",
    "lam_value = 1e-6\n",
    "dis_kfold(DTR, LTR, pca_value, pi_value, lam_value, linear_logistic_regression, \"Linear Logistic Regression\")"
   ]
  },
  {
   "cell_type": "markdown",
   "metadata": {},
   "source": [
    "PCA = 5, &pi; = 0.9, &lambda; = 1e-5"
   ]
  },
  {
   "cell_type": "code",
   "execution_count": null,
   "metadata": {},
   "outputs": [],
   "source": [
    "pca_value = 5\n",
    "pi_value = 0.9\n",
    "lam_value = 1e-5\n",
    "dis_kfold(DTR, LTR, pca_value, pi_value, lam_value, linear_logistic_regression, \"Linear Logistic Regression\")"
   ]
  },
  {
   "cell_type": "markdown",
   "metadata": {},
   "source": [
    "PCA = 5, &pi; = 0.9, &lambda; = 1e-4"
   ]
  },
  {
   "cell_type": "code",
   "execution_count": null,
   "metadata": {},
   "outputs": [],
   "source": [
    "pca_value = 5\n",
    "pi_value = 0.9\n",
    "lam_value = 1e-4\n",
    "dis_kfold(DTR, LTR, pca_value, pi_value, lam_value, linear_logistic_regression, \"Linear Logistic Regression\")"
   ]
  },
  {
   "cell_type": "markdown",
   "metadata": {},
   "source": [
    "PCA = 5, &pi; = 0.9, &lambda; = 1e-3"
   ]
  },
  {
   "cell_type": "code",
   "execution_count": null,
   "metadata": {},
   "outputs": [],
   "source": [
    "pca_value = 5\n",
    "pi_value = 0.9\n",
    "lam_value = 1e-3\n",
    "dis_kfold(DTR, LTR, pca_value, pi_value, lam_value, linear_logistic_regression, \"Linear Logistic Regression\")"
   ]
  },
  {
   "cell_type": "markdown",
   "metadata": {},
   "source": [
    "PCA = 5, &pi; = 0.9, &lambda; = 1e-2"
   ]
  },
  {
   "cell_type": "code",
   "execution_count": null,
   "metadata": {},
   "outputs": [],
   "source": [
    "pca_value = 5\n",
    "pi_value = 0.9\n",
    "lam_value = 1e-2\n",
    "dis_kfold(DTR, LTR, pca_value, pi_value, lam_value, linear_logistic_regression, \"Linear Logistic Regression\")"
   ]
  },
  {
   "cell_type": "markdown",
   "metadata": {},
   "source": [
    "PCA = 5, &pi; = 0.9, &lambda; = 1e-1"
   ]
  },
  {
   "cell_type": "code",
   "execution_count": null,
   "metadata": {},
   "outputs": [],
   "source": [
    "pca_value = 5\n",
    "pi_value = 0.9\n",
    "lam_value = 1e-1\n",
    "dis_kfold(DTR, LTR, pca_value, pi_value, lam_value, linear_logistic_regression, \"Linear Logistic Regression\")"
   ]
  },
  {
   "cell_type": "markdown",
   "metadata": {},
   "source": [
    "PCA = 5, &pi; = 0.9, &lambda; = 1.0"
   ]
  },
  {
   "cell_type": "code",
   "execution_count": null,
   "metadata": {},
   "outputs": [],
   "source": [
    "pca_value = 5\n",
    "pi_value = 0.9\n",
    "lam_value = 1.0\n",
    "dis_kfold(DTR, LTR, pca_value, pi_value, lam_value, linear_logistic_regression, \"Linear Logistic Regression\")"
   ]
  },
  {
   "cell_type": "markdown",
   "metadata": {},
   "source": [
    "PCA = 5, &pi; = 0.9, &lambda; = 10.0"
   ]
  },
  {
   "cell_type": "code",
   "execution_count": null,
   "metadata": {},
   "outputs": [],
   "source": [
    "pca_value = 5\n",
    "pi_value = 0.9\n",
    "lam_value = 10.0\n",
    "dis_kfold(DTR, LTR, pca_value, pi_value, lam_value, linear_logistic_regression, \"Linear Logistic Regression\")"
   ]
  },
  {
   "cell_type": "markdown",
   "metadata": {},
   "source": [
    "PCA = 5, &pi; = 0.9, &lambda; = 100.0"
   ]
  },
  {
   "cell_type": "code",
   "execution_count": null,
   "metadata": {},
   "outputs": [],
   "source": [
    "pca_value = 5\n",
    "pi_value = 0.9\n",
    "lam_value = 100.0\n",
    "dis_kfold(DTR, LTR, pca_value, pi_value, lam_value, linear_logistic_regression, \"Linear Logistic Regression\")"
   ]
  },
  {
   "cell_type": "markdown",
   "metadata": {},
   "source": [
    "## 2.2.2 - Quadratic Logistic Regression"
   ]
  },
  {
   "cell_type": "code",
   "execution_count": null,
   "metadata": {},
   "outputs": [],
   "source": [
    "# ----- Quadratic Logistic Regression -----\n",
    "def quadratic_logistic_regression (DTR, LTR, DTE, LTE, lam, pi):\n",
    "    DTRe= numpy.apply_along_axis(square_and_transpose, 0, DTR)\n",
    "    DTEe = numpy.apply_along_axis(square_and_transpose, 0, DTE)\n",
    "    phi_R = numpy.array(numpy.vstack([DTRe, DTR]))\n",
    "    phi_E = numpy.array(numpy.vstack([DTEe, DTE]))\n",
    "        \n",
    "    x0=numpy.zeros(phi_R.shape[0] + 1)\n",
    "    lr_obj = lr_obj_wrap(phi_R, LTR, lam, pi)\n",
    "    (x,_,_) = scipy.optimize.fmin_l_bfgs_b(lr_obj, x0, approx_grad=True)\n",
    "\n",
    "    scores = lr_compute_scores(phi_E, x)\n",
    "    wrong_predictions = count_mispredictions(scores, LTE)\n",
    "\n",
    "    return wrong_predictions, scores"
   ]
  },
  {
   "cell_type": "markdown",
   "metadata": {},
   "source": [
    "No PCA, &pi; = 0.1, &lambda; = 1e-6"
   ]
  },
  {
   "cell_type": "code",
   "execution_count": null,
   "metadata": {},
   "outputs": [],
   "source": [
    "pca_value = 0\n",
    "pi_value = 0.1\n",
    "lam_value = 1e-6\n",
    "dis_kfold(DTR, LTR, pca_value, pi_value, lam_value, quadratic_logistic_regression, \"Quadratic Logistic Regression\")"
   ]
  },
  {
   "cell_type": "markdown",
   "metadata": {},
   "source": [
    "No PCA, &pi; = 0.1, &lambda; = 1e-5"
   ]
  },
  {
   "cell_type": "code",
   "execution_count": null,
   "metadata": {},
   "outputs": [],
   "source": [
    "pca_value = 0\n",
    "pi_value = 0.1\n",
    "lam_value = 1e-5\n",
    "dis_kfold(DTR, LTR, pca_value, pi_value, lam_value, quadratic_logistic_regression, \"Quadratic Logistic Regression\")"
   ]
  },
  {
   "cell_type": "markdown",
   "metadata": {},
   "source": [
    "No PCA, &pi; = 0.1, &lambda; = 1e-4"
   ]
  },
  {
   "cell_type": "code",
   "execution_count": null,
   "metadata": {},
   "outputs": [],
   "source": [
    "pca_value = 0\n",
    "pi_value = 0.1\n",
    "lam_value = 1e-4\n",
    "dis_kfold(DTR, LTR, pca_value, pi_value, lam_value, quadratic_logistic_regression, \"Quadratic Logistic Regression\")"
   ]
  },
  {
   "cell_type": "markdown",
   "metadata": {},
   "source": [
    "No PCA, &pi; = 0.1, &lambda; = 1e-3"
   ]
  },
  {
   "cell_type": "code",
   "execution_count": null,
   "metadata": {},
   "outputs": [],
   "source": [
    "pca_value = 0\n",
    "pi_value = 0.1\n",
    "lam_value = 1e-3\n",
    "dis_kfold(DTR, LTR, pca_value, pi_value, lam_value, quadratic_logistic_regression, \"Quadratic Logistic Regression\")"
   ]
  },
  {
   "cell_type": "markdown",
   "metadata": {},
   "source": [
    "No PCA, &pi; = 0.1, &lambda; = 1e-2"
   ]
  },
  {
   "cell_type": "code",
   "execution_count": null,
   "metadata": {},
   "outputs": [],
   "source": [
    "pca_value = 0\n",
    "pi_value = 0.1\n",
    "lam_value = 1e-2\n",
    "dis_kfold(DTR, LTR, pca_value, pi_value, lam_value, quadratic_logistic_regression, \"Quadratic Logistic Regression\")"
   ]
  },
  {
   "cell_type": "markdown",
   "metadata": {},
   "source": [
    "No PCA, &pi; = 0.1, &lambda; = 1e-1"
   ]
  },
  {
   "cell_type": "code",
   "execution_count": null,
   "metadata": {},
   "outputs": [],
   "source": [
    "pca_value = 0\n",
    "pi_value = 0.1\n",
    "lam_value = 1e-1\n",
    "dis_kfold(DTR, LTR, pca_value, pi_value, lam_value, quadratic_logistic_regression, \"Quadratic Logistic Regression\")"
   ]
  },
  {
   "cell_type": "markdown",
   "metadata": {},
   "source": [
    "No PCA, &pi; = 0.1, &lambda; = 1.0"
   ]
  },
  {
   "cell_type": "code",
   "execution_count": null,
   "metadata": {},
   "outputs": [],
   "source": [
    "pca_value = 0\n",
    "pi_value = 0.1\n",
    "lam_value = 1.0\n",
    "dis_kfold(DTR, LTR, pca_value, pi_value, lam_value, quadratic_logistic_regression, \"Quadratic Logistic Regression\")"
   ]
  },
  {
   "cell_type": "markdown",
   "metadata": {},
   "source": [
    "No PCA, &pi; = 0.1, &lambda; = 10.0"
   ]
  },
  {
   "cell_type": "code",
   "execution_count": null,
   "metadata": {},
   "outputs": [],
   "source": [
    "pca_value = 0\n",
    "pi_value = 0.1\n",
    "lam_value = 10.0\n",
    "dis_kfold(DTR, LTR, pca_value, pi_value, lam_value, quadratic_logistic_regression, \"Quadratic Logistic Regression\")"
   ]
  },
  {
   "cell_type": "markdown",
   "metadata": {},
   "source": [
    "No PCA, &pi; = 0.1, &lambda; = 100.0"
   ]
  },
  {
   "cell_type": "code",
   "execution_count": null,
   "metadata": {},
   "outputs": [],
   "source": [
    "pca_value = 0\n",
    "pi_value = 0.1\n",
    "lam_value = 100.0\n",
    "dis_kfold(DTR, LTR, pca_value, pi_value, lam_value, quadratic_logistic_regression, \"Quadratic Logistic Regression\")"
   ]
  },
  {
   "cell_type": "markdown",
   "metadata": {},
   "source": [
    "No PCA, &pi; = 0.5, &lambda; = 1e-6"
   ]
  },
  {
   "cell_type": "code",
   "execution_count": null,
   "metadata": {},
   "outputs": [],
   "source": [
    "pca_value = 0\n",
    "pi_value = 0.5\n",
    "lam_value = 1e-6\n",
    "dis_kfold(DTR, LTR, pca_value, pi_value, lam_value, quadratic_logistic_regression, \"Quadratic Logistic Regression\")"
   ]
  },
  {
   "cell_type": "markdown",
   "metadata": {},
   "source": [
    "No PCA, &pi; = 0.5, &lambda; = 1e-5"
   ]
  },
  {
   "cell_type": "code",
   "execution_count": null,
   "metadata": {},
   "outputs": [],
   "source": [
    "pca_value = 0\n",
    "pi_value = 0.5\n",
    "lam_value = 1e-5\n",
    "dis_kfold(DTR, LTR, pca_value, pi_value, lam_value, quadratic_logistic_regression, \"Quadratic Logistic Regression\")"
   ]
  },
  {
   "cell_type": "markdown",
   "metadata": {},
   "source": [
    "No PCA, &pi; = 0.5, &lambda; = 1e-4"
   ]
  },
  {
   "cell_type": "code",
   "execution_count": null,
   "metadata": {},
   "outputs": [],
   "source": [
    "pca_value = 0\n",
    "pi_value = 0.5\n",
    "lam_value = 1e-4\n",
    "dis_kfold(DTR, LTR, pca_value, pi_value, lam_value, quadratic_logistic_regression, \"Quadratic Logistic Regression\")"
   ]
  },
  {
   "cell_type": "markdown",
   "metadata": {},
   "source": [
    "No PCA, &pi; = 0.5, &lambda; = 1e-3"
   ]
  },
  {
   "cell_type": "code",
   "execution_count": null,
   "metadata": {},
   "outputs": [],
   "source": [
    "pca_value = 0\n",
    "pi_value = 0.5\n",
    "lam_value = 1e-3\n",
    "dis_kfold(DTR, LTR, pca_value, pi_value, lam_value, quadratic_logistic_regression, \"Quadratic Logistic Regression\")"
   ]
  },
  {
   "cell_type": "markdown",
   "metadata": {},
   "source": [
    "No PCA, &pi; = 0.5, &lambda; = 1e-2"
   ]
  },
  {
   "cell_type": "code",
   "execution_count": null,
   "metadata": {},
   "outputs": [],
   "source": [
    "pca_value = 0\n",
    "pi_value = 0.5\n",
    "lam_value = 1e-2\n",
    "dis_kfold(DTR, LTR, pca_value, pi_value, lam_value, quadratic_logistic_regression, \"Quadratic Logistic Regression\")"
   ]
  },
  {
   "cell_type": "markdown",
   "metadata": {},
   "source": [
    "No PCA, &pi; = 0.5, &lambda; = 1e-1"
   ]
  },
  {
   "cell_type": "code",
   "execution_count": null,
   "metadata": {},
   "outputs": [],
   "source": [
    "pca_value = 0\n",
    "pi_value = 0.5\n",
    "lam_value = 1e-1\n",
    "dis_kfold(DTR, LTR, pca_value, pi_value, lam_value, quadratic_logistic_regression, \"Quadratic Logistic Regression\")"
   ]
  },
  {
   "cell_type": "markdown",
   "metadata": {},
   "source": [
    "No PCA, &pi; = 0.5, &lambda; = 1.0"
   ]
  },
  {
   "cell_type": "code",
   "execution_count": null,
   "metadata": {},
   "outputs": [],
   "source": [
    "pca_value = 0\n",
    "pi_value = 0.5\n",
    "lam_value = 1.0\n",
    "dis_kfold(DTR, LTR, pca_value, pi_value, lam_value, quadratic_logistic_regression, \"Quadratic Logistic Regression\")"
   ]
  },
  {
   "cell_type": "markdown",
   "metadata": {},
   "source": [
    "No PCA, &pi; = 0.5, &lambda; = 10.0"
   ]
  },
  {
   "cell_type": "code",
   "execution_count": null,
   "metadata": {},
   "outputs": [],
   "source": [
    "pca_value = 0\n",
    "pi_value = 0.5\n",
    "lam_value = 10.0\n",
    "dis_kfold(DTR, LTR, pca_value, pi_value, lam_value, quadratic_logistic_regression, \"Quadratic Logistic Regression\")"
   ]
  },
  {
   "cell_type": "markdown",
   "metadata": {},
   "source": [
    "No PCA, &pi; = 0.5, &lambda; = 100.0"
   ]
  },
  {
   "cell_type": "code",
   "execution_count": null,
   "metadata": {},
   "outputs": [],
   "source": [
    "pca_value = 0\n",
    "pi_value = 0.5\n",
    "lam_value = 100.0\n",
    "dis_kfold(DTR, LTR, pca_value, pi_value, lam_value, quadratic_logistic_regression, \"Quadratic Logistic Regression\")"
   ]
  },
  {
   "cell_type": "markdown",
   "metadata": {},
   "source": [
    "No PCA, &pi; = 0.9, &lambda; = 1e-6"
   ]
  },
  {
   "cell_type": "code",
   "execution_count": null,
   "metadata": {},
   "outputs": [],
   "source": [
    "pca_value = 0\n",
    "pi_value = 0.9\n",
    "lam_value = 1e-6\n",
    "dis_kfold(DTR, LTR, pca_value, pi_value, lam_value, quadratic_logistic_regression, \"Quadratic Logistic Regression\")"
   ]
  },
  {
   "cell_type": "markdown",
   "metadata": {},
   "source": [
    "No PCA, &pi; = 0.9, &lambda; = 1e-5"
   ]
  },
  {
   "cell_type": "code",
   "execution_count": null,
   "metadata": {},
   "outputs": [],
   "source": [
    "pca_value = 0\n",
    "pi_value = 0.9\n",
    "lam_value = 1e-5\n",
    "dis_kfold(DTR, LTR, pca_value, pi_value, lam_value, quadratic_logistic_regression, \"Quadratic Logistic Regression\")"
   ]
  },
  {
   "cell_type": "markdown",
   "metadata": {},
   "source": [
    "No PCA, &pi; = 0.9, &lambda; = 1e-4"
   ]
  },
  {
   "cell_type": "code",
   "execution_count": null,
   "metadata": {},
   "outputs": [],
   "source": [
    "pca_value = 0\n",
    "pi_value = 0.9\n",
    "lam_value = 1e-4\n",
    "dis_kfold(DTR, LTR, pca_value, pi_value, lam_value, quadratic_logistic_regression, \"Quadratic Logistic Regression\")"
   ]
  },
  {
   "cell_type": "markdown",
   "metadata": {},
   "source": [
    "No PCA, &pi; = 0.9, &lambda; = 1e-3"
   ]
  },
  {
   "cell_type": "code",
   "execution_count": null,
   "metadata": {},
   "outputs": [],
   "source": [
    "pca_value = 0\n",
    "pi_value = 0.9\n",
    "lam_value = 1e-3\n",
    "dis_kfold(DTR, LTR, pca_value, pi_value, lam_value, quadratic_logistic_regression, \"Quadratic Logistic Regression\")"
   ]
  },
  {
   "cell_type": "markdown",
   "metadata": {},
   "source": [
    "No PCA, &pi; = 0.9, &lambda; = 1e-2"
   ]
  },
  {
   "cell_type": "code",
   "execution_count": null,
   "metadata": {},
   "outputs": [],
   "source": [
    "pca_value = 0\n",
    "pi_value = 0.9\n",
    "lam_value = 1e-2\n",
    "dis_kfold(DTR, LTR, pca_value, pi_value, lam_value, quadratic_logistic_regression, \"Quadratic Logistic Regression\")"
   ]
  },
  {
   "cell_type": "markdown",
   "metadata": {},
   "source": [
    "No PCA, &pi; = 0.9, &lambda; = 1e-1"
   ]
  },
  {
   "cell_type": "code",
   "execution_count": null,
   "metadata": {},
   "outputs": [],
   "source": [
    "pca_value = 0\n",
    "pi_value = 0.9\n",
    "lam_value = 1e-1\n",
    "dis_kfold(DTR, LTR, pca_value, pi_value, lam_value, quadratic_logistic_regression, \"Quadratic Logistic Regression\")"
   ]
  },
  {
   "cell_type": "markdown",
   "metadata": {},
   "source": [
    "No PCA, &pi; = 0.9, &lambda; = 1.0"
   ]
  },
  {
   "cell_type": "code",
   "execution_count": null,
   "metadata": {},
   "outputs": [],
   "source": [
    "pca_value = 0\n",
    "pi_value = 0.9\n",
    "lam_value = 1.0\n",
    "dis_kfold(DTR, LTR, pca_value, pi_value, lam_value, quadratic_logistic_regression, \"Quadratic Logistic Regression\")"
   ]
  },
  {
   "cell_type": "markdown",
   "metadata": {},
   "source": [
    "No PCA, &pi; = 0.9, &lambda; = 10.0"
   ]
  },
  {
   "cell_type": "code",
   "execution_count": null,
   "metadata": {},
   "outputs": [],
   "source": [
    "pca_value = 0\n",
    "pi_value = 0.9\n",
    "lam_value = 10.0\n",
    "dis_kfold(DTR, LTR, pca_value, pi_value, lam_value, quadratic_logistic_regression, \"Quadratic Logistic Regression\")"
   ]
  },
  {
   "cell_type": "markdown",
   "metadata": {},
   "source": [
    "No PCA, &pi; = 0.9, &lambda; = 100.0"
   ]
  },
  {
   "cell_type": "code",
   "execution_count": null,
   "metadata": {},
   "outputs": [],
   "source": [
    "pca_value = 0\n",
    "pi_value = 0.9\n",
    "lam_value = 100.0\n",
    "dis_kfold(DTR, LTR, pca_value, pi_value, lam_value, quadratic_logistic_regression, \"Quadratic Logistic Regression\")"
   ]
  },
  {
   "cell_type": "markdown",
   "metadata": {},
   "source": [
    "PCA = 9, &pi; = 0.1, &lambda; = 1e-6"
   ]
  },
  {
   "cell_type": "code",
   "execution_count": null,
   "metadata": {},
   "outputs": [],
   "source": [
    "pca_value = 9\n",
    "pi_value = 0.1\n",
    "lam_value = 1e-6\n",
    "dis_kfold(DTR, LTR, pca_value, pi_value, lam_value, quadratic_logistic_regression, \"Quadratic Logistic Regression\")"
   ]
  },
  {
   "cell_type": "markdown",
   "metadata": {},
   "source": [
    "PCA = 9, &pi; = 0.1, &lambda; = 1e-5"
   ]
  },
  {
   "cell_type": "code",
   "execution_count": null,
   "metadata": {},
   "outputs": [],
   "source": [
    "pca_value = 9\n",
    "pi_value = 0.1\n",
    "lam_value = 1e-5\n",
    "dis_kfold(DTR, LTR, pca_value, pi_value, lam_value, quadratic_logistic_regression, \"Quadratic Logistic Regression\")"
   ]
  },
  {
   "cell_type": "markdown",
   "metadata": {},
   "source": [
    "PCA = 9, &pi; = 0.1, &lambda; = 1e-4"
   ]
  },
  {
   "cell_type": "code",
   "execution_count": null,
   "metadata": {},
   "outputs": [],
   "source": [
    "pca_value = 9\n",
    "pi_value = 0.1\n",
    "lam_value = 1e-4\n",
    "dis_kfold(DTR, LTR, pca_value, pi_value, lam_value, quadratic_logistic_regression, \"Quadratic Logistic Regression\")"
   ]
  },
  {
   "cell_type": "markdown",
   "metadata": {},
   "source": [
    "PCA = 9, &pi; = 0.1, &lambda; = 1e-3"
   ]
  },
  {
   "cell_type": "code",
   "execution_count": null,
   "metadata": {},
   "outputs": [],
   "source": [
    "pca_value = 9\n",
    "pi_value = 0.1\n",
    "lam_value = 1e-3\n",
    "dis_kfold(DTR, LTR, pca_value, pi_value, lam_value, quadratic_logistic_regression, \"Quadratic Logistic Regression\")"
   ]
  },
  {
   "cell_type": "markdown",
   "metadata": {},
   "source": [
    "PCA = 9, &pi; = 0.1, &lambda; = 1e-2"
   ]
  },
  {
   "cell_type": "code",
   "execution_count": null,
   "metadata": {},
   "outputs": [],
   "source": [
    "pca_value = 9\n",
    "pi_value = 0.1\n",
    "lam_value = 1e-2\n",
    "dis_kfold(DTR, LTR, pca_value, pi_value, lam_value, quadratic_logistic_regression, \"Quadratic Logistic Regression\")"
   ]
  },
  {
   "cell_type": "markdown",
   "metadata": {},
   "source": [
    "PCA = 9, &pi; = 0.1, &lambda; = 1e-1"
   ]
  },
  {
   "cell_type": "code",
   "execution_count": null,
   "metadata": {},
   "outputs": [],
   "source": [
    "pca_value = 9\n",
    "pi_value = 0.1\n",
    "lam_value = 1e-1\n",
    "dis_kfold(DTR, LTR, pca_value, pi_value, lam_value, quadratic_logistic_regression, \"Quadratic Logistic Regression\")"
   ]
  },
  {
   "cell_type": "markdown",
   "metadata": {},
   "source": [
    "PCA = 9, &pi; = 0.1, &lambda; = 1.0"
   ]
  },
  {
   "cell_type": "code",
   "execution_count": null,
   "metadata": {},
   "outputs": [],
   "source": [
    "pca_value = 9\n",
    "pi_value = 0.1\n",
    "lam_value = 1.0\n",
    "dis_kfold(DTR, LTR, pca_value, pi_value, lam_value, quadratic_logistic_regression, \"Quadratic Logistic Regression\")"
   ]
  },
  {
   "cell_type": "markdown",
   "metadata": {},
   "source": [
    "PCA = 9, &pi; = 0.1, &lambda; = 10.0"
   ]
  },
  {
   "cell_type": "code",
   "execution_count": null,
   "metadata": {},
   "outputs": [],
   "source": [
    "pca_value = 9\n",
    "pi_value = 0.1\n",
    "lam_value = 10.0\n",
    "dis_kfold(DTR, LTR, pca_value, pi_value, lam_value, quadratic_logistic_regression, \"Quadratic Logistic Regression\")"
   ]
  },
  {
   "cell_type": "markdown",
   "metadata": {},
   "source": [
    "PCA = 9, &pi; = 0.1, &lambda; = 100.0"
   ]
  },
  {
   "cell_type": "code",
   "execution_count": null,
   "metadata": {},
   "outputs": [],
   "source": [
    "pca_value = 9\n",
    "pi_value = 0.1\n",
    "lam_value = 100.0\n",
    "dis_kfold(DTR, LTR, pca_value, pi_value, lam_value, quadratic_logistic_regression, \"Quadratic Logistic Regression\")"
   ]
  },
  {
   "cell_type": "markdown",
   "metadata": {},
   "source": [
    "PCA = 9, &pi; = 0.5, &lambda; = 1e-6"
   ]
  },
  {
   "cell_type": "code",
   "execution_count": null,
   "metadata": {},
   "outputs": [],
   "source": [
    "pca_value = 9\n",
    "pi_value = 0.5\n",
    "lam_value = 1e-6\n",
    "dis_kfold(DTR, LTR, pca_value, pi_value, lam_value, quadratic_logistic_regression, \"Quadratic Logistic Regression\")"
   ]
  },
  {
   "cell_type": "markdown",
   "metadata": {},
   "source": [
    "PCA = 9, &pi; = 0.5, &lambda; = 1e-5"
   ]
  },
  {
   "cell_type": "code",
   "execution_count": null,
   "metadata": {},
   "outputs": [],
   "source": [
    "pca_value = 9\n",
    "pi_value = 0.5\n",
    "lam_value = 1e-5\n",
    "dis_kfold(DTR, LTR, pca_value, pi_value, lam_value, quadratic_logistic_regression, \"Quadratic Logistic Regression\")"
   ]
  },
  {
   "cell_type": "markdown",
   "metadata": {},
   "source": [
    "PCA = 9, &pi; = 0.5, &lambda; = 1e-4"
   ]
  },
  {
   "cell_type": "code",
   "execution_count": null,
   "metadata": {},
   "outputs": [],
   "source": [
    "pca_value = 9\n",
    "pi_value = 0.5\n",
    "lam_value = 1e-4\n",
    "dis_kfold(DTR, LTR, pca_value, pi_value, lam_value, quadratic_logistic_regression, \"Quadratic Logistic Regression\")"
   ]
  },
  {
   "cell_type": "markdown",
   "metadata": {},
   "source": [
    "PCA = 9, &pi; = 0.5, &lambda; = 1e-3"
   ]
  },
  {
   "cell_type": "code",
   "execution_count": null,
   "metadata": {},
   "outputs": [],
   "source": [
    "pca_value = 9\n",
    "pi_value = 0.5\n",
    "lam_value = 1e-3\n",
    "dis_kfold(DTR, LTR, pca_value, pi_value, lam_value, quadratic_logistic_regression, \"Quadratic Logistic Regression\")"
   ]
  },
  {
   "cell_type": "markdown",
   "metadata": {},
   "source": [
    "PCA = 9, &pi; = 0.5, &lambda; = 1e-2"
   ]
  },
  {
   "cell_type": "code",
   "execution_count": null,
   "metadata": {},
   "outputs": [],
   "source": [
    "pca_value = 9\n",
    "pi_value = 0.5\n",
    "lam_value = 1e-2\n",
    "dis_kfold(DTR, LTR, pca_value, pi_value, lam_value, quadratic_logistic_regression, \"Quadratic Logistic Regression\")"
   ]
  },
  {
   "cell_type": "markdown",
   "metadata": {},
   "source": [
    "PCA = 9, &pi; = 0.5, &lambda; = 1e-1"
   ]
  },
  {
   "cell_type": "code",
   "execution_count": null,
   "metadata": {},
   "outputs": [],
   "source": [
    "pca_value = 9\n",
    "pi_value = 0.5\n",
    "lam_value = 1e-1\n",
    "dis_kfold(DTR, LTR, pca_value, pi_value, lam_value, quadratic_logistic_regression, \"Quadratic Logistic Regression\")"
   ]
  },
  {
   "cell_type": "markdown",
   "metadata": {},
   "source": [
    "PCA = 9, &pi; = 0.5, &lambda; = 1.0"
   ]
  },
  {
   "cell_type": "code",
   "execution_count": null,
   "metadata": {},
   "outputs": [],
   "source": [
    "pca_value = 9\n",
    "pi_value = 0.5\n",
    "lam_value = 1.0\n",
    "dis_kfold(DTR, LTR, pca_value, pi_value, lam_value, quadratic_logistic_regression, \"Quadratic Logistic Regression\")"
   ]
  },
  {
   "cell_type": "markdown",
   "metadata": {},
   "source": [
    "PCA = 9, &pi; = 0.5, &lambda; = 10.0"
   ]
  },
  {
   "cell_type": "code",
   "execution_count": null,
   "metadata": {},
   "outputs": [],
   "source": [
    "pca_value = 9\n",
    "pi_value = 0.5\n",
    "lam_value = 10.0\n",
    "dis_kfold(DTR, LTR, pca_value, pi_value, lam_value, quadratic_logistic_regression, \"Quadratic Logistic Regression\")"
   ]
  },
  {
   "cell_type": "markdown",
   "metadata": {},
   "source": [
    "PCA = 9, &pi; = 0.5, &lambda; = 100.0"
   ]
  },
  {
   "cell_type": "code",
   "execution_count": null,
   "metadata": {},
   "outputs": [],
   "source": [
    "pca_value = 9\n",
    "pi_value = 0.5\n",
    "lam_value = 100.0\n",
    "dis_kfold(DTR, LTR, pca_value, pi_value, lam_value, quadratic_logistic_regression, \"Quadratic Logistic Regression\")"
   ]
  },
  {
   "cell_type": "markdown",
   "metadata": {},
   "source": [
    "PCA = 9, &pi; = 0.9, &lambda; = 1e-6"
   ]
  },
  {
   "cell_type": "code",
   "execution_count": null,
   "metadata": {},
   "outputs": [],
   "source": [
    "pca_value = 9\n",
    "pi_value = 0.9\n",
    "lam_value = 1e-6\n",
    "dis_kfold(DTR, LTR, pca_value, pi_value, lam_value, quadratic_logistic_regression, \"Quadratic Logistic Regression\")"
   ]
  },
  {
   "cell_type": "markdown",
   "metadata": {},
   "source": [
    "PCA = 9, &pi; = 0.9, &lambda; = 1e-5"
   ]
  },
  {
   "cell_type": "code",
   "execution_count": null,
   "metadata": {},
   "outputs": [],
   "source": [
    "pca_value = 9\n",
    "pi_value = 0.9\n",
    "lam_value = 1e-5\n",
    "dis_kfold(DTR, LTR, pca_value, pi_value, lam_value, quadratic_logistic_regression, \"Quadratic Logistic Regression\")"
   ]
  },
  {
   "cell_type": "markdown",
   "metadata": {},
   "source": [
    "PCA = 9, &pi; = 0.9, &lambda; = 1e-4"
   ]
  },
  {
   "cell_type": "code",
   "execution_count": null,
   "metadata": {},
   "outputs": [],
   "source": [
    "pca_value = 9\n",
    "pi_value = 0.9\n",
    "lam_value = 1e-4\n",
    "dis_kfold(DTR, LTR, pca_value, pi_value, lam_value, quadratic_logistic_regression, \"Quadratic Logistic Regression\")"
   ]
  },
  {
   "cell_type": "markdown",
   "metadata": {},
   "source": [
    "PCA = 9, &pi; = 0.9, &lambda; = 1e-3"
   ]
  },
  {
   "cell_type": "code",
   "execution_count": null,
   "metadata": {},
   "outputs": [],
   "source": [
    "pca_value = 9\n",
    "pi_value = 0.9\n",
    "lam_value = 1e-3\n",
    "dis_kfold(DTR, LTR, pca_value, pi_value, lam_value, quadratic_logistic_regression, \"Quadratic Logistic Regression\")"
   ]
  },
  {
   "cell_type": "markdown",
   "metadata": {},
   "source": [
    "PCA = 9, &pi; = 0.9, &lambda; = 1e-2"
   ]
  },
  {
   "cell_type": "code",
   "execution_count": null,
   "metadata": {},
   "outputs": [],
   "source": [
    "pca_value = 9\n",
    "pi_value = 0.9\n",
    "lam_value = 1e-2\n",
    "dis_kfold(DTR, LTR, pca_value, pi_value, lam_value, quadratic_logistic_regression, \"Quadratic Logistic Regression\")"
   ]
  },
  {
   "cell_type": "markdown",
   "metadata": {},
   "source": [
    "PCA = 9, &pi; = 0.9, &lambda; = 1e-1"
   ]
  },
  {
   "cell_type": "code",
   "execution_count": null,
   "metadata": {},
   "outputs": [],
   "source": [
    "pca_value = 9\n",
    "pi_value = 0.9\n",
    "lam_value = 1e-1\n",
    "dis_kfold(DTR, LTR, pca_value, pi_value, lam_value, quadratic_logistic_regression, \"Quadratic Logistic Regression\")"
   ]
  },
  {
   "cell_type": "markdown",
   "metadata": {},
   "source": [
    "PCA = 9, &pi; = 0.9, &lambda; = 1.0"
   ]
  },
  {
   "cell_type": "code",
   "execution_count": null,
   "metadata": {},
   "outputs": [],
   "source": [
    "pca_value = 9\n",
    "pi_value = 0.9\n",
    "lam_value = 1.0\n",
    "dis_kfold(DTR, LTR, pca_value, pi_value, lam_value, quadratic_logistic_regression, \"Quadratic Logistic Regression\")"
   ]
  },
  {
   "cell_type": "markdown",
   "metadata": {},
   "source": [
    "PCA = 9, &pi; = 0.9, &lambda; = 10.0"
   ]
  },
  {
   "cell_type": "code",
   "execution_count": null,
   "metadata": {},
   "outputs": [],
   "source": [
    "pca_value = 9\n",
    "pi_value = 0.9\n",
    "lam_value = 10.0\n",
    "dis_kfold(DTR, LTR, pca_value, pi_value, lam_value, quadratic_logistic_regression, \"Quadratic Logistic Regression\")"
   ]
  },
  {
   "cell_type": "markdown",
   "metadata": {},
   "source": [
    "PCA = 9, &pi; = 0.9, &lambda; = 100.0"
   ]
  },
  {
   "cell_type": "code",
   "execution_count": null,
   "metadata": {},
   "outputs": [],
   "source": [
    "pca_value = 9\n",
    "pi_value = 0.9\n",
    "lam_value = 100.0\n",
    "dis_kfold(DTR, LTR, pca_value, pi_value, lam_value, quadratic_logistic_regression, \"Quadratic Logistic Regression\")"
   ]
  },
  {
   "cell_type": "markdown",
   "metadata": {},
   "source": [
    "PCA = 8, &pi; = 0.1, &lambda; = 1e-6"
   ]
  },
  {
   "cell_type": "code",
   "execution_count": null,
   "metadata": {},
   "outputs": [],
   "source": [
    "pca_value = 8\n",
    "pi_value = 0.1\n",
    "lam_value = 1e-6\n",
    "dis_kfold(DTR, LTR, pca_value, pi_value, lam_value, quadratic_logistic_regression, \"Quadratic Logistic Regression\")"
   ]
  },
  {
   "cell_type": "markdown",
   "metadata": {},
   "source": [
    "PCA = 8, &pi; = 0.1, &lambda; = 1e-5"
   ]
  },
  {
   "cell_type": "code",
   "execution_count": null,
   "metadata": {},
   "outputs": [],
   "source": [
    "pca_value = 8\n",
    "pi_value = 0.1\n",
    "lam_value = 1e-5\n",
    "dis_kfold(DTR, LTR, pca_value, pi_value, lam_value, quadratic_logistic_regression, \"Quadratic Logistic Regression\")"
   ]
  },
  {
   "cell_type": "markdown",
   "metadata": {},
   "source": [
    "PCA = 8, &pi; = 0.1, &lambda; = 1e-4"
   ]
  },
  {
   "cell_type": "code",
   "execution_count": null,
   "metadata": {},
   "outputs": [],
   "source": [
    "pca_value = 8\n",
    "pi_value = 0.1\n",
    "lam_value = 1e-4\n",
    "dis_kfold(DTR, LTR, pca_value, pi_value, lam_value, quadratic_logistic_regression, \"Quadratic Logistic Regression\")"
   ]
  },
  {
   "cell_type": "markdown",
   "metadata": {},
   "source": [
    "PCA = 8, &pi; = 0.1, &lambda; = 1e-3"
   ]
  },
  {
   "cell_type": "code",
   "execution_count": null,
   "metadata": {},
   "outputs": [],
   "source": [
    "pca_value = 8\n",
    "pi_value = 0.1\n",
    "lam_value = 1e-3\n",
    "dis_kfold(DTR, LTR, pca_value, pi_value, lam_value, quadratic_logistic_regression, \"Quadratic Logistic Regression\")"
   ]
  },
  {
   "cell_type": "markdown",
   "metadata": {},
   "source": [
    "PCA = 8, &pi; = 0.1, &lambda; = 1e-2"
   ]
  },
  {
   "cell_type": "code",
   "execution_count": null,
   "metadata": {},
   "outputs": [],
   "source": [
    "pca_value = 8\n",
    "pi_value = 0.1\n",
    "lam_value = 1e-2\n",
    "dis_kfold(DTR, LTR, pca_value, pi_value, lam_value, quadratic_logistic_regression, \"Quadratic Logistic Regression\")"
   ]
  },
  {
   "cell_type": "markdown",
   "metadata": {},
   "source": [
    "PCA = 8, &pi; = 0.1, &lambda; = 1e-1"
   ]
  },
  {
   "cell_type": "code",
   "execution_count": null,
   "metadata": {},
   "outputs": [],
   "source": [
    "pca_value = 8\n",
    "pi_value = 0.1\n",
    "lam_value = 1e-1\n",
    "dis_kfold(DTR, LTR, pca_value, pi_value, lam_value, quadratic_logistic_regression, \"Quadratic Logistic Regression\")"
   ]
  },
  {
   "cell_type": "markdown",
   "metadata": {},
   "source": [
    "PCA = 8, &pi; = 0.1, &lambda; = 1.0"
   ]
  },
  {
   "cell_type": "code",
   "execution_count": null,
   "metadata": {},
   "outputs": [],
   "source": [
    "pca_value = 8\n",
    "pi_value = 0.1\n",
    "lam_value = 1.0\n",
    "dis_kfold(DTR, LTR, pca_value, pi_value, lam_value, quadratic_logistic_regression, \"Quadratic Logistic Regression\")"
   ]
  },
  {
   "cell_type": "markdown",
   "metadata": {},
   "source": [
    "PCA = 8, &pi; = 0.1, &lambda; = 10.0"
   ]
  },
  {
   "cell_type": "code",
   "execution_count": null,
   "metadata": {},
   "outputs": [],
   "source": [
    "pca_value = 8\n",
    "pi_value = 0.1\n",
    "lam_value = 10.0\n",
    "dis_kfold(DTR, LTR, pca_value, pi_value, lam_value, quadratic_logistic_regression, \"Quadratic Logistic Regression\")"
   ]
  },
  {
   "cell_type": "markdown",
   "metadata": {},
   "source": [
    "PCA = 8, &pi; = 0.1, &lambda; = 100.0"
   ]
  },
  {
   "cell_type": "code",
   "execution_count": null,
   "metadata": {},
   "outputs": [],
   "source": [
    "pca_value = 8\n",
    "pi_value = 0.1\n",
    "lam_value = 100.0\n",
    "dis_kfold(DTR, LTR, pca_value, pi_value, lam_value, quadratic_logistic_regression, \"Quadratic Logistic Regression\")"
   ]
  },
  {
   "cell_type": "markdown",
   "metadata": {},
   "source": [
    "PCA = 8, &pi; = 0.5, &lambda; = 1e-6"
   ]
  },
  {
   "cell_type": "code",
   "execution_count": null,
   "metadata": {},
   "outputs": [],
   "source": [
    "pca_value = 8\n",
    "pi_value = 0.5\n",
    "lam_value = 1e-6\n",
    "dis_kfold(DTR, LTR, pca_value, pi_value, lam_value, quadratic_logistic_regression, \"Quadratic Logistic Regression\")"
   ]
  },
  {
   "cell_type": "markdown",
   "metadata": {},
   "source": [
    "PCA = 8, &pi; = 0.5, &lambda; = 1e-5"
   ]
  },
  {
   "cell_type": "code",
   "execution_count": null,
   "metadata": {},
   "outputs": [],
   "source": [
    "pca_value = 8\n",
    "pi_value = 0.5\n",
    "lam_value = 1e-5\n",
    "dis_kfold(DTR, LTR, pca_value, pi_value, lam_value, quadratic_logistic_regression, \"Quadratic Logistic Regression\")"
   ]
  },
  {
   "cell_type": "markdown",
   "metadata": {},
   "source": [
    "PCA = 8, &pi; = 0.5, &lambda; = 1e-4"
   ]
  },
  {
   "cell_type": "code",
   "execution_count": null,
   "metadata": {},
   "outputs": [],
   "source": [
    "pca_value = 8\n",
    "pi_value = 0.5\n",
    "lam_value = 1e-4\n",
    "dis_kfold(DTR, LTR, pca_value, pi_value, lam_value, quadratic_logistic_regression, \"Quadratic Logistic Regression\")"
   ]
  },
  {
   "cell_type": "markdown",
   "metadata": {},
   "source": [
    "PCA = 8, &pi; = 0.5, &lambda; = 1e-3"
   ]
  },
  {
   "cell_type": "code",
   "execution_count": null,
   "metadata": {},
   "outputs": [],
   "source": [
    "pca_value = 8\n",
    "pi_value = 0.5\n",
    "lam_value = 1e-3\n",
    "dis_kfold(DTR, LTR, pca_value, pi_value, lam_value, quadratic_logistic_regression, \"Quadratic Logistic Regression\")"
   ]
  },
  {
   "cell_type": "markdown",
   "metadata": {},
   "source": [
    "PCA = 8, &pi; = 0.5, &lambda; = 1e-2"
   ]
  },
  {
   "cell_type": "code",
   "execution_count": null,
   "metadata": {},
   "outputs": [],
   "source": [
    "pca_value = 8\n",
    "pi_value = 0.5\n",
    "lam_value = 1e-2\n",
    "dis_kfold(DTR, LTR, pca_value, pi_value, lam_value, quadratic_logistic_regression, \"Quadratic Logistic Regression\")"
   ]
  },
  {
   "cell_type": "markdown",
   "metadata": {},
   "source": [
    "PCA = 8, &pi; = 0.5, &lambda; = 1e-1"
   ]
  },
  {
   "cell_type": "code",
   "execution_count": null,
   "metadata": {},
   "outputs": [],
   "source": [
    "pca_value = 8\n",
    "pi_value = 0.5\n",
    "lam_value = 1e-1\n",
    "dis_kfold(DTR, LTR, pca_value, pi_value, lam_value, quadratic_logistic_regression, \"Quadratic Logistic Regression\")"
   ]
  },
  {
   "cell_type": "markdown",
   "metadata": {},
   "source": [
    "PCA = 8, &pi; = 0.5, &lambda; = 1.0"
   ]
  },
  {
   "cell_type": "code",
   "execution_count": null,
   "metadata": {},
   "outputs": [],
   "source": [
    "pca_value = 8\n",
    "pi_value = 0.5\n",
    "lam_value = 1.0\n",
    "dis_kfold(DTR, LTR, pca_value, pi_value, lam_value, quadratic_logistic_regression, \"Quadratic Logistic Regression\")"
   ]
  },
  {
   "cell_type": "markdown",
   "metadata": {},
   "source": [
    "PCA = 8, &pi; = 0.5, &lambda; = 10.0"
   ]
  },
  {
   "cell_type": "code",
   "execution_count": null,
   "metadata": {},
   "outputs": [],
   "source": [
    "pca_value = 8\n",
    "pi_value = 0.5\n",
    "lam_value = 10.0\n",
    "dis_kfold(DTR, LTR, pca_value, pi_value, lam_value, quadratic_logistic_regression, \"Quadratic Logistic Regression\")"
   ]
  },
  {
   "cell_type": "markdown",
   "metadata": {},
   "source": [
    "PCA = 8, &pi; = 0.5, &lambda; = 100.0"
   ]
  },
  {
   "cell_type": "code",
   "execution_count": null,
   "metadata": {},
   "outputs": [],
   "source": [
    "pca_value = 8\n",
    "pi_value = 0.5\n",
    "lam_value = 100.0\n",
    "dis_kfold(DTR, LTR, pca_value, pi_value, lam_value, quadratic_logistic_regression, \"Quadratic Logistic Regression\")"
   ]
  },
  {
   "cell_type": "markdown",
   "metadata": {},
   "source": [
    "PCA = 8, &pi; = 0.9, &lambda; = 1e-6"
   ]
  },
  {
   "cell_type": "code",
   "execution_count": null,
   "metadata": {},
   "outputs": [],
   "source": [
    "pca_value = 8\n",
    "pi_value = 0.9\n",
    "lam_value = 1e-6\n",
    "dis_kfold(DTR, LTR, pca_value, pi_value, lam_value, quadratic_logistic_regression, \"Quadratic Logistic Regression\")"
   ]
  },
  {
   "cell_type": "markdown",
   "metadata": {},
   "source": [
    "PCA = 8, &pi; = 0.9, &lambda; = 1e-5"
   ]
  },
  {
   "cell_type": "code",
   "execution_count": null,
   "metadata": {},
   "outputs": [],
   "source": [
    "pca_value = 8\n",
    "pi_value = 0.9\n",
    "lam_value = 1e-5\n",
    "dis_kfold(DTR, LTR, pca_value, pi_value, lam_value, quadratic_logistic_regression, \"Quadratic Logistic Regression\")"
   ]
  },
  {
   "cell_type": "markdown",
   "metadata": {},
   "source": [
    "PCA = 8, &pi; = 0.9, &lambda; = 1e-4"
   ]
  },
  {
   "cell_type": "code",
   "execution_count": null,
   "metadata": {},
   "outputs": [],
   "source": [
    "pca_value = 8\n",
    "pi_value = 0.9\n",
    "lam_value = 1e-4\n",
    "dis_kfold(DTR, LTR, pca_value, pi_value, lam_value, quadratic_logistic_regression, \"Quadratic Logistic Regression\")"
   ]
  },
  {
   "cell_type": "markdown",
   "metadata": {},
   "source": [
    "PCA = 8, &pi; = 0.9, &lambda; = 1e-3"
   ]
  },
  {
   "cell_type": "code",
   "execution_count": null,
   "metadata": {},
   "outputs": [],
   "source": [
    "pca_value = 8\n",
    "pi_value = 0.9\n",
    "lam_value = 1e-3\n",
    "dis_kfold(DTR, LTR, pca_value, pi_value, lam_value, quadratic_logistic_regression, \"Quadratic Logistic Regression\")"
   ]
  },
  {
   "cell_type": "markdown",
   "metadata": {},
   "source": [
    "PCA = 8, &pi; = 0.9, &lambda; = 1e-2"
   ]
  },
  {
   "cell_type": "code",
   "execution_count": null,
   "metadata": {},
   "outputs": [],
   "source": [
    "pca_value = 8\n",
    "pi_value = 0.9\n",
    "lam_value = 1e-2\n",
    "dis_kfold(DTR, LTR, pca_value, pi_value, lam_value, quadratic_logistic_regression, \"Quadratic Logistic Regression\")"
   ]
  },
  {
   "cell_type": "markdown",
   "metadata": {},
   "source": [
    "PCA = 8, &pi; = 0.9, &lambda; = 1e-1"
   ]
  },
  {
   "cell_type": "code",
   "execution_count": null,
   "metadata": {},
   "outputs": [],
   "source": [
    "pca_value = 8\n",
    "pi_value = 0.9\n",
    "lam_value = 1e-1\n",
    "dis_kfold(DTR, LTR, pca_value, pi_value, lam_value, quadratic_logistic_regression, \"Quadratic Logistic Regression\")"
   ]
  },
  {
   "cell_type": "markdown",
   "metadata": {},
   "source": [
    "PCA = 8, &pi; = 0.9, &lambda; = 1.0"
   ]
  },
  {
   "cell_type": "code",
   "execution_count": null,
   "metadata": {},
   "outputs": [],
   "source": [
    "pca_value = 8\n",
    "pi_value = 0.9\n",
    "lam_value = 1.0\n",
    "dis_kfold(DTR, LTR, pca_value, pi_value, lam_value, quadratic_logistic_regression, \"Quadratic Logistic Regression\")"
   ]
  },
  {
   "cell_type": "markdown",
   "metadata": {},
   "source": [
    "PCA = 8, &pi; = 0.9, &lambda; = 10.0"
   ]
  },
  {
   "cell_type": "code",
   "execution_count": null,
   "metadata": {},
   "outputs": [],
   "source": [
    "pca_value = 8\n",
    "pi_value = 0.9\n",
    "lam_value = 10.0\n",
    "dis_kfold(DTR, LTR, pca_value, pi_value, lam_value, quadratic_logistic_regression, \"Quadratic Logistic Regression\")"
   ]
  },
  {
   "cell_type": "markdown",
   "metadata": {},
   "source": [
    "PCA = 8, &pi; = 0.9, &lambda; = 100.0"
   ]
  },
  {
   "cell_type": "code",
   "execution_count": null,
   "metadata": {},
   "outputs": [],
   "source": [
    "pca_value = 8\n",
    "pi_value = 0.9\n",
    "lam_value = 100.0\n",
    "dis_kfold(DTR, LTR, pca_value, pi_value, lam_value, quadratic_logistic_regression, \"Quadratic Logistic Regression\")"
   ]
  },
  {
   "cell_type": "markdown",
   "metadata": {},
   "source": [
    "PCA = 7, &pi; = 0.1, &lambda; = 1e-6"
   ]
  },
  {
   "cell_type": "code",
   "execution_count": null,
   "metadata": {},
   "outputs": [],
   "source": [
    "pca_value = 7\n",
    "pi_value = 0.1\n",
    "lam_value = 1e-6\n",
    "dis_kfold(DTR, LTR, pca_value, pi_value, lam_value, quadratic_logistic_regression, \"Quadratic Logistic Regression\")"
   ]
  },
  {
   "cell_type": "markdown",
   "metadata": {},
   "source": [
    "PCA = 7, &pi; = 0.1, &lambda; = 1e-5"
   ]
  },
  {
   "cell_type": "code",
   "execution_count": null,
   "metadata": {},
   "outputs": [],
   "source": [
    "pca_value = 7\n",
    "pi_value = 0.1\n",
    "lam_value = 1e-5\n",
    "dis_kfold(DTR, LTR, pca_value, pi_value, lam_value, quadratic_logistic_regression, \"Quadratic Logistic Regression\")"
   ]
  },
  {
   "cell_type": "markdown",
   "metadata": {},
   "source": [
    "PCA = 7, &pi; = 0.1, &lambda; = 1e-4"
   ]
  },
  {
   "cell_type": "code",
   "execution_count": null,
   "metadata": {},
   "outputs": [],
   "source": [
    "pca_value = 7\n",
    "pi_value = 0.1\n",
    "lam_value = 1e-4\n",
    "dis_kfold(DTR, LTR, pca_value, pi_value, lam_value, quadratic_logistic_regression, \"Quadratic Logistic Regression\")"
   ]
  },
  {
   "cell_type": "markdown",
   "metadata": {},
   "source": [
    "PCA = 7, &pi; = 0.1, &lambda; = 1e-3"
   ]
  },
  {
   "cell_type": "code",
   "execution_count": null,
   "metadata": {},
   "outputs": [],
   "source": [
    "pca_value = 7\n",
    "pi_value = 0.1\n",
    "lam_value = 1e-3\n",
    "dis_kfold(DTR, LTR, pca_value, pi_value, lam_value, quadratic_logistic_regression, \"Quadratic Logistic Regression\")"
   ]
  },
  {
   "cell_type": "markdown",
   "metadata": {},
   "source": [
    "PCA = 7, &pi; = 0.1, &lambda; = 1e-2"
   ]
  },
  {
   "cell_type": "code",
   "execution_count": null,
   "metadata": {},
   "outputs": [],
   "source": [
    "pca_value = 7\n",
    "pi_value = 0.1\n",
    "lam_value = 1e-2\n",
    "dis_kfold(DTR, LTR, pca_value, pi_value, lam_value, quadratic_logistic_regression, \"Quadratic Logistic Regression\")"
   ]
  },
  {
   "cell_type": "markdown",
   "metadata": {},
   "source": [
    "PCA = 7, &pi; = 0.1, &lambda; = 1e-1"
   ]
  },
  {
   "cell_type": "code",
   "execution_count": null,
   "metadata": {},
   "outputs": [],
   "source": [
    "pca_value = 7\n",
    "pi_value = 0.1\n",
    "lam_value = 1e-1\n",
    "dis_kfold(DTR, LTR, pca_value, pi_value, lam_value, quadratic_logistic_regression, \"Quadratic Logistic Regression\")"
   ]
  },
  {
   "cell_type": "markdown",
   "metadata": {},
   "source": [
    "PCA = 7, &pi; = 0.1, &lambda; = 1.0"
   ]
  },
  {
   "cell_type": "code",
   "execution_count": null,
   "metadata": {},
   "outputs": [],
   "source": [
    "pca_value = 7\n",
    "pi_value = 0.1\n",
    "lam_value = 1.0\n",
    "dis_kfold(DTR, LTR, pca_value, pi_value, lam_value, quadratic_logistic_regression, \"Quadratic Logistic Regression\")"
   ]
  },
  {
   "cell_type": "markdown",
   "metadata": {},
   "source": [
    "PCA = 7, &pi; = 0.1, &lambda; = 10.0"
   ]
  },
  {
   "cell_type": "code",
   "execution_count": null,
   "metadata": {},
   "outputs": [],
   "source": [
    "pca_value = 7\n",
    "pi_value = 0.1\n",
    "lam_value = 10.0\n",
    "dis_kfold(DTR, LTR, pca_value, pi_value, lam_value, quadratic_logistic_regression, \"Quadratic Logistic Regression\")"
   ]
  },
  {
   "cell_type": "markdown",
   "metadata": {},
   "source": [
    "PCA = 7, &pi; = 0.1, &lambda; = 100.0"
   ]
  },
  {
   "cell_type": "code",
   "execution_count": null,
   "metadata": {},
   "outputs": [],
   "source": [
    "pca_value = 7\n",
    "pi_value = 0.1\n",
    "lam_value = 100.0\n",
    "dis_kfold(DTR, LTR, pca_value, pi_value, lam_value, quadratic_logistic_regression, \"Quadratic Logistic Regression\")"
   ]
  },
  {
   "cell_type": "markdown",
   "metadata": {},
   "source": [
    "PCA = 7, &pi; = 0.5, &lambda; = 1e-6"
   ]
  },
  {
   "cell_type": "code",
   "execution_count": null,
   "metadata": {},
   "outputs": [],
   "source": [
    "pca_value = 7\n",
    "pi_value = 0.5\n",
    "lam_value = 1e-6\n",
    "dis_kfold(DTR, LTR, pca_value, pi_value, lam_value, quadratic_logistic_regression, \"Quadratic Logistic Regression\")"
   ]
  },
  {
   "cell_type": "markdown",
   "metadata": {},
   "source": [
    "PCA = 7, &pi; = 0.5, &lambda; = 1e-5"
   ]
  },
  {
   "cell_type": "code",
   "execution_count": null,
   "metadata": {},
   "outputs": [],
   "source": [
    "pca_value = 7\n",
    "pi_value = 0.5\n",
    "lam_value = 1e-5\n",
    "dis_kfold(DTR, LTR, pca_value, pi_value, lam_value, quadratic_logistic_regression, \"Quadratic Logistic Regression\")"
   ]
  },
  {
   "cell_type": "markdown",
   "metadata": {},
   "source": [
    "PCA = 7, &pi; = 0.5, &lambda; = 1e-4"
   ]
  },
  {
   "cell_type": "code",
   "execution_count": null,
   "metadata": {},
   "outputs": [],
   "source": [
    "pca_value = 7\n",
    "pi_value = 0.5\n",
    "lam_value = 1e-4\n",
    "dis_kfold(DTR, LTR, pca_value, pi_value, lam_value, quadratic_logistic_regression, \"Quadratic Logistic Regression\")"
   ]
  },
  {
   "cell_type": "markdown",
   "metadata": {},
   "source": [
    "PCA = 7, &pi; = 0.5, &lambda; = 1e-3"
   ]
  },
  {
   "cell_type": "code",
   "execution_count": null,
   "metadata": {},
   "outputs": [],
   "source": [
    "pca_value = 7\n",
    "pi_value = 0.5\n",
    "lam_value = 1e-3\n",
    "dis_kfold(DTR, LTR, pca_value, pi_value, lam_value, quadratic_logistic_regression, \"Quadratic Logistic Regression\")"
   ]
  },
  {
   "cell_type": "markdown",
   "metadata": {},
   "source": [
    "PCA = 7, &pi; = 0.5, &lambda; = 1e-2"
   ]
  },
  {
   "cell_type": "code",
   "execution_count": null,
   "metadata": {},
   "outputs": [],
   "source": [
    "pca_value = 7\n",
    "pi_value = 0.5\n",
    "lam_value = 1e-2\n",
    "dis_kfold(DTR, LTR, pca_value, pi_value, lam_value, quadratic_logistic_regression, \"Quadratic Logistic Regression\")"
   ]
  },
  {
   "cell_type": "markdown",
   "metadata": {},
   "source": [
    "PCA = 7, &pi; = 0.5, &lambda; = 1e-1"
   ]
  },
  {
   "cell_type": "code",
   "execution_count": null,
   "metadata": {},
   "outputs": [],
   "source": [
    "pca_value = 7\n",
    "pi_value = 0.5\n",
    "lam_value = 1e-1\n",
    "dis_kfold(DTR, LTR, pca_value, pi_value, lam_value, quadratic_logistic_regression, \"Quadratic Logistic Regression\")"
   ]
  },
  {
   "cell_type": "markdown",
   "metadata": {},
   "source": [
    "PCA = 7, &pi; = 0.5, &lambda; = 1.0"
   ]
  },
  {
   "cell_type": "code",
   "execution_count": null,
   "metadata": {},
   "outputs": [],
   "source": [
    "pca_value = 7\n",
    "pi_value = 0.5\n",
    "lam_value = 1.0\n",
    "dis_kfold(DTR, LTR, pca_value, pi_value, lam_value, quadratic_logistic_regression, \"Quadratic Logistic Regression\")"
   ]
  },
  {
   "cell_type": "markdown",
   "metadata": {},
   "source": [
    "PCA = 7, &pi; = 0.5, &lambda; = 10.0"
   ]
  },
  {
   "cell_type": "code",
   "execution_count": null,
   "metadata": {},
   "outputs": [],
   "source": [
    "pca_value = 7\n",
    "pi_value = 0.5\n",
    "lam_value = 10.0\n",
    "dis_kfold(DTR, LTR, pca_value, pi_value, lam_value, quadratic_logistic_regression, \"Quadratic Logistic Regression\")"
   ]
  },
  {
   "cell_type": "markdown",
   "metadata": {},
   "source": [
    "PCA = 7, &pi; = 0.5, &lambda; = 100.0"
   ]
  },
  {
   "cell_type": "code",
   "execution_count": null,
   "metadata": {},
   "outputs": [],
   "source": [
    "pca_value = 7\n",
    "pi_value = 0.5\n",
    "lam_value = 100.0\n",
    "dis_kfold(DTR, LTR, pca_value, pi_value, lam_value, quadratic_logistic_regression, \"Quadratic Logistic Regression\")"
   ]
  },
  {
   "cell_type": "markdown",
   "metadata": {},
   "source": [
    "PCA = 7, &pi; = 0.9, &lambda; = 1e-6"
   ]
  },
  {
   "cell_type": "code",
   "execution_count": null,
   "metadata": {},
   "outputs": [],
   "source": [
    "pca_value = 7\n",
    "pi_value = 0.9\n",
    "lam_value = 1e-6\n",
    "dis_kfold(DTR, LTR, pca_value, pi_value, lam_value, quadratic_logistic_regression, \"Quadratic Logistic Regression\")"
   ]
  },
  {
   "cell_type": "markdown",
   "metadata": {},
   "source": [
    "PCA = 7, &pi; = 0.9, &lambda; = 1e-5"
   ]
  },
  {
   "cell_type": "code",
   "execution_count": null,
   "metadata": {},
   "outputs": [],
   "source": [
    "pca_value = 7\n",
    "pi_value = 0.9\n",
    "lam_value = 1e-5\n",
    "dis_kfold(DTR, LTR, pca_value, pi_value, lam_value, quadratic_logistic_regression, \"Quadratic Logistic Regression\")"
   ]
  },
  {
   "cell_type": "markdown",
   "metadata": {},
   "source": [
    "PCA = 7, &pi; = 0.9, &lambda; = 1e-4"
   ]
  },
  {
   "cell_type": "code",
   "execution_count": null,
   "metadata": {},
   "outputs": [],
   "source": [
    "pca_value = 7\n",
    "pi_value = 0.9\n",
    "lam_value = 1e-4\n",
    "dis_kfold(DTR, LTR, pca_value, pi_value, lam_value, quadratic_logistic_regression, \"Quadratic Logistic Regression\")"
   ]
  },
  {
   "cell_type": "markdown",
   "metadata": {},
   "source": [
    "PCA = 7, &pi; = 0.9, &lambda; = 1e-3"
   ]
  },
  {
   "cell_type": "code",
   "execution_count": null,
   "metadata": {},
   "outputs": [],
   "source": [
    "pca_value = 7\n",
    "pi_value = 0.9\n",
    "lam_value = 1e-3\n",
    "dis_kfold(DTR, LTR, pca_value, pi_value, lam_value, quadratic_logistic_regression, \"Quadratic Logistic Regression\")"
   ]
  },
  {
   "cell_type": "markdown",
   "metadata": {},
   "source": [
    "PCA = 7, &pi; = 0.9, &lambda; = 1e-2"
   ]
  },
  {
   "cell_type": "code",
   "execution_count": null,
   "metadata": {},
   "outputs": [],
   "source": [
    "pca_value = 7\n",
    "pi_value = 0.9\n",
    "lam_value = 1e-2\n",
    "dis_kfold(DTR, LTR, pca_value, pi_value, lam_value, quadratic_logistic_regression, \"Quadratic Logistic Regression\")"
   ]
  },
  {
   "cell_type": "markdown",
   "metadata": {},
   "source": [
    "PCA = 7, &pi; = 0.9, &lambda; = 1e-1"
   ]
  },
  {
   "cell_type": "code",
   "execution_count": null,
   "metadata": {},
   "outputs": [],
   "source": [
    "pca_value = 7\n",
    "pi_value = 0.9\n",
    "lam_value = 1e-1\n",
    "dis_kfold(DTR, LTR, pca_value, pi_value, lam_value, quadratic_logistic_regression, \"Quadratic Logistic Regression\")"
   ]
  },
  {
   "cell_type": "markdown",
   "metadata": {},
   "source": [
    "PCA = 7, &pi; = 0.9, &lambda; = 1.0"
   ]
  },
  {
   "cell_type": "code",
   "execution_count": null,
   "metadata": {},
   "outputs": [],
   "source": [
    "pca_value = 7\n",
    "pi_value = 0.9\n",
    "lam_value = 1.0\n",
    "dis_kfold(DTR, LTR, pca_value, pi_value, lam_value, quadratic_logistic_regression, \"Quadratic Logistic Regression\")"
   ]
  },
  {
   "cell_type": "markdown",
   "metadata": {},
   "source": [
    "PCA = 7, &pi; = 0.9, &lambda; = 10.0"
   ]
  },
  {
   "cell_type": "code",
   "execution_count": null,
   "metadata": {},
   "outputs": [],
   "source": [
    "pca_value = 7\n",
    "pi_value = 0.9\n",
    "lam_value = 10.0\n",
    "dis_kfold(DTR, LTR, pca_value, pi_value, lam_value, quadratic_logistic_regression, \"Quadratic Logistic Regression\")"
   ]
  },
  {
   "cell_type": "markdown",
   "metadata": {},
   "source": [
    "PCA = 7, &pi; = 0.9, &lambda; = 100.0"
   ]
  },
  {
   "cell_type": "code",
   "execution_count": null,
   "metadata": {},
   "outputs": [],
   "source": [
    "pca_value = 7\n",
    "pi_value = 0.9\n",
    "lam_value = 100.0\n",
    "dis_kfold(DTR, LTR, pca_value, pi_value, lam_value, quadratic_logistic_regression, \"Quadratic Logistic Regression\")"
   ]
  },
  {
   "cell_type": "markdown",
   "metadata": {},
   "source": [
    "PCA = 6, &pi; = 0.1, &lambda; = 1e-6"
   ]
  },
  {
   "cell_type": "code",
   "execution_count": null,
   "metadata": {},
   "outputs": [],
   "source": [
    "pca_value = 6\n",
    "pi_value = 0.1\n",
    "lam_value = 1e-6\n",
    "dis_kfold(DTR, LTR, pca_value, pi_value, lam_value, quadratic_logistic_regression, \"Quadratic Logistic Regression\")"
   ]
  },
  {
   "cell_type": "markdown",
   "metadata": {},
   "source": [
    "PCA = 6, &pi; = 0.1, &lambda; = 1e-5"
   ]
  },
  {
   "cell_type": "code",
   "execution_count": null,
   "metadata": {},
   "outputs": [],
   "source": [
    "pca_value = 6\n",
    "pi_value = 0.1\n",
    "lam_value = 1e-5\n",
    "dis_kfold(DTR, LTR, pca_value, pi_value, lam_value, quadratic_logistic_regression, \"Quadratic Logistic Regression\")"
   ]
  },
  {
   "cell_type": "markdown",
   "metadata": {},
   "source": [
    "PCA = 6, &pi; = 0.1, &lambda; = 1e-4"
   ]
  },
  {
   "cell_type": "code",
   "execution_count": null,
   "metadata": {},
   "outputs": [],
   "source": [
    "pca_value = 6\n",
    "pi_value = 0.1\n",
    "lam_value = 1e-4\n",
    "dis_kfold(DTR, LTR, pca_value, pi_value, lam_value, quadratic_logistic_regression, \"Quadratic Logistic Regression\")"
   ]
  },
  {
   "cell_type": "markdown",
   "metadata": {},
   "source": [
    "PCA = 6, &pi; = 0.1, &lambda; = 1e-3"
   ]
  },
  {
   "cell_type": "code",
   "execution_count": null,
   "metadata": {},
   "outputs": [],
   "source": [
    "pca_value = 6\n",
    "pi_value = 0.1\n",
    "lam_value = 1e-3\n",
    "dis_kfold(DTR, LTR, pca_value, pi_value, lam_value, quadratic_logistic_regression, \"Quadratic Logistic Regression\")"
   ]
  },
  {
   "cell_type": "markdown",
   "metadata": {},
   "source": [
    "PCA = 6, &pi; = 0.1, &lambda; = 1e-2"
   ]
  },
  {
   "cell_type": "code",
   "execution_count": null,
   "metadata": {},
   "outputs": [],
   "source": [
    "pca_value = 6\n",
    "pi_value = 0.1\n",
    "lam_value = 1e-2\n",
    "dis_kfold(DTR, LTR, pca_value, pi_value, lam_value, quadratic_logistic_regression, \"Quadratic Logistic Regression\")"
   ]
  },
  {
   "cell_type": "markdown",
   "metadata": {},
   "source": [
    "PCA = 6, &pi; = 0.1, &lambda; = 1e-1"
   ]
  },
  {
   "cell_type": "code",
   "execution_count": null,
   "metadata": {},
   "outputs": [],
   "source": [
    "pca_value = 6\n",
    "pi_value = 0.1\n",
    "lam_value = 1e-1\n",
    "dis_kfold(DTR, LTR, pca_value, pi_value, lam_value, quadratic_logistic_regression, \"Quadratic Logistic Regression\")"
   ]
  },
  {
   "cell_type": "markdown",
   "metadata": {},
   "source": [
    "PCA = 6, &pi; = 0.1, &lambda; = 1.0"
   ]
  },
  {
   "cell_type": "code",
   "execution_count": null,
   "metadata": {},
   "outputs": [],
   "source": [
    "pca_value = 6\n",
    "pi_value = 0.1\n",
    "lam_value = 1.0\n",
    "dis_kfold(DTR, LTR, pca_value, pi_value, lam_value, quadratic_logistic_regression, \"Quadratic Logistic Regression\")"
   ]
  },
  {
   "cell_type": "markdown",
   "metadata": {},
   "source": [
    "PCA = 6, &pi; = 0.1, &lambda; = 10.0"
   ]
  },
  {
   "cell_type": "code",
   "execution_count": null,
   "metadata": {},
   "outputs": [],
   "source": [
    "pca_value = 6\n",
    "pi_value = 0.1\n",
    "lam_value = 10.0\n",
    "dis_kfold(DTR, LTR, pca_value, pi_value, lam_value, quadratic_logistic_regression, \"Quadratic Logistic Regression\")"
   ]
  },
  {
   "cell_type": "markdown",
   "metadata": {},
   "source": [
    "PCA = 6, &pi; = 0.1, &lambda; = 100.0"
   ]
  },
  {
   "cell_type": "code",
   "execution_count": null,
   "metadata": {},
   "outputs": [],
   "source": [
    "pca_value = 6\n",
    "pi_value = 0.1\n",
    "lam_value = 100.0\n",
    "dis_kfold(DTR, LTR, pca_value, pi_value, lam_value, quadratic_logistic_regression, \"Quadratic Logistic Regression\")"
   ]
  },
  {
   "cell_type": "markdown",
   "metadata": {},
   "source": [
    "PCA = 6, &pi; = 0.5, &lambda; = 1e-6"
   ]
  },
  {
   "cell_type": "code",
   "execution_count": null,
   "metadata": {},
   "outputs": [],
   "source": [
    "pca_value = 6\n",
    "pi_value = 0.5\n",
    "lam_value = 1e-6\n",
    "dis_kfold(DTR, LTR, pca_value, pi_value, lam_value, quadratic_logistic_regression, \"Quadratic Logistic Regression\")"
   ]
  },
  {
   "cell_type": "markdown",
   "metadata": {},
   "source": [
    "PCA = 6, &pi; = 0.5, &lambda; = 1e-5"
   ]
  },
  {
   "cell_type": "code",
   "execution_count": null,
   "metadata": {},
   "outputs": [],
   "source": [
    "pca_value = 6\n",
    "pi_value = 0.5\n",
    "lam_value = 1e-5\n",
    "dis_kfold(DTR, LTR, pca_value, pi_value, lam_value, quadratic_logistic_regression, \"Quadratic Logistic Regression\")"
   ]
  },
  {
   "cell_type": "markdown",
   "metadata": {},
   "source": [
    "PCA = 6, &pi; = 0.5, &lambda; = 1e-4"
   ]
  },
  {
   "cell_type": "code",
   "execution_count": null,
   "metadata": {},
   "outputs": [],
   "source": [
    "pca_value = 6\n",
    "pi_value = 0.5\n",
    "lam_value = 1e-4\n",
    "dis_kfold(DTR, LTR, pca_value, pi_value, lam_value, quadratic_logistic_regression, \"Quadratic Logistic Regression\")"
   ]
  },
  {
   "cell_type": "markdown",
   "metadata": {},
   "source": [
    "PCA = 6, &pi; = 0.5, &lambda; = 1e-3"
   ]
  },
  {
   "cell_type": "code",
   "execution_count": null,
   "metadata": {},
   "outputs": [],
   "source": [
    "pca_value = 6\n",
    "pi_value = 0.5\n",
    "lam_value = 1e-3\n",
    "dis_kfold(DTR, LTR, pca_value, pi_value, lam_value, quadratic_logistic_regression, \"Quadratic Logistic Regression\")"
   ]
  },
  {
   "cell_type": "markdown",
   "metadata": {},
   "source": [
    "PCA = 6, &pi; = 0.5, &lambda; = 1e-2"
   ]
  },
  {
   "cell_type": "code",
   "execution_count": null,
   "metadata": {},
   "outputs": [],
   "source": [
    "pca_value = 6\n",
    "pi_value = 0.5\n",
    "lam_value = 1e-2\n",
    "dis_kfold(DTR, LTR, pca_value, pi_value, lam_value, quadratic_logistic_regression, \"Quadratic Logistic Regression\")"
   ]
  },
  {
   "cell_type": "markdown",
   "metadata": {},
   "source": [
    "PCA = 6, &pi; = 0.5, &lambda; = 1e-1"
   ]
  },
  {
   "cell_type": "code",
   "execution_count": null,
   "metadata": {},
   "outputs": [],
   "source": [
    "pca_value = 6\n",
    "pi_value = 0.5\n",
    "lam_value = 1e-1\n",
    "dis_kfold(DTR, LTR, pca_value, pi_value, lam_value, quadratic_logistic_regression, \"Quadratic Logistic Regression\")"
   ]
  },
  {
   "cell_type": "markdown",
   "metadata": {},
   "source": [
    "PCA = 6, &pi; = 0.5, &lambda; = 1.0"
   ]
  },
  {
   "cell_type": "code",
   "execution_count": null,
   "metadata": {},
   "outputs": [],
   "source": [
    "pca_value = 6\n",
    "pi_value = 0.5\n",
    "lam_value = 1.0\n",
    "dis_kfold(DTR, LTR, pca_value, pi_value, lam_value, quadratic_logistic_regression, \"Quadratic Logistic Regression\")"
   ]
  },
  {
   "cell_type": "markdown",
   "metadata": {},
   "source": [
    "PCA = 6, &pi; = 0.5, &lambda; = 10.0"
   ]
  },
  {
   "cell_type": "code",
   "execution_count": null,
   "metadata": {},
   "outputs": [],
   "source": [
    "pca_value = 6\n",
    "pi_value = 0.5\n",
    "lam_value = 10.0\n",
    "dis_kfold(DTR, LTR, pca_value, pi_value, lam_value, quadratic_logistic_regression, \"Quadratic Logistic Regression\")"
   ]
  },
  {
   "cell_type": "markdown",
   "metadata": {},
   "source": [
    "PCA = 6, &pi; = 0.5, &lambda; = 100.0"
   ]
  },
  {
   "cell_type": "code",
   "execution_count": null,
   "metadata": {},
   "outputs": [],
   "source": [
    "pca_value = 6\n",
    "pi_value = 0.5\n",
    "lam_value = 100.0\n",
    "dis_kfold(DTR, LTR, pca_value, pi_value, lam_value, quadratic_logistic_regression, \"Quadratic Logistic Regression\")"
   ]
  },
  {
   "cell_type": "markdown",
   "metadata": {},
   "source": [
    "PCA = 6, &pi; = 0.9, &lambda; = 1e-6"
   ]
  },
  {
   "cell_type": "code",
   "execution_count": null,
   "metadata": {},
   "outputs": [],
   "source": [
    "pca_value = 6\n",
    "pi_value = 0.9\n",
    "lam_value = 1e-6\n",
    "dis_kfold(DTR, LTR, pca_value, pi_value, lam_value, quadratic_logistic_regression, \"Quadratic Logistic Regression\")"
   ]
  },
  {
   "cell_type": "markdown",
   "metadata": {},
   "source": [
    "PCA = 6, &pi; = 0.9, &lambda; = 1e-5"
   ]
  },
  {
   "cell_type": "code",
   "execution_count": null,
   "metadata": {},
   "outputs": [],
   "source": [
    "pca_value = 6\n",
    "pi_value = 0.9\n",
    "lam_value = 1e-5\n",
    "dis_kfold(DTR, LTR, pca_value, pi_value, lam_value, quadratic_logistic_regression, \"Quadratic Logistic Regression\")"
   ]
  },
  {
   "cell_type": "markdown",
   "metadata": {},
   "source": [
    "PCA = 6, &pi; = 0.9, &lambda; = 1e-4"
   ]
  },
  {
   "cell_type": "code",
   "execution_count": null,
   "metadata": {},
   "outputs": [],
   "source": [
    "pca_value = 6\n",
    "pi_value = 0.9\n",
    "lam_value = 1e-4\n",
    "dis_kfold(DTR, LTR, pca_value, pi_value, lam_value, quadratic_logistic_regression, \"Quadratic Logistic Regression\")"
   ]
  },
  {
   "cell_type": "markdown",
   "metadata": {},
   "source": [
    "PCA = 6, &pi; = 0.9, &lambda; = 1e-3"
   ]
  },
  {
   "cell_type": "code",
   "execution_count": null,
   "metadata": {},
   "outputs": [],
   "source": [
    "pca_value = 6\n",
    "pi_value = 0.9\n",
    "lam_value = 1e-3\n",
    "dis_kfold(DTR, LTR, pca_value, pi_value, lam_value, quadratic_logistic_regression, \"Quadratic Logistic Regression\")"
   ]
  },
  {
   "cell_type": "markdown",
   "metadata": {},
   "source": [
    "PCA = 6, &pi; = 0.9, &lambda; = 1e-2"
   ]
  },
  {
   "cell_type": "code",
   "execution_count": null,
   "metadata": {},
   "outputs": [],
   "source": [
    "pca_value = 6\n",
    "pi_value = 0.9\n",
    "lam_value = 1e-2\n",
    "dis_kfold(DTR, LTR, pca_value, pi_value, lam_value, quadratic_logistic_regression, \"Quadratic Logistic Regression\")"
   ]
  },
  {
   "cell_type": "markdown",
   "metadata": {},
   "source": [
    "PCA = 6, &pi; = 0.9, &lambda; = 1e-1"
   ]
  },
  {
   "cell_type": "code",
   "execution_count": null,
   "metadata": {},
   "outputs": [],
   "source": [
    "pca_value = 6\n",
    "pi_value = 0.9\n",
    "lam_value = 1e-1\n",
    "dis_kfold(DTR, LTR, pca_value, pi_value, lam_value, quadratic_logistic_regression, \"Quadratic Logistic Regression\")"
   ]
  },
  {
   "cell_type": "markdown",
   "metadata": {},
   "source": [
    "PCA = 6, &pi; = 0.9, &lambda; = 1.0"
   ]
  },
  {
   "cell_type": "code",
   "execution_count": null,
   "metadata": {},
   "outputs": [],
   "source": [
    "pca_value = 6\n",
    "pi_value = 0.9\n",
    "lam_value = 1.0\n",
    "dis_kfold(DTR, LTR, pca_value, pi_value, lam_value, quadratic_logistic_regression, \"Quadratic Logistic Regression\")"
   ]
  },
  {
   "cell_type": "markdown",
   "metadata": {},
   "source": [
    "PCA = 6, &pi; = 0.9, &lambda; = 10.0"
   ]
  },
  {
   "cell_type": "code",
   "execution_count": null,
   "metadata": {},
   "outputs": [],
   "source": [
    "pca_value = 6\n",
    "pi_value = 0.9\n",
    "lam_value = 10.0\n",
    "dis_kfold(DTR, LTR, pca_value, pi_value, lam_value, quadratic_logistic_regression, \"Quadratic Logistic Regression\")"
   ]
  },
  {
   "cell_type": "markdown",
   "metadata": {},
   "source": [
    "PCA = 6, &pi; = 0.9, &lambda; = 100.0"
   ]
  },
  {
   "cell_type": "code",
   "execution_count": null,
   "metadata": {},
   "outputs": [],
   "source": [
    "pca_value = 6\n",
    "pi_value = 0.9\n",
    "lam_value = 100.0\n",
    "dis_kfold(DTR, LTR, pca_value, pi_value, lam_value, quadratic_logistic_regression, \"Quadratic Logistic Regression\")"
   ]
  },
  {
   "cell_type": "markdown",
   "metadata": {},
   "source": [
    "PCA = 5, &pi; = 0.1, &lambda; = 1e-6"
   ]
  },
  {
   "cell_type": "code",
   "execution_count": null,
   "metadata": {},
   "outputs": [],
   "source": [
    "pca_value = 5\n",
    "pi_value = 0.1\n",
    "lam_value = 1e-6\n",
    "dis_kfold(DTR, LTR, pca_value, pi_value, lam_value, quadratic_logistic_regression, \"Quadratic Logistic Regression\")"
   ]
  },
  {
   "cell_type": "markdown",
   "metadata": {},
   "source": [
    "PCA = 5, &pi; = 0.1, &lambda; = 1e-5"
   ]
  },
  {
   "cell_type": "code",
   "execution_count": null,
   "metadata": {},
   "outputs": [],
   "source": [
    "pca_value = 5\n",
    "pi_value = 0.1\n",
    "lam_value = 1e-5\n",
    "dis_kfold(DTR, LTR, pca_value, pi_value, lam_value, quadratic_logistic_regression, \"Quadratic Logistic Regression\")"
   ]
  },
  {
   "cell_type": "markdown",
   "metadata": {},
   "source": [
    "PCA = 5, &pi; = 0.1, &lambda; = 1e-4"
   ]
  },
  {
   "cell_type": "code",
   "execution_count": null,
   "metadata": {},
   "outputs": [],
   "source": [
    "pca_value = 5\n",
    "pi_value = 0.1\n",
    "lam_value = 1e-4\n",
    "dis_kfold(DTR, LTR, pca_value, pi_value, lam_value, quadratic_logistic_regression, \"Quadratic Logistic Regression\")"
   ]
  },
  {
   "cell_type": "markdown",
   "metadata": {},
   "source": [
    "PCA = 5, &pi; = 0.1, &lambda; = 1e-3"
   ]
  },
  {
   "cell_type": "code",
   "execution_count": null,
   "metadata": {},
   "outputs": [],
   "source": [
    "pca_value = 5\n",
    "pi_value = 0.1\n",
    "lam_value = 1e-3\n",
    "dis_kfold(DTR, LTR, pca_value, pi_value, lam_value, quadratic_logistic_regression, \"Quadratic Logistic Regression\")"
   ]
  },
  {
   "cell_type": "markdown",
   "metadata": {},
   "source": [
    "PCA = 5, &pi; = 0.1, &lambda; = 1e-2"
   ]
  },
  {
   "cell_type": "code",
   "execution_count": null,
   "metadata": {},
   "outputs": [],
   "source": [
    "pca_value = 5\n",
    "pi_value = 0.1\n",
    "lam_value = 1e-2\n",
    "dis_kfold(DTR, LTR, pca_value, pi_value, lam_value, quadratic_logistic_regression, \"Quadratic Logistic Regression\")"
   ]
  },
  {
   "cell_type": "markdown",
   "metadata": {},
   "source": [
    "PCA = 5, &pi; = 0.1, &lambda; = 1e-1"
   ]
  },
  {
   "cell_type": "code",
   "execution_count": null,
   "metadata": {},
   "outputs": [],
   "source": [
    "pca_value = 5\n",
    "pi_value = 0.1\n",
    "lam_value = 1e-1\n",
    "dis_kfold(DTR, LTR, pca_value, pi_value, lam_value, quadratic_logistic_regression, \"Quadratic Logistic Regression\")"
   ]
  },
  {
   "cell_type": "markdown",
   "metadata": {},
   "source": [
    "PCA = 5, &pi; = 0.1, &lambda; = 1.0"
   ]
  },
  {
   "cell_type": "code",
   "execution_count": null,
   "metadata": {},
   "outputs": [],
   "source": [
    "pca_value = 5\n",
    "pi_value = 0.1\n",
    "lam_value = 1.0\n",
    "dis_kfold(DTR, LTR, pca_value, pi_value, lam_value, quadratic_logistic_regression, \"Quadratic Logistic Regression\")"
   ]
  },
  {
   "cell_type": "markdown",
   "metadata": {},
   "source": [
    "PCA = 5, &pi; = 0.1, &lambda; = 10.0"
   ]
  },
  {
   "cell_type": "code",
   "execution_count": null,
   "metadata": {},
   "outputs": [],
   "source": [
    "pca_value = 5\n",
    "pi_value = 0.1\n",
    "lam_value = 10.0\n",
    "dis_kfold(DTR, LTR, pca_value, pi_value, lam_value, quadratic_logistic_regression, \"Quadratic Logistic Regression\")"
   ]
  },
  {
   "cell_type": "markdown",
   "metadata": {},
   "source": [
    "PCA = 5, &pi; = 0.1, &lambda; = 100.0"
   ]
  },
  {
   "cell_type": "code",
   "execution_count": null,
   "metadata": {},
   "outputs": [],
   "source": [
    "pca_value = 5\n",
    "pi_value = 0.1\n",
    "lam_value = 100.0\n",
    "dis_kfold(DTR, LTR, pca_value, pi_value, lam_value, quadratic_logistic_regression, \"Quadratic Logistic Regression\")"
   ]
  },
  {
   "cell_type": "markdown",
   "metadata": {},
   "source": [
    "PCA = 5, &pi; = 0.5, &lambda; = 1e-6"
   ]
  },
  {
   "cell_type": "code",
   "execution_count": null,
   "metadata": {},
   "outputs": [],
   "source": [
    "pca_value = 5\n",
    "pi_value = 0.5\n",
    "lam_value = 1e-6\n",
    "dis_kfold(DTR, LTR, pca_value, pi_value, lam_value, quadratic_logistic_regression, \"Quadratic Logistic Regression\")"
   ]
  },
  {
   "cell_type": "markdown",
   "metadata": {},
   "source": [
    "PCA = 5, &pi; = 0.5, &lambda; = 1e-5"
   ]
  },
  {
   "cell_type": "code",
   "execution_count": null,
   "metadata": {},
   "outputs": [],
   "source": [
    "pca_value = 5\n",
    "pi_value = 0.5\n",
    "lam_value = 1e-5\n",
    "dis_kfold(DTR, LTR, pca_value, pi_value, lam_value, quadratic_logistic_regression, \"Quadratic Logistic Regression\")"
   ]
  },
  {
   "cell_type": "markdown",
   "metadata": {},
   "source": [
    "PCA = 5, &pi; = 0.5, &lambda; = 1e-4"
   ]
  },
  {
   "cell_type": "code",
   "execution_count": null,
   "metadata": {},
   "outputs": [],
   "source": [
    "pca_value = 5\n",
    "pi_value = 0.5\n",
    "lam_value = 1e-4\n",
    "dis_kfold(DTR, LTR, pca_value, pi_value, lam_value, quadratic_logistic_regression, \"Quadratic Logistic Regression\")"
   ]
  },
  {
   "cell_type": "markdown",
   "metadata": {},
   "source": [
    "PCA = 5, &pi; = 0.5, &lambda; = 1e-3"
   ]
  },
  {
   "cell_type": "code",
   "execution_count": null,
   "metadata": {},
   "outputs": [],
   "source": [
    "pca_value = 5\n",
    "pi_value = 0.5\n",
    "lam_value = 1e-3\n",
    "dis_kfold(DTR, LTR, pca_value, pi_value, lam_value, quadratic_logistic_regression, \"Quadratic Logistic Regression\")"
   ]
  },
  {
   "cell_type": "markdown",
   "metadata": {},
   "source": [
    "PCA = 5, &pi; = 0.5, &lambda; = 1e-2"
   ]
  },
  {
   "cell_type": "code",
   "execution_count": null,
   "metadata": {},
   "outputs": [],
   "source": [
    "pca_value = 5\n",
    "pi_value = 0.5\n",
    "lam_value = 1e-2\n",
    "dis_kfold(DTR, LTR, pca_value, pi_value, lam_value, quadratic_logistic_regression, \"Quadratic Logistic Regression\")"
   ]
  },
  {
   "cell_type": "markdown",
   "metadata": {},
   "source": [
    "PCA = 5, &pi; = 0.5, &lambda; = 1e-1"
   ]
  },
  {
   "cell_type": "code",
   "execution_count": null,
   "metadata": {},
   "outputs": [],
   "source": [
    "pca_value = 5\n",
    "pi_value = 0.5\n",
    "lam_value = 1e-1\n",
    "dis_kfold(DTR, LTR, pca_value, pi_value, lam_value, quadratic_logistic_regression, \"Quadratic Logistic Regression\")"
   ]
  },
  {
   "cell_type": "markdown",
   "metadata": {},
   "source": [
    "PCA = 5, &pi; = 0.5, &lambda; = 1.0"
   ]
  },
  {
   "cell_type": "code",
   "execution_count": null,
   "metadata": {},
   "outputs": [],
   "source": [
    "pca_value = 5\n",
    "pi_value = 0.5\n",
    "lam_value = 1.0\n",
    "dis_kfold(DTR, LTR, pca_value, pi_value, lam_value, quadratic_logistic_regression, \"Quadratic Logistic Regression\")"
   ]
  },
  {
   "cell_type": "markdown",
   "metadata": {},
   "source": [
    "PCA = 5, &pi; = 0.5, &lambda; = 10.0"
   ]
  },
  {
   "cell_type": "code",
   "execution_count": null,
   "metadata": {},
   "outputs": [],
   "source": [
    "pca_value = 5\n",
    "pi_value = 0.5\n",
    "lam_value = 10.0\n",
    "dis_kfold(DTR, LTR, pca_value, pi_value, lam_value, quadratic_logistic_regression, \"Quadratic Logistic Regression\")"
   ]
  },
  {
   "cell_type": "markdown",
   "metadata": {},
   "source": [
    "PCA = 5, &pi; = 0.5, &lambda; = 100.0"
   ]
  },
  {
   "cell_type": "code",
   "execution_count": null,
   "metadata": {},
   "outputs": [],
   "source": [
    "pca_value = 5\n",
    "pi_value = 0.5\n",
    "lam_value = 100.0\n",
    "dis_kfold(DTR, LTR, pca_value, pi_value, lam_value, quadratic_logistic_regression, \"Quadratic Logistic Regression\")"
   ]
  },
  {
   "cell_type": "markdown",
   "metadata": {},
   "source": [
    "PCA = 5, &pi; = 0.9, &lambda; = 1e-6"
   ]
  },
  {
   "cell_type": "code",
   "execution_count": null,
   "metadata": {},
   "outputs": [],
   "source": [
    "pca_value = 5\n",
    "pi_value = 0.9\n",
    "lam_value = 1e-6\n",
    "dis_kfold(DTR, LTR, pca_value, pi_value, lam_value, quadratic_logistic_regression, \"Quadratic Logistic Regression\")"
   ]
  },
  {
   "cell_type": "markdown",
   "metadata": {},
   "source": [
    "PCA = 5, &pi; = 0.9, &lambda; = 1e-5"
   ]
  },
  {
   "cell_type": "code",
   "execution_count": null,
   "metadata": {},
   "outputs": [],
   "source": [
    "pca_value = 5\n",
    "pi_value = 0.9\n",
    "lam_value = 1e-5\n",
    "dis_kfold(DTR, LTR, pca_value, pi_value, lam_value, quadratic_logistic_regression, \"Quadratic Logistic Regression\")"
   ]
  },
  {
   "cell_type": "markdown",
   "metadata": {},
   "source": [
    "PCA = 5, &pi; = 0.9, &lambda; = 1e-4"
   ]
  },
  {
   "cell_type": "code",
   "execution_count": null,
   "metadata": {},
   "outputs": [],
   "source": [
    "pca_value = 5\n",
    "pi_value = 0.9\n",
    "lam_value = 1e-4\n",
    "dis_kfold(DTR, LTR, pca_value, pi_value, lam_value, quadratic_logistic_regression, \"Quadratic Logistic Regression\")"
   ]
  },
  {
   "cell_type": "markdown",
   "metadata": {},
   "source": [
    "PCA = 5, &pi; = 0.9, &lambda; = 1e-3"
   ]
  },
  {
   "cell_type": "code",
   "execution_count": null,
   "metadata": {},
   "outputs": [],
   "source": [
    "pca_value = 5\n",
    "pi_value = 0.9\n",
    "lam_value = 1e-3\n",
    "dis_kfold(DTR, LTR, pca_value, pi_value, lam_value, quadratic_logistic_regression, \"Quadratic Logistic Regression\")"
   ]
  },
  {
   "cell_type": "markdown",
   "metadata": {},
   "source": [
    "PCA = 5, &pi; = 0.9, &lambda; = 1e-2"
   ]
  },
  {
   "cell_type": "code",
   "execution_count": null,
   "metadata": {},
   "outputs": [],
   "source": [
    "pca_value = 5\n",
    "pi_value = 0.9\n",
    "lam_value = 1e-2\n",
    "dis_kfold(DTR, LTR, pca_value, pi_value, lam_value, quadratic_logistic_regression, \"Quadratic Logistic Regression\")"
   ]
  },
  {
   "cell_type": "markdown",
   "metadata": {},
   "source": [
    "PCA = 5, &pi; = 0.9, &lambda; = 1e-1"
   ]
  },
  {
   "cell_type": "code",
   "execution_count": null,
   "metadata": {},
   "outputs": [],
   "source": [
    "pca_value = 5\n",
    "pi_value = 0.9\n",
    "lam_value = 1e-1\n",
    "dis_kfold(DTR, LTR, pca_value, pi_value, lam_value, quadratic_logistic_regression, \"Quadratic Logistic Regression\")"
   ]
  },
  {
   "cell_type": "markdown",
   "metadata": {},
   "source": [
    "PCA = 5, &pi; = 0.9, &lambda; = 1.0"
   ]
  },
  {
   "cell_type": "code",
   "execution_count": null,
   "metadata": {},
   "outputs": [],
   "source": [
    "pca_value = 5\n",
    "pi_value = 0.9\n",
    "lam_value = 1.0\n",
    "dis_kfold(DTR, LTR, pca_value, pi_value, lam_value, quadratic_logistic_regression, \"Quadratic Logistic Regression\")"
   ]
  },
  {
   "cell_type": "markdown",
   "metadata": {},
   "source": [
    "PCA = 5, &pi; = 0.9, &lambda; = 10.0"
   ]
  },
  {
   "cell_type": "code",
   "execution_count": null,
   "metadata": {},
   "outputs": [],
   "source": [
    "pca_value = 5\n",
    "pi_value = 0.9\n",
    "lam_value = 10.0\n",
    "dis_kfold(DTR, LTR, pca_value, pi_value, lam_value, quadratic_logistic_regression, \"Quadratic Logistic Regression\")"
   ]
  },
  {
   "cell_type": "markdown",
   "metadata": {},
   "source": [
    "PCA = 5, &pi; = 0.9, &lambda; = 100.0"
   ]
  },
  {
   "cell_type": "code",
   "execution_count": null,
   "metadata": {},
   "outputs": [],
   "source": [
    "pca_value = 5\n",
    "pi_value = 0.9\n",
    "lam_value = 100.0\n",
    "dis_kfold(DTR, LTR, pca_value, pi_value, lam_value, quadratic_logistic_regression, \"Quadratic Logistic Regression\")"
   ]
  }
 ],
 "metadata": {
  "kernelspec": {
   "display_name": "Python 3",
   "language": "python",
   "name": "python3"
  },
  "language_info": {
   "codemirror_mode": {
    "name": "ipython",
    "version": 3
   },
   "file_extension": ".py",
   "mimetype": "text/x-python",
   "name": "python",
   "nbconvert_exporter": "python",
   "pygments_lexer": "ipython3",
   "version": "3.10.12"
  }
 },
 "nbformat": 4,
 "nbformat_minor": 2
}
